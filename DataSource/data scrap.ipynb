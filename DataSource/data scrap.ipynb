{
  "cells": [
    {
      "cell_type": "code",
      "execution_count": null,
      "metadata": {
        "id": "pKo03UB_-jlN"
      },
      "outputs": [],
      "source": [
        "from urllib.request import urlopen\n",
        "from urllib.parse import urlparse\n",
        "from bs4 import BeautifulSoup\n",
        "from google.colab import drive\n",
        "from collections import Counter\n",
        "import collections\n",
        "import requests\n",
        "import pandas as pd\n",
        "import sys\n",
        "import time\n",
        "import json\n",
        "import traceback\n",
        "import re\n",
        "import json\n",
        "import numpy as np"
      ]
    },
    {
      "cell_type": "code",
      "execution_count": null,
      "metadata": {
        "id": "XJaff9Gm-kt5"
      },
      "outputs": [],
      "source": [
        "headers = {'User-Agent': 'Mozilla/5.0 (Windows NT 10.0; Win64; x64) AppleWebKit/537.36 (KHTML, like Gecko) Chrome/87.0.4280.88 Safari/537.36', 'sec-ch-ua': '\"Google Chrome\";v=\"87\", \" Not;A Brand\";v=\"99\", \"Chromium\";v=\"87\"', 'sec-ch-ua-mobile': '?0', 'Upgrade-Insecure-Requests': '1'}#,'cookie' : cookie }"
      ]
    },
    {
      "cell_type": "code",
      "execution_count": null,
      "metadata": {
        "id": "32ZO2QstHSSG"
      },
      "outputs": [],
      "source": [
        "available_products=['Mobiles']\n",
        "product=available_products[0]\n",
        "final_csv_file='scraped_data_'+product.lower()+'_full_csv.csv'\n",
        "urls_csv=product.lower()+'urls.csv'\n",
        "scraped_json='scraped_data_'+product.lower()+'.json'"
      ]
    },
    {
      "cell_type": "code",
      "execution_count": null,
      "metadata": {
        "id": "jE7k27W2siGm"
      },
      "outputs": [],
      "source": [
        "urll='https://gadgets.ndtv.com/brand/brand-details?isajax=1&category='+product+'&page='\n",
        "listt=[]\n",
        "for j in range(100):\n",
        "  try:\n",
        "    page = requests.get(urll+str(j+1),headers=headers)\n",
        "    soup = BeautifulSoup(page.content, 'html.parser')\n",
        "    pd_name = soup.find_all('a')\n",
        "    pd_name=[l for l in pd_name]\n",
        "    links_list=[]\n",
        "    for k in pd_name:\n",
        "      try:\n",
        "        links_list.append(k['href'])\n",
        "      except:\n",
        "        pass\n",
        "    listt=listt+links_list\n",
        "  except:\n",
        "    traceback.print_exc()\n",
        "    pass\n",
        "listt=list(set(listt))\n",
        "pd.DataFrame({'urls':listt}).to_csv(urls_csv, index=False)"
      ]
    },
    {
      "cell_type": "code",
      "execution_count": null,
      "metadata": {
        "colab": {
          "base_uri": "https://localhost:8080/"
        },
        "id": "svuP7ky68RNj",
        "outputId": "cd8d3621-63dc-4c28-c8eb-b5a6af5f1bb4"
      },
      "outputs": [
        {
          "data": {
            "text/plain": [
              "Index(['urls'], dtype='object')"
            ]
          },
          "execution_count": 5,
          "metadata": {},
          "output_type": "execute_result"
        }
      ],
      "source": [
        "urlss=pd.read_csv(urls_csv)\n",
        "urlss.columns"
      ]
    },
    {
      "cell_type": "code",
      "execution_count": null,
      "metadata": {
        "colab": {
          "base_uri": "https://localhost:8080/"
        },
        "id": "X65XrOR4FecL",
        "outputId": "63a726e2-c647-435a-a6f3-f1def4e6a139"
      },
      "outputs": [
        {
          "name": "stdout",
          "output_type": "stream",
          "text": [
            "4800\n",
            "['https://www.gadgets360.com/tambo-ta-3-5769', 'https://www.gadgets360.com/lenovo-vibe-p1-turbo-3281', 'https://www.gadgets360.com/intex-aqua-trend-lite-4066', 'https://www.gadgets360.com/samsung-galaxy-a20s-price-in-india-91108', 'https://www.gadgets360.com/oneplus-9rt-price-in-india-103968', 'https://www.gadgets360.com/ringing-bells-freedom-251-3296', 'https://www.gadgets360.com/infocus-turbo-5-plus-4403', 'https://www.gadgets360.com/poco-c50-price-in-india-115072', 'https://www.gadgets360.com/samsung-galaxy-j1-mini-3368', 'https://www.gadgets360.com/samsung-galaxy-a7-2016-3149']\n"
          ]
        }
      ],
      "source": [
        "print(len(urlss['urls']))\n",
        "print(list(urlss['urls'][:10]))"
      ]
    },
    {
      "cell_type": "code",
      "execution_count": null,
      "metadata": {
        "id": "4PqO6ykg8FE9"
      },
      "outputs": [],
      "source": [
        "def Merge(dict1, dict2):\n",
        "    res = {**dict1, **dict2}\n",
        "    return res"
      ]
    },
    {
      "cell_type": "code",
      "execution_count": null,
      "metadata": {
        "colab": {
          "background_save": true,
          "base_uri": "https://localhost:8080/"
        },
        "id": "hWsH5wA4-UzX",
        "outputId": "45a6119d-b903-4c54-bd62-3ed5bb28b6f9"
      },
      "outputs": [
        {
          "name": "stdout",
          "output_type": "stream",
          "text": [
            "10\n",
            "20\n",
            "30\n",
            "40\n",
            "50\n",
            "60\n",
            "70\n",
            "80\n",
            "90\n",
            "100\n",
            "110\n",
            "120\n",
            "130\n",
            "140\n",
            "150\n"
          ]
        },
        {
          "name": "stderr",
          "output_type": "stream",
          "text": [
            "WARNING:bs4.dammit:Some characters could not be decoded, and were replaced with REPLACEMENT CHARACTER.\n"
          ]
        },
        {
          "name": "stdout",
          "output_type": "stream",
          "text": [
            "160\n",
            "170\n",
            "180\n",
            "190\n",
            "200\n",
            "210\n",
            "220\n",
            "230\n",
            "240\n",
            "250\n",
            "260\n"
          ]
        },
        {
          "name": "stderr",
          "output_type": "stream",
          "text": [
            "WARNING:bs4.dammit:Some characters could not be decoded, and were replaced with REPLACEMENT CHARACTER.\n"
          ]
        },
        {
          "name": "stdout",
          "output_type": "stream",
          "text": [
            "270\n",
            "280\n",
            "290\n",
            "300\n",
            "310\n",
            "320\n",
            "330\n",
            "340\n",
            "350\n",
            "360\n",
            "370\n",
            "380\n",
            "390\n",
            "400\n",
            "410\n",
            "420\n",
            "430\n",
            "440\n",
            "450\n",
            "460\n"
          ]
        },
        {
          "name": "stderr",
          "output_type": "stream",
          "text": [
            "WARNING:bs4.dammit:Some characters could not be decoded, and were replaced with REPLACEMENT CHARACTER.\n"
          ]
        },
        {
          "name": "stdout",
          "output_type": "stream",
          "text": [
            "470\n",
            "480\n",
            "490\n",
            "500\n",
            "510\n",
            "520\n",
            "530\n",
            "540\n",
            "550\n",
            "560\n",
            "570\n"
          ]
        }
      ],
      "source": [
        "items_list=[]\n",
        "counter=0\n",
        "for i in list(urlss['urls']):\n",
        "  counter=counter+1\n",
        "  if(counter%10==0):\n",
        "    print(counter)\n",
        "  try:\n",
        "    pagee=requests.get(i,headers=headers)\n",
        "    dfs = pd.read_html(pagee.text)\n",
        "    df = pd.concat(dfs)\n",
        "    # if ((True) in list(df[0]=='Genre')): ## to exclude games and include only gaming consoles in games category\n",
        "    #   continue\n",
        "    df=df.reset_index().drop(['index'], axis=1)\n",
        "    details=df[[0,1]].dropna().reset_index().drop(['index'], axis=1)\n",
        "    for j in range(len(details[0])):\n",
        "      if(details[0][j]==details[1][j]):\n",
        "        details=details.drop(j)\n",
        "    details=details.reset_index().drop(['index'], axis=1)\n",
        "    m=details[0]\n",
        "    d = {a:list(range(1, b+1)) if b>1 else '' for a,b in Counter(m).items()} # use this line to differentiate multiple attributes with same name for categories except mobile category\n",
        "    # details[0]=['Sim '+str(d[x].pop(0))+' '+x if len(d[x]) else x for x in m] # to differentiate sim details for multiple sim mobiles in mobile categry\n",
        "    details[0]=[x+' '+str(d[x].pop(0)) if len(d[x]) else x for x in m]\n",
        "    det_dict=dict()\n",
        "    for k in range(len(details[0])):\n",
        "      det_dict[details[0][k]]=details[1][k]\n",
        "\n",
        "    soup = BeautifulSoup(pagee.content, 'html.parser')\n",
        "    try:\n",
        "      star_cols = soup.find_all('span', attrs={'class': '_rbtxt'})\n",
        "      star_cols=[str(s.text).replace('★', 'Stars') for s in star_cols]\n",
        "      star_cent = soup.find_all('div', attrs={'class': '_rprg'})\n",
        "      star_cent=[re.search('style=\"width:(.*)%; background', str(c)).group(1) for c in star_cent]\n",
        "      for l in range(len(star_cent)):\n",
        "        det_dict[star_cols[l]]=star_cent[l]\n",
        "    except:\n",
        "      print('exception')\n",
        "      print(star_cols)\n",
        "      traceback.print_exc()\n",
        "      pass\n",
        "    try:\n",
        "      tot_rat = soup.find('span', attrs={'class': '_rvwtxt'})\n",
        "      tot_rat=re.search('class=\"_rvwtxt\">(.*) ratings  &amp;<', str(tot_rat)).group(1)\n",
        "      det_dict['Total Ratings']=tot_rat\n",
        "    except:\n",
        "      pass\n",
        "    try:\n",
        "      picture = soup.find('picture')\n",
        "      picture=re.search('<source srcset=\"(.*)\" type=\"', str(picture)).group(1)\n",
        "      det_dict['Picture URL']=picture\n",
        "    except:\n",
        "      pass\n",
        "    det_dict['url']=i\n",
        "    try:\n",
        "      names_dict=df[['Product Name','Price in India']].dropna().to_dict('records')\n",
        "      for m in names_dict:\n",
        "        items_list.append(Merge(det_dict,m))\n",
        "    except:\n",
        "      items_list.append(det_dict)\n",
        "      pass\n",
        "  except:\n",
        "    pass"
      ]
    },
    {
      "cell_type": "code",
      "execution_count": null,
      "metadata": {
        "id": "8IcK315zPUmm"
      },
      "outputs": [],
      "source": [
        "with open(scraped_json, 'w') as fp:\n",
        "    json.dump(items_list, fp)"
      ]
    },
    {
      "cell_type": "code",
      "execution_count": null,
      "metadata": {
        "id": "zGssrpn39Evq"
      },
      "outputs": [],
      "source": [
        "uniq_attr=[]\n",
        "for i in items_list:\n",
        "  uniq_attr=uniq_attr+list(i.keys())\n",
        "uniq_attr=list(set(uniq_attr))"
      ]
    },
    {
      "cell_type": "code",
      "execution_count": null,
      "metadata": {
        "id": "3NFK2XuP-pX6"
      },
      "outputs": [],
      "source": [
        "df = pd.DataFrame(columns = uniq_attr)\n",
        "for i in items_list:\n",
        "  df = df.append(i,ignore_index = True)"
      ]
    },
    {
      "cell_type": "code",
      "execution_count": null,
      "metadata": {
        "id": "1ME3TB4C_CBS"
      },
      "outputs": [],
      "source": [
        "df = df.iloc[df.isnull().sum(1).sort_values(ascending=True).index].reset_index().drop(['index'], axis=1)"
      ]
    },
    {
      "cell_type": "code",
      "execution_count": null,
      "metadata": {
        "id": "1CTVt3m8_OqU"
      },
      "outputs": [],
      "source": [
        "nan_vals=dict()\n",
        "for i in df.columns:\n",
        "  nan_vals[i]=df[i].isnull().sum()"
      ]
    },
    {
      "cell_type": "code",
      "execution_count": null,
      "metadata": {
        "id": "xsqLUQla7FiY"
      },
      "outputs": [],
      "source": [
        "x=nan_vals\n",
        "sorted_x = sorted(x.items(), key=lambda kv: kv[1])\n",
        "import collections\n",
        "sorted_dict = collections.OrderedDict(sorted_x)\n",
        "sorted_x[50:]"
      ]
    },
    {
      "cell_type": "code",
      "execution_count": null,
      "metadata": {
        "id": "p_nlCLDk2kBj"
      },
      "outputs": [],
      "source": [
        "order=[]\n",
        "for w in sorted(nan_vals, key=nan_vals.get, reverse=False):\n",
        "    order.append(w)"
      ]
    },
    {
      "cell_type": "code",
      "execution_count": null,
      "metadata": {
        "id": "BJI8Ftt5EnfK"
      },
      "outputs": [],
      "source": [
        "x=nan_vals\n",
        "sorted_x = sorted(x.items(), key=lambda kv: kv[1])\n",
        "import collections\n",
        "sorted_dict = collections.OrderedDict(sorted_x)\n",
        "len(sorted_x)"
      ]
    },
    {
      "cell_type": "code",
      "execution_count": null,
      "metadata": {
        "id": "w02Xnk_02PIO"
      },
      "outputs": [],
      "source": [
        "df = df[order]\n",
        "df=df.reset_index().drop(['index'], axis=1)\n",
        "df.head(1)"
      ]
    },
    {
      "cell_type": "code",
      "execution_count": null,
      "metadata": {
        "id": "7oJUxWx82SGl"
      },
      "outputs": [],
      "source": [
        "other_info=[]\n",
        "for i in range(len(df)):\n",
        "  temp_dict=dict()\n",
        "  for j in order[50:]:\n",
        "    if (str(df[j][i]) != str(list(df.head(1)['Voice Remote'])[0])): #  replace 'Voice Remote' with column name with nan in df.head(1)\n",
        "      temp_dict[j]=df[j][i]\n",
        "  other_info.append(temp_dict)"
      ]
    },
    {
      "cell_type": "code",
      "execution_count": null,
      "metadata": {
        "id": "bXwIyZQ5212q"
      },
      "outputs": [],
      "source": [
        "df=df.drop(order[50:], axis=1)\n",
        "df['other_info']=other_info"
      ]
    },
    {
      "cell_type": "code",
      "execution_count": null,
      "metadata": {
        "id": "rjvam9pv4Tso"
      },
      "outputs": [],
      "source": [
        "re_col=['url','Picture URL','Brand','Product Name', 'Model', 'Model Name','Price in India', 'Total Ratings',\n",
        "        '1 Stars', '2 Stars','3 Stars','4 Stars','5 Stars']+list(df.columns)"
      ]
    },
    {
      "cell_type": "code",
      "execution_count": null,
      "metadata": {
        "id": "SUt8zbf2DEpW"
      },
      "outputs": [],
      "source": [
        "re_col=list(dict.fromkeys(re_col))\n",
        "df=df[re_col]\n",
        "df['other_info']=[np.nan if (not bool(i)) else i for i in df['other_info']]"
      ]
    },
    {
      "cell_type": "code",
      "execution_count": null,
      "metadata": {
        "id": "eBFE3Gz_e5-V"
      },
      "outputs": [],
      "source": [
        "df.to_csv(final_csv_file, index=False)"
      ]
    }
  ],
  "metadata": {
    "colab": {
      "provenance": []
    },
    "kernelspec": {
      "display_name": "Python 3",
      "name": "python3"
    }
  },
  "nbformat": 4,
  "nbformat_minor": 0
}
