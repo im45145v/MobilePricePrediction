{
 "cells": [
  {
   "cell_type": "code",
   "execution_count": 1,
   "id": "f3896f47",
   "metadata": {},
   "outputs": [],
   "source": [
    "import numpy as np\n",
    "import pandas as pd\n",
    "import matplotlib.pyplot as plt\n",
    "import seaborn as sns"
   ]
  },
  {
   "cell_type": "code",
   "execution_count": 2,
   "id": "b86795e0",
   "metadata": {},
   "outputs": [],
   "source": [
    "df=pd.read_csv(\"ds.csv\")"
   ]
  },
  {
   "cell_type": "code",
   "execution_count": 3,
   "id": "961b4942",
   "metadata": {},
   "outputs": [
    {
     "data": {
      "text/html": [
       "<div>\n",
       "<style scoped>\n",
       "    .dataframe tbody tr th:only-of-type {\n",
       "        vertical-align: middle;\n",
       "    }\n",
       "\n",
       "    .dataframe tbody tr th {\n",
       "        vertical-align: top;\n",
       "    }\n",
       "\n",
       "    .dataframe thead th {\n",
       "        text-align: right;\n",
       "    }\n",
       "</style>\n",
       "<table border=\"1\" class=\"dataframe\">\n",
       "  <thead>\n",
       "    <tr style=\"text-align: right;\">\n",
       "      <th></th>\n",
       "      <th>url</th>\n",
       "      <th>2 Stars</th>\n",
       "      <th>5 Stars</th>\n",
       "      <th>4 Stars</th>\n",
       "      <th>3 Stars</th>\n",
       "      <th>1 Stars</th>\n",
       "      <th>Brand</th>\n",
       "      <th>Model</th>\n",
       "      <th>Rear camera</th>\n",
       "      <th>Front camera</th>\n",
       "      <th>...</th>\n",
       "      <th>3G 2</th>\n",
       "      <th>3G 1</th>\n",
       "      <th>SIM Type 1</th>\n",
       "      <th>SIM Type 2</th>\n",
       "      <th>GSM/CDMA 1</th>\n",
       "      <th>GSM/CDMA 2</th>\n",
       "      <th>Total Ratings</th>\n",
       "      <th>Product Name</th>\n",
       "      <th>Expandable storage up to (GB)</th>\n",
       "      <th>Wi-Fi standards supported</th>\n",
       "    </tr>\n",
       "  </thead>\n",
       "  <tbody>\n",
       "    <tr>\n",
       "      <th>0</th>\n",
       "      <td>https://www.gadgets360.com/vivo-v11-pro-5632</td>\n",
       "      <td>2</td>\n",
       "      <td>70</td>\n",
       "      <td>18</td>\n",
       "      <td>6</td>\n",
       "      <td>5</td>\n",
       "      <td>Vivo</td>\n",
       "      <td>V11 Pro</td>\n",
       "      <td>12-megapixel (f/1.8) + 5-megapixel (f/2.4)</td>\n",
       "      <td>25-megapixel (f/2.0)</td>\n",
       "      <td>...</td>\n",
       "      <td>Yes</td>\n",
       "      <td>Yes</td>\n",
       "      <td>Nano-SIM</td>\n",
       "      <td>Nano-SIM</td>\n",
       "      <td>GSM</td>\n",
       "      <td>GSM</td>\n",
       "      <td>6,534</td>\n",
       "      <td>Vivo V11 Pro (6GB RAM, 64GB) - Starry Night Black</td>\n",
       "      <td>256</td>\n",
       "      <td>802.11 b/g/n/ac</td>\n",
       "    </tr>\n",
       "    <tr>\n",
       "      <th>1</th>\n",
       "      <td>https://www.gadgets360.com/vivo-v11-pro-5632</td>\n",
       "      <td>2</td>\n",
       "      <td>70</td>\n",
       "      <td>18</td>\n",
       "      <td>6</td>\n",
       "      <td>5</td>\n",
       "      <td>Vivo</td>\n",
       "      <td>V11 Pro</td>\n",
       "      <td>12-megapixel (f/1.8) + 5-megapixel (f/2.4)</td>\n",
       "      <td>25-megapixel (f/2.0)</td>\n",
       "      <td>...</td>\n",
       "      <td>Yes</td>\n",
       "      <td>Yes</td>\n",
       "      <td>Nano-SIM</td>\n",
       "      <td>Nano-SIM</td>\n",
       "      <td>GSM</td>\n",
       "      <td>GSM</td>\n",
       "      <td>6,534</td>\n",
       "      <td>Vivo V11 Pro (6GB RAM, 64GB) - Supernova Red</td>\n",
       "      <td>256</td>\n",
       "      <td>802.11 b/g/n/ac</td>\n",
       "    </tr>\n",
       "    <tr>\n",
       "      <th>2</th>\n",
       "      <td>https://www.gadgets360.com/vivo-v11-pro-5632</td>\n",
       "      <td>2</td>\n",
       "      <td>70</td>\n",
       "      <td>18</td>\n",
       "      <td>6</td>\n",
       "      <td>5</td>\n",
       "      <td>Vivo</td>\n",
       "      <td>V11 Pro</td>\n",
       "      <td>12-megapixel (f/1.8) + 5-megapixel (f/2.4)</td>\n",
       "      <td>25-megapixel (f/2.0)</td>\n",
       "      <td>...</td>\n",
       "      <td>Yes</td>\n",
       "      <td>Yes</td>\n",
       "      <td>Nano-SIM</td>\n",
       "      <td>Nano-SIM</td>\n",
       "      <td>GSM</td>\n",
       "      <td>GSM</td>\n",
       "      <td>6,534</td>\n",
       "      <td>Vivo V11 Pro (6GB RAM, 64GB) - Dazzling Gold</td>\n",
       "      <td>256</td>\n",
       "      <td>802.11 b/g/n/ac</td>\n",
       "    </tr>\n",
       "    <tr>\n",
       "      <th>3</th>\n",
       "      <td>https://www.gadgets360.com/realme-narzo-30-pro...</td>\n",
       "      <td>3</td>\n",
       "      <td>59</td>\n",
       "      <td>23</td>\n",
       "      <td>9</td>\n",
       "      <td>7</td>\n",
       "      <td>Realme</td>\n",
       "      <td>Narzo 30 Pro</td>\n",
       "      <td>48-megapixel (f/1.8) + 8-megapixel (f/2.3) + 2...</td>\n",
       "      <td>16-megapixel (f/2.1)</td>\n",
       "      <td>...</td>\n",
       "      <td>Yes</td>\n",
       "      <td>Yes</td>\n",
       "      <td>Nano-SIM</td>\n",
       "      <td>Nano-SIM</td>\n",
       "      <td>GSM</td>\n",
       "      <td>GSM</td>\n",
       "      <td>7,179</td>\n",
       "      <td>Realme Narzo 30 Pro (6GB RAM, 64GB) - Sword Black</td>\n",
       "      <td>256</td>\n",
       "      <td>802.11 a/b/g/n/ac</td>\n",
       "    </tr>\n",
       "    <tr>\n",
       "      <th>4</th>\n",
       "      <td>https://www.gadgets360.com/realme-narzo-30-pro...</td>\n",
       "      <td>3</td>\n",
       "      <td>59</td>\n",
       "      <td>23</td>\n",
       "      <td>9</td>\n",
       "      <td>7</td>\n",
       "      <td>Realme</td>\n",
       "      <td>Narzo 30 Pro</td>\n",
       "      <td>48-megapixel (f/1.8) + 8-megapixel (f/2.3) + 2...</td>\n",
       "      <td>16-megapixel (f/2.1)</td>\n",
       "      <td>...</td>\n",
       "      <td>Yes</td>\n",
       "      <td>Yes</td>\n",
       "      <td>Nano-SIM</td>\n",
       "      <td>Nano-SIM</td>\n",
       "      <td>GSM</td>\n",
       "      <td>GSM</td>\n",
       "      <td>7,179</td>\n",
       "      <td>Realme Narzo 30 Pro (8GB RAM, 128GB) - Blade S...</td>\n",
       "      <td>256</td>\n",
       "      <td>802.11 a/b/g/n/ac</td>\n",
       "    </tr>\n",
       "    <tr>\n",
       "      <th>...</th>\n",
       "      <td>...</td>\n",
       "      <td>...</td>\n",
       "      <td>...</td>\n",
       "      <td>...</td>\n",
       "      <td>...</td>\n",
       "      <td>...</td>\n",
       "      <td>...</td>\n",
       "      <td>...</td>\n",
       "      <td>...</td>\n",
       "      <td>...</td>\n",
       "      <td>...</td>\n",
       "      <td>...</td>\n",
       "      <td>...</td>\n",
       "      <td>...</td>\n",
       "      <td>...</td>\n",
       "      <td>...</td>\n",
       "      <td>...</td>\n",
       "      <td>...</td>\n",
       "      <td>...</td>\n",
       "      <td>...</td>\n",
       "      <td>...</td>\n",
       "    </tr>\n",
       "    <tr>\n",
       "      <th>8784</th>\n",
       "      <td>https://www.gadgets360.com/iqoo-neo-7-se-price...</td>\n",
       "      <td>0</td>\n",
       "      <td>0</td>\n",
       "      <td>0</td>\n",
       "      <td>0</td>\n",
       "      <td>0</td>\n",
       "      <td>iQOO</td>\n",
       "      <td>Neo 7 SE</td>\n",
       "      <td>NaN</td>\n",
       "      <td>NaN</td>\n",
       "      <td>...</td>\n",
       "      <td>NaN</td>\n",
       "      <td>NaN</td>\n",
       "      <td>NaN</td>\n",
       "      <td>NaN</td>\n",
       "      <td>NaN</td>\n",
       "      <td>NaN</td>\n",
       "      <td>NaN</td>\n",
       "      <td>NaN</td>\n",
       "      <td>NaN</td>\n",
       "      <td>NaN</td>\n",
       "    </tr>\n",
       "    <tr>\n",
       "      <th>8785</th>\n",
       "      <td>https://www.gadgets360.com/redmi-10c-price-in-...</td>\n",
       "      <td>0</td>\n",
       "      <td>0</td>\n",
       "      <td>0</td>\n",
       "      <td>0</td>\n",
       "      <td>0</td>\n",
       "      <td>Xiaomi</td>\n",
       "      <td>Redmi 10C</td>\n",
       "      <td>Unspecified</td>\n",
       "      <td>NaN</td>\n",
       "      <td>...</td>\n",
       "      <td>NaN</td>\n",
       "      <td>NaN</td>\n",
       "      <td>NaN</td>\n",
       "      <td>NaN</td>\n",
       "      <td>NaN</td>\n",
       "      <td>NaN</td>\n",
       "      <td>NaN</td>\n",
       "      <td>NaN</td>\n",
       "      <td>NaN</td>\n",
       "      <td>NaN</td>\n",
       "    </tr>\n",
       "    <tr>\n",
       "      <th>8786</th>\n",
       "      <td>https://www.gadgets360.com/alcatel-1s-2021-pri...</td>\n",
       "      <td>0</td>\n",
       "      <td>0</td>\n",
       "      <td>0</td>\n",
       "      <td>0</td>\n",
       "      <td>0</td>\n",
       "      <td>Alcatel</td>\n",
       "      <td>1S (2021)</td>\n",
       "      <td>13-megapixel + 2-megapixel + 2-megapixel</td>\n",
       "      <td>Unspecified</td>\n",
       "      <td>...</td>\n",
       "      <td>NaN</td>\n",
       "      <td>NaN</td>\n",
       "      <td>NaN</td>\n",
       "      <td>NaN</td>\n",
       "      <td>NaN</td>\n",
       "      <td>NaN</td>\n",
       "      <td>NaN</td>\n",
       "      <td>NaN</td>\n",
       "      <td>NaN</td>\n",
       "      <td>NaN</td>\n",
       "    </tr>\n",
       "    <tr>\n",
       "      <th>8787</th>\n",
       "      <td>https://www.gadgets360.com/redmi-k50-ultra-pri...</td>\n",
       "      <td>0</td>\n",
       "      <td>0</td>\n",
       "      <td>0</td>\n",
       "      <td>0</td>\n",
       "      <td>0</td>\n",
       "      <td>Redmi</td>\n",
       "      <td>K50 Ultra</td>\n",
       "      <td>108-megapixel + 8-megapixel + 2-megapixel</td>\n",
       "      <td>20-megapixel</td>\n",
       "      <td>...</td>\n",
       "      <td>NaN</td>\n",
       "      <td>NaN</td>\n",
       "      <td>NaN</td>\n",
       "      <td>NaN</td>\n",
       "      <td>NaN</td>\n",
       "      <td>NaN</td>\n",
       "      <td>NaN</td>\n",
       "      <td>NaN</td>\n",
       "      <td>NaN</td>\n",
       "      <td>NaN</td>\n",
       "    </tr>\n",
       "    <tr>\n",
       "      <th>8788</th>\n",
       "      <td>https://www.gadgets360.com/vivo-apex-2019-11979</td>\n",
       "      <td>0</td>\n",
       "      <td>75</td>\n",
       "      <td>0</td>\n",
       "      <td>25</td>\n",
       "      <td>0</td>\n",
       "      <td>Vivo</td>\n",
       "      <td>Apex 2019</td>\n",
       "      <td>Unspecified</td>\n",
       "      <td>NaN</td>\n",
       "      <td>...</td>\n",
       "      <td>NaN</td>\n",
       "      <td>NaN</td>\n",
       "      <td>NaN</td>\n",
       "      <td>NaN</td>\n",
       "      <td>NaN</td>\n",
       "      <td>NaN</td>\n",
       "      <td>4</td>\n",
       "      <td>NaN</td>\n",
       "      <td>NaN</td>\n",
       "      <td>NaN</td>\n",
       "    </tr>\n",
       "  </tbody>\n",
       "</table>\n",
       "<p>8789 rows × 50 columns</p>\n",
       "</div>"
      ],
      "text/plain": [
       "                                                    url  2 Stars  5 Stars  \\\n",
       "0          https://www.gadgets360.com/vivo-v11-pro-5632        2       70   \n",
       "1          https://www.gadgets360.com/vivo-v11-pro-5632        2       70   \n",
       "2          https://www.gadgets360.com/vivo-v11-pro-5632        2       70   \n",
       "3     https://www.gadgets360.com/realme-narzo-30-pro...        3       59   \n",
       "4     https://www.gadgets360.com/realme-narzo-30-pro...        3       59   \n",
       "...                                                 ...      ...      ...   \n",
       "8784  https://www.gadgets360.com/iqoo-neo-7-se-price...        0        0   \n",
       "8785  https://www.gadgets360.com/redmi-10c-price-in-...        0        0   \n",
       "8786  https://www.gadgets360.com/alcatel-1s-2021-pri...        0        0   \n",
       "8787  https://www.gadgets360.com/redmi-k50-ultra-pri...        0        0   \n",
       "8788    https://www.gadgets360.com/vivo-apex-2019-11979        0       75   \n",
       "\n",
       "      4 Stars  3 Stars  1 Stars    Brand         Model  \\\n",
       "0          18        6        5     Vivo       V11 Pro   \n",
       "1          18        6        5     Vivo       V11 Pro   \n",
       "2          18        6        5     Vivo       V11 Pro   \n",
       "3          23        9        7   Realme  Narzo 30 Pro   \n",
       "4          23        9        7   Realme  Narzo 30 Pro   \n",
       "...       ...      ...      ...      ...           ...   \n",
       "8784        0        0        0     iQOO      Neo 7 SE   \n",
       "8785        0        0        0   Xiaomi     Redmi 10C   \n",
       "8786        0        0        0  Alcatel     1S (2021)   \n",
       "8787        0        0        0    Redmi     K50 Ultra   \n",
       "8788        0       25        0     Vivo     Apex 2019   \n",
       "\n",
       "                                            Rear camera          Front camera  \\\n",
       "0            12-megapixel (f/1.8) + 5-megapixel (f/2.4)  25-megapixel (f/2.0)   \n",
       "1            12-megapixel (f/1.8) + 5-megapixel (f/2.4)  25-megapixel (f/2.0)   \n",
       "2            12-megapixel (f/1.8) + 5-megapixel (f/2.4)  25-megapixel (f/2.0)   \n",
       "3     48-megapixel (f/1.8) + 8-megapixel (f/2.3) + 2...  16-megapixel (f/2.1)   \n",
       "4     48-megapixel (f/1.8) + 8-megapixel (f/2.3) + 2...  16-megapixel (f/2.1)   \n",
       "...                                                 ...                   ...   \n",
       "8784                                                NaN                   NaN   \n",
       "8785                                        Unspecified                   NaN   \n",
       "8786           13-megapixel + 2-megapixel + 2-megapixel           Unspecified   \n",
       "8787          108-megapixel + 8-megapixel + 2-megapixel          20-megapixel   \n",
       "8788                                        Unspecified                   NaN   \n",
       "\n",
       "      ... 3G 2  3G 1 SIM Type 1 SIM Type 2 GSM/CDMA 1 GSM/CDMA 2  \\\n",
       "0     ...  Yes   Yes   Nano-SIM   Nano-SIM        GSM        GSM   \n",
       "1     ...  Yes   Yes   Nano-SIM   Nano-SIM        GSM        GSM   \n",
       "2     ...  Yes   Yes   Nano-SIM   Nano-SIM        GSM        GSM   \n",
       "3     ...  Yes   Yes   Nano-SIM   Nano-SIM        GSM        GSM   \n",
       "4     ...  Yes   Yes   Nano-SIM   Nano-SIM        GSM        GSM   \n",
       "...   ...  ...   ...        ...        ...        ...        ...   \n",
       "8784  ...  NaN   NaN        NaN        NaN        NaN        NaN   \n",
       "8785  ...  NaN   NaN        NaN        NaN        NaN        NaN   \n",
       "8786  ...  NaN   NaN        NaN        NaN        NaN        NaN   \n",
       "8787  ...  NaN   NaN        NaN        NaN        NaN        NaN   \n",
       "8788  ...  NaN   NaN        NaN        NaN        NaN        NaN   \n",
       "\n",
       "     Total Ratings                                       Product Name  \\\n",
       "0            6,534  Vivo V11 Pro (6GB RAM, 64GB) - Starry Night Black   \n",
       "1            6,534       Vivo V11 Pro (6GB RAM, 64GB) - Supernova Red   \n",
       "2            6,534       Vivo V11 Pro (6GB RAM, 64GB) - Dazzling Gold   \n",
       "3            7,179  Realme Narzo 30 Pro (6GB RAM, 64GB) - Sword Black   \n",
       "4            7,179  Realme Narzo 30 Pro (8GB RAM, 128GB) - Blade S...   \n",
       "...            ...                                                ...   \n",
       "8784           NaN                                                NaN   \n",
       "8785           NaN                                                NaN   \n",
       "8786           NaN                                                NaN   \n",
       "8787           NaN                                                NaN   \n",
       "8788             4                                                NaN   \n",
       "\n",
       "     Expandable storage up to (GB) Wi-Fi standards supported  \n",
       "0                              256           802.11 b/g/n/ac  \n",
       "1                              256           802.11 b/g/n/ac  \n",
       "2                              256           802.11 b/g/n/ac  \n",
       "3                              256         802.11 a/b/g/n/ac  \n",
       "4                              256         802.11 a/b/g/n/ac  \n",
       "...                            ...                       ...  \n",
       "8784                           NaN                       NaN  \n",
       "8785                           NaN                       NaN  \n",
       "8786                           NaN                       NaN  \n",
       "8787                           NaN                       NaN  \n",
       "8788                           NaN                       NaN  \n",
       "\n",
       "[8789 rows x 50 columns]"
      ]
     },
     "execution_count": 3,
     "metadata": {},
     "output_type": "execute_result"
    }
   ],
   "source": [
    "df"
   ]
  },
  {
   "cell_type": "code",
   "execution_count": 4,
   "id": "e1948783",
   "metadata": {},
   "outputs": [
    {
     "data": {
      "text/plain": [
       "Index(['url', '2 Stars', '5 Stars', '4 Stars', '3 Stars', '1 Stars', 'Brand',\n",
       "       'Model', 'Rear camera', 'Front camera', 'Release date',\n",
       "       'Screen size (inches)', 'Operating system', 'Internal storage', 'Wi-Fi',\n",
       "       'Bluetooth', 'Battery capacity (mAh)', 'RAM', 'Touchscreen',\n",
       "       'Form factor', 'Processor', 'GPS', 'Resolution', 'Accelerometer',\n",
       "       'Proximity sensor', 'Number of SIMs', 'Ambient light sensor', 'Colours',\n",
       "       'Expandable storage', 'Rear flash', 'Processor make', 'Dimensions (mm)',\n",
       "       'Price in India', 'Weight (g)', 'Compass/ Magnetometer', 'Headphones',\n",
       "       'Gyroscope', 'Expandable storage type', '4G/ LTE 1', '4G/ LTE 2',\n",
       "       '3G 2', '3G 1', 'SIM Type 1', 'SIM Type 2', 'GSM/CDMA 1', 'GSM/CDMA 2',\n",
       "       'Total Ratings', 'Product Name', 'Expandable storage up to (GB)',\n",
       "       'Wi-Fi standards supported'],\n",
       "      dtype='object')"
      ]
     },
     "execution_count": 4,
     "metadata": {},
     "output_type": "execute_result"
    }
   ],
   "source": [
    "df.columns"
   ]
  },
  {
   "cell_type": "code",
   "execution_count": 5,
   "id": "09fb6494",
   "metadata": {},
   "outputs": [],
   "source": [
    "df.drop(['url', '2 Stars', '5 Stars', '4 Stars', '3 Stars', '1 Stars','Model'],axis=1,inplace=True)"
   ]
  },
  {
   "cell_type": "code",
   "execution_count": 6,
   "id": "260cf741",
   "metadata": {},
   "outputs": [],
   "source": [
    "df.drop(['Total Ratings','Product Name'],axis=1,inplace=True)"
   ]
  },
  {
   "cell_type": "code",
   "execution_count": 7,
   "id": "e25b83d9",
   "metadata": {},
   "outputs": [
    {
     "data": {
      "text/plain": [
       "Index(['Brand', 'Rear camera', 'Front camera', 'Release date',\n",
       "       'Screen size (inches)', 'Operating system', 'Internal storage', 'Wi-Fi',\n",
       "       'Bluetooth', 'Battery capacity (mAh)', 'RAM', 'Touchscreen',\n",
       "       'Form factor', 'Processor', 'GPS', 'Resolution', 'Accelerometer',\n",
       "       'Proximity sensor', 'Number of SIMs', 'Ambient light sensor', 'Colours',\n",
       "       'Expandable storage', 'Rear flash', 'Processor make', 'Dimensions (mm)',\n",
       "       'Price in India', 'Weight (g)', 'Compass/ Magnetometer', 'Headphones',\n",
       "       'Gyroscope', 'Expandable storage type', '4G/ LTE 1', '4G/ LTE 2',\n",
       "       '3G 2', '3G 1', 'SIM Type 1', 'SIM Type 2', 'GSM/CDMA 1', 'GSM/CDMA 2',\n",
       "       'Expandable storage up to (GB)', 'Wi-Fi standards supported'],\n",
       "      dtype='object')"
      ]
     },
     "execution_count": 7,
     "metadata": {},
     "output_type": "execute_result"
    }
   ],
   "source": [
    "df.columns"
   ]
  },
  {
   "cell_type": "code",
   "execution_count": 8,
   "id": "796c90a0",
   "metadata": {},
   "outputs": [
    {
     "name": "stdout",
     "output_type": "stream",
     "text": [
      "<class 'pandas.core.frame.DataFrame'>\n",
      "RangeIndex: 8789 entries, 0 to 8788\n",
      "Data columns (total 41 columns):\n",
      " #   Column                         Non-Null Count  Dtype  \n",
      "---  ------                         --------------  -----  \n",
      " 0   Brand                          8786 non-null   object \n",
      " 1   Rear camera                    8771 non-null   object \n",
      " 2   Front camera                   8723 non-null   object \n",
      " 3   Release date                   8690 non-null   object \n",
      " 4   Screen size (inches)           8685 non-null   float64\n",
      " 5   Operating system               8676 non-null   object \n",
      " 6   Internal storage               8658 non-null   object \n",
      " 7   Wi-Fi                          8638 non-null   object \n",
      " 8   Bluetooth                      8618 non-null   object \n",
      " 9   Battery capacity (mAh)         8528 non-null   object \n",
      " 10  RAM                            8515 non-null   object \n",
      " 11  Touchscreen                    8509 non-null   object \n",
      " 12  Form factor                    8202 non-null   object \n",
      " 13  Processor                      8085 non-null   object \n",
      " 14  GPS                            8080 non-null   object \n",
      " 15  Resolution                     8067 non-null   object \n",
      " 16  Accelerometer                  8028 non-null   object \n",
      " 17  Proximity sensor               7987 non-null   object \n",
      " 18  Number of SIMs                 7843 non-null   float64\n",
      " 19  Ambient light sensor           7834 non-null   object \n",
      " 20  Colours                        7683 non-null   object \n",
      " 21  Expandable storage             7500 non-null   object \n",
      " 22  Rear flash                     7355 non-null   object \n",
      " 23  Processor make                 7281 non-null   object \n",
      " 24  Dimensions (mm)                7195 non-null   object \n",
      " 25  Price in India                 6800 non-null   object \n",
      " 26  Weight (g)                     6613 non-null   float64\n",
      " 27  Compass/ Magnetometer          6605 non-null   object \n",
      " 28  Headphones                     6493 non-null   object \n",
      " 29  Gyroscope                      6430 non-null   object \n",
      " 30  Expandable storage type        6372 non-null   object \n",
      " 31  4G/ LTE 1                      6324 non-null   object \n",
      " 32  4G/ LTE 2                      6324 non-null   object \n",
      " 33  3G 2                           6214 non-null   object \n",
      " 34  3G 1                           6214 non-null   object \n",
      " 35  SIM Type 1                     6151 non-null   object \n",
      " 36  SIM Type 2                     6151 non-null   object \n",
      " 37  GSM/CDMA 1                     6085 non-null   object \n",
      " 38  GSM/CDMA 2                     6085 non-null   object \n",
      " 39  Expandable storage up to (GB)  5868 non-null   object \n",
      " 40  Wi-Fi standards supported      5620 non-null   object \n",
      "dtypes: float64(3), object(38)\n",
      "memory usage: 2.7+ MB\n"
     ]
    }
   ],
   "source": [
    "df.info()"
   ]
  },
  {
   "cell_type": "code",
   "execution_count": 9,
   "id": "41749c90",
   "metadata": {},
   "outputs": [
    {
     "data": {
      "text/html": [
       "<div>\n",
       "<style scoped>\n",
       "    .dataframe tbody tr th:only-of-type {\n",
       "        vertical-align: middle;\n",
       "    }\n",
       "\n",
       "    .dataframe tbody tr th {\n",
       "        vertical-align: top;\n",
       "    }\n",
       "\n",
       "    .dataframe thead th {\n",
       "        text-align: right;\n",
       "    }\n",
       "</style>\n",
       "<table border=\"1\" class=\"dataframe\">\n",
       "  <thead>\n",
       "    <tr style=\"text-align: right;\">\n",
       "      <th></th>\n",
       "      <th>Screen size (inches)</th>\n",
       "      <th>Number of SIMs</th>\n",
       "      <th>Weight (g)</th>\n",
       "    </tr>\n",
       "  </thead>\n",
       "  <tbody>\n",
       "    <tr>\n",
       "      <th>count</th>\n",
       "      <td>8685.000000</td>\n",
       "      <td>7843.000000</td>\n",
       "      <td>6613.000000</td>\n",
       "    </tr>\n",
       "    <tr>\n",
       "      <th>mean</th>\n",
       "      <td>5.784880</td>\n",
       "      <td>1.903991</td>\n",
       "      <td>174.422686</td>\n",
       "    </tr>\n",
       "    <tr>\n",
       "      <th>std</th>\n",
       "      <td>0.897002</td>\n",
       "      <td>0.297208</td>\n",
       "      <td>43.274379</td>\n",
       "    </tr>\n",
       "    <tr>\n",
       "      <th>min</th>\n",
       "      <td>1.000000</td>\n",
       "      <td>1.000000</td>\n",
       "      <td>8.480000</td>\n",
       "    </tr>\n",
       "    <tr>\n",
       "      <th>25%</th>\n",
       "      <td>5.000000</td>\n",
       "      <td>2.000000</td>\n",
       "      <td>155.000000</td>\n",
       "    </tr>\n",
       "    <tr>\n",
       "      <th>50%</th>\n",
       "      <td>6.010000</td>\n",
       "      <td>2.000000</td>\n",
       "      <td>176.000000</td>\n",
       "    </tr>\n",
       "    <tr>\n",
       "      <th>75%</th>\n",
       "      <td>6.510000</td>\n",
       "      <td>2.000000</td>\n",
       "      <td>192.000000</td>\n",
       "    </tr>\n",
       "    <tr>\n",
       "      <th>max</th>\n",
       "      <td>10.000000</td>\n",
       "      <td>3.000000</td>\n",
       "      <td>2000.000000</td>\n",
       "    </tr>\n",
       "  </tbody>\n",
       "</table>\n",
       "</div>"
      ],
      "text/plain": [
       "       Screen size (inches)  Number of SIMs   Weight (g)\n",
       "count           8685.000000     7843.000000  6613.000000\n",
       "mean               5.784880        1.903991   174.422686\n",
       "std                0.897002        0.297208    43.274379\n",
       "min                1.000000        1.000000     8.480000\n",
       "25%                5.000000        2.000000   155.000000\n",
       "50%                6.010000        2.000000   176.000000\n",
       "75%                6.510000        2.000000   192.000000\n",
       "max               10.000000        3.000000  2000.000000"
      ]
     },
     "execution_count": 9,
     "metadata": {},
     "output_type": "execute_result"
    }
   ],
   "source": [
    "df.describe()"
   ]
  },
  {
   "cell_type": "code",
   "execution_count": 10,
   "id": "82025b5f",
   "metadata": {},
   "outputs": [
    {
     "data": {
      "text/plain": [
       "Brand                               3\n",
       "Rear camera                        18\n",
       "Front camera                       66\n",
       "Release date                       99\n",
       "Screen size (inches)              104\n",
       "Operating system                  113\n",
       "Internal storage                  131\n",
       "Wi-Fi                             151\n",
       "Bluetooth                         171\n",
       "Battery capacity (mAh)            261\n",
       "RAM                               274\n",
       "Touchscreen                       280\n",
       "Form factor                       587\n",
       "Processor                         704\n",
       "GPS                               709\n",
       "Resolution                        722\n",
       "Accelerometer                     761\n",
       "Proximity sensor                  802\n",
       "Number of SIMs                    946\n",
       "Ambient light sensor              955\n",
       "Colours                          1106\n",
       "Expandable storage               1289\n",
       "Rear flash                       1434\n",
       "Processor make                   1508\n",
       "Dimensions (mm)                  1594\n",
       "Price in India                   1989\n",
       "Weight (g)                       2176\n",
       "Compass/ Magnetometer            2184\n",
       "Headphones                       2296\n",
       "Gyroscope                        2359\n",
       "Expandable storage type          2417\n",
       "4G/ LTE 1                        2465\n",
       "4G/ LTE 2                        2465\n",
       "3G 2                             2575\n",
       "3G 1                             2575\n",
       "SIM Type 1                       2638\n",
       "SIM Type 2                       2638\n",
       "GSM/CDMA 1                       2704\n",
       "GSM/CDMA 2                       2704\n",
       "Expandable storage up to (GB)    2921\n",
       "Wi-Fi standards supported        3169\n",
       "dtype: int64"
      ]
     },
     "execution_count": 10,
     "metadata": {},
     "output_type": "execute_result"
    }
   ],
   "source": [
    "df.isna().sum()"
   ]
  },
  {
   "cell_type": "code",
   "execution_count": 11,
   "id": "00859a81",
   "metadata": {},
   "outputs": [
    {
     "data": {
      "text/plain": [
       "list"
      ]
     },
     "execution_count": 11,
     "metadata": {},
     "output_type": "execute_result"
    }
   ],
   "source": [
    "Brand=list(df['Brand'])\n",
    "type(Brand)"
   ]
  },
  {
   "cell_type": "code",
   "execution_count": 12,
   "id": "0b80dbad",
   "metadata": {},
   "outputs": [
    {
     "data": {
      "text/plain": [
       "array(['Vivo', 'Realme', 'Xiaomi', 'Apple', 'Poco', 'Sony', 'Google',\n",
       "       'Samsung', 'Huawei', 'LG', 'Oppo', 'Lenovo', 'Motorola', 'Nokia',\n",
       "       'OnePlus', 'Panasonic', '10.or', 'Honor', 'Asus', 'iQOO',\n",
       "       'Infinix', 'Coolpad', 'Acer', 'Micromax', 'HTC', 'Nubia',\n",
       "       'InFocus', 'Phicomm', 'Obi Worldphone', 'Gionee', 'Lava', 'Yu',\n",
       "       'Zopo', 'ZTE', 'Lyf', 'Reach', 'QiKU', 'Microsoft', 'LeEco',\n",
       "       'Xolo', 'Karbonn', 'Meizu', 'Sansui', 'Intex', 'Swipe', 'Smartron',\n",
       "       'Tecno', 'Cat', 'Kult', 'Onida', 'iVoomi', 'Zen', 'TCL', 'Alcatel',\n",
       "       'Wickedleak', 'Videocon', 'Blu', 'Hyve', 'Spice', 'iBerry',\n",
       "       'Oplus', 'Itel', 'Mercury', 'Pepsi', 'Celkon', 'iBall', 'Billion',\n",
       "       'Umi', 'Archos', 'Sunstrike', 'BlackBerry', 'Nuu Mobile', 'Fly',\n",
       "       'Neffos', 'Maxx Mobile', 'Philips', 'Umidigi', 'Reliance', 'Obi',\n",
       "       'Unihertz', 'Wiio', 'Idea', 'Adcom', 'BQ', 'Ziox', 'Zuk', 'Jivi',\n",
       "       'Nexian', 'Comio', 'Elephone', 'Black Shark', 'Mafe Mobile',\n",
       "       'Lephone', 'Tonino Lamborghini', 'Centric', 'Viaan', 'Docoss',\n",
       "       'Lumigon', 'Rio', 'Salora', 'Oukitel', 'Kodak', 'Mitashi',\n",
       "       'Datawind', 'Aqua', 'Alpha', 'Fairphone', 'Kestrel', 'M-tech',\n",
       "       'HP', 'Redmi', 'Vertu', 'Mobiistar', 'QMobile', 'Smartisan',\n",
       "       'Nextbit', 'Sharp', 'Jio', 'i-mobiles', 'Vaio', 'General Mobile',\n",
       "       'AOC', 'Cherry Mobile', 'Razer', 'MyPhone', 'Kyocera', 'Amazon',\n",
       "       'Yamada Denki', 'Silent Circle', 'Saygus', 'Porsche Design',\n",
       "       'Essential', 'Evercoss', 'Marshall', 'Mito', 'Symphony', 'Sirin',\n",
       "       'Namotel', 'Ringing Bells', 'Elari', 'MTS', 'Turing', 'Yandex',\n",
       "       'Sikur', 'Airtel', 'Tambo', 'Doogee', 'Polaroid',\n",
       "       'MarQ by Flipkart', 'Energizer', 'Homtom', 'Nothing', 'Royole',\n",
       "       'Detel', 'Leica', 'Letv', 'Dizo', 'Land Rover', 'Hisense', 'Moto',\n",
       "       nan], dtype=object)"
      ]
     },
     "execution_count": 12,
     "metadata": {},
     "output_type": "execute_result"
    }
   ],
   "source": [
    "df['Brand'].unique()"
   ]
  },
  {
   "cell_type": "code",
   "execution_count": 13,
   "id": "a426237f",
   "metadata": {},
   "outputs": [
    {
     "data": {
      "text/plain": [
       "Brand\n",
       "Samsung           914\n",
       "Xiaomi            729\n",
       "Vivo              534\n",
       "Realme            517\n",
       "Oppo              437\n",
       "                 ... \n",
       "Saygus              1\n",
       "Porsche Design      1\n",
       "Essential           1\n",
       "Evercoss            1\n",
       "Moto                1\n",
       "Name: count, Length: 160, dtype: int64"
      ]
     },
     "execution_count": 13,
     "metadata": {},
     "output_type": "execute_result"
    }
   ],
   "source": [
    "df['Brand'].value_counts()"
   ]
  },
  {
   "cell_type": "code",
   "execution_count": 14,
   "id": "d8c1f4bc",
   "metadata": {},
   "outputs": [
    {
     "data": {
      "text/plain": [
       "3"
      ]
     },
     "execution_count": 14,
     "metadata": {},
     "output_type": "execute_result"
    }
   ],
   "source": [
    "df['Brand'].isna().sum()"
   ]
  },
  {
   "cell_type": "markdown",
   "id": "dedf4c19",
   "metadata": {},
   "source": [
    "# Rear camera values"
   ]
  },
  {
   "cell_type": "code",
   "execution_count": 15,
   "id": "9212a20c",
   "metadata": {},
   "outputs": [
    {
     "data": {
      "text/plain": [
       "0              12-megapixel (f/1.8) + 5-megapixel (f/2.4)\n",
       "1              12-megapixel (f/1.8) + 5-megapixel (f/2.4)\n",
       "2              12-megapixel (f/1.8) + 5-megapixel (f/2.4)\n",
       "3       48-megapixel (f/1.8) + 8-megapixel (f/2.3) + 2...\n",
       "4       48-megapixel (f/1.8) + 8-megapixel (f/2.3) + 2...\n",
       "                              ...                        \n",
       "8784                                                  NaN\n",
       "8785                                          Unspecified\n",
       "8786             13-megapixel + 2-megapixel + 2-megapixel\n",
       "8787            108-megapixel + 8-megapixel + 2-megapixel\n",
       "8788                                          Unspecified\n",
       "Name: Rear camera, Length: 8789, dtype: object"
      ]
     },
     "execution_count": 15,
     "metadata": {},
     "output_type": "execute_result"
    }
   ],
   "source": [
    "df['Rear camera']"
   ]
  },
  {
   "cell_type": "code",
   "execution_count": 16,
   "id": "29c135ac",
   "metadata": {},
   "outputs": [
    {
     "data": {
      "text/plain": [
       "<bound method Series.unique of 0              12-megapixel (f/1.8) + 5-megapixel (f/2.4)\n",
       "1              12-megapixel (f/1.8) + 5-megapixel (f/2.4)\n",
       "2              12-megapixel (f/1.8) + 5-megapixel (f/2.4)\n",
       "3       48-megapixel (f/1.8) + 8-megapixel (f/2.3) + 2...\n",
       "4       48-megapixel (f/1.8) + 8-megapixel (f/2.3) + 2...\n",
       "                              ...                        \n",
       "8784                                                  NaN\n",
       "8785                                          Unspecified\n",
       "8786             13-megapixel + 2-megapixel + 2-megapixel\n",
       "8787            108-megapixel + 8-megapixel + 2-megapixel\n",
       "8788                                          Unspecified\n",
       "Name: Rear camera, Length: 8789, dtype: object>"
      ]
     },
     "execution_count": 16,
     "metadata": {},
     "output_type": "execute_result"
    }
   ],
   "source": [
    "df['Rear camera'].unique"
   ]
  },
  {
   "cell_type": "code",
   "execution_count": 17,
   "id": "0cd536fb",
   "metadata": {},
   "outputs": [
    {
     "data": {
      "text/plain": [
       "Rear camera\n",
       "13-megapixel                                                             1226\n",
       "8-megapixel                                                               914\n",
       "5-megapixel                                                               703\n",
       "16-megapixel                                                              271\n",
       "2-megapixel                                                               184\n",
       "                                                                         ... \n",
       "12-megapixel + 13-megapixel + 12-megapixel                                  1\n",
       "16-megapixel + 8-megapixel + 5-megapixel                                    1\n",
       "64-megapixel (f/1.8) + 8-megapixel (f/2.2) + 5-megapixel (f/2.2)            1\n",
       "50-megapixel (f/1.8) + 2-megapixel (f/2.4) + 2-megapixel (2.4-micron)       1\n",
       "24-megapixel + 10-megapixel + 5-megapixel                                   1\n",
       "Name: count, Length: 1042, dtype: int64"
      ]
     },
     "execution_count": 17,
     "metadata": {},
     "output_type": "execute_result"
    }
   ],
   "source": [
    "df['Rear camera'].value_counts()"
   ]
  },
  {
   "cell_type": "code",
   "execution_count": 18,
   "id": "1fccd69e",
   "metadata": {},
   "outputs": [
    {
     "data": {
      "text/plain": [
       "18"
      ]
     },
     "execution_count": 18,
     "metadata": {},
     "output_type": "execute_result"
    }
   ],
   "source": [
    "df['Rear camera'].isna().sum()"
   ]
  },
  {
   "cell_type": "code",
   "execution_count": 19,
   "id": "d6590396",
   "metadata": {},
   "outputs": [
    {
     "name": "stdout",
     "output_type": "stream",
     "text": [
      "18\n"
     ]
    }
   ],
   "source": [
    "c=0\n",
    "for x in df['Rear camera']:\n",
    "    if str(x)=='nan':\n",
    "        c+=1\n",
    "print(c)"
   ]
  },
  {
   "cell_type": "code",
   "execution_count": 20,
   "id": "5c0124ca",
   "metadata": {},
   "outputs": [
    {
     "data": {
      "text/plain": [
       "18"
      ]
     },
     "execution_count": 20,
     "metadata": {},
     "output_type": "execute_result"
    }
   ],
   "source": [
    "cam=[]\n",
    "for x in df['Rear camera']:\n",
    "    if str(x)=='nan':\n",
    "        cam.append(np.nan)\n",
    "    else:\n",
    "        cam.append(str(x).split('+'))\n",
    "cam.count(np.nan)"
   ]
  },
  {
   "cell_type": "code",
   "execution_count": 21,
   "id": "3ec99bc4",
   "metadata": {},
   "outputs": [
    {
     "data": {
      "text/plain": [
       "[['12-megapixel (f/1.8) ', ' 5-megapixel (f/2.4)'],\n",
       " ['12-megapixel (f/1.8) ', ' 5-megapixel (f/2.4)'],\n",
       " ['12-megapixel (f/1.8) ', ' 5-megapixel (f/2.4)'],\n",
       " ['48-megapixel (f/1.8) ', ' 8-megapixel (f/2.3) ', ' 2-megapixel (f/2.4)'],\n",
       " ['48-megapixel (f/1.8) ', ' 8-megapixel (f/2.3) ', ' 2-megapixel (f/2.4)'],\n",
       " ['48-megapixel (f/1.8) ', ' 8-megapixel (f/2.3) ', ' 2-megapixel (f/2.4)'],\n",
       " ['48-megapixel (f/1.8) ', ' 8-megapixel (f/2.3) ', ' 2-megapixel (f/2.4)'],\n",
       " ['12-megapixel (f/2.2, 1.25-micron) ', ' 5-megapixel (f/2.0, 1.12-micron)'],\n",
       " ['12-megapixel (f/2.2, 1.25-micron) ', ' 5-megapixel (f/2.0, 1.12-micron)'],\n",
       " ['12-megapixel (f/2.2, 1.25-micron) ', ' 5-megapixel (f/2.0, 1.12-micron)'],\n",
       " ['12-megapixel (f/2.2, 1.25-micron) ', ' 5-megapixel (f/2.0, 1.12-micron)'],\n",
       " ['12-megapixel (f/2.2, 1.25-micron) ', ' 5-megapixel (f/2.0, 1.12-micron)'],\n",
       " ['12-megapixel (f/2.2, 1.25-micron) ', ' 5-megapixel (f/2.0, 1.12-micron)'],\n",
       " ['12-megapixel (f/2.2, 1.25-micron) ', ' 5-megapixel'],\n",
       " ['12-megapixel (f/2.2, 1.25-micron) ', ' 5-megapixel (f/2.0, 1.12-micron)'],\n",
       " ['12-megapixel (f/2.2, 1.25-micron) ', ' 5-megapixel'],\n",
       " ['12-megapixel (f/2.2, 1.25-micron) ', ' 5-megapixel'],\n",
       " ['12-megapixel (f/2.2, 1.25-micron) ', ' 5-megapixel'],\n",
       " ['12-megapixel (f/2.2, 1.25-micron) ', ' 5-megapixel'],\n",
       " ['12-megapixel (f/2.2, 1.25-micron) ', ' 5-megapixel'],\n",
       " ['12-megapixel (f/2.2, 1.25-micron) ', ' 5-megapixel'],\n",
       " ['12-megapixel (f/2.2, 1.25-micron) ', ' 5-megapixel'],\n",
       " ['12-megapixel (f/2.2, 1.25-micron) ', ' 5-megapixel (f/2.0, 1.12-micron)'],\n",
       " ['12-megapixel (f/2.2, 1.25-micron) ', ' 5-megapixel (f/2.0, 1.12-micron)'],\n",
       " ['12-megapixel (f/2.2, 1.25-micron) ', ' 5-megapixel (f/2.0, 1.12-micron)'],\n",
       " ['12-megapixel (f/2.2, 1.25-micron) ', ' 5-megapixel'],\n",
       " ['12-megapixel (f/2.2, 1.25-micron) ', ' 5-megapixel'],\n",
       " ['12-megapixel (f/2.2, 1.25-micron) ', ' 5-megapixel'],\n",
       " ['12-megapixel (f/2.2, 1.25-micron) ', ' 5-megapixel'],\n",
       " ['12-megapixel (f/2.2, 1.25-micron) ', ' 5-megapixel'],\n",
       " ['12-megapixel (f/2.2, 1.25-micron) ', ' 5-megapixel'],\n",
       " ['12-megapixel (f/2.2, 1.25-micron) ', ' 5-megapixel'],\n",
       " ['12-megapixel (f/2.2, 1.25-micron) ', ' 5-megapixel'],\n",
       " ['12-megapixel (f/2.2, 1.25-micron) ', ' 5-megapixel'],\n",
       " ['12-megapixel (f/2.2, 1.25-micron) ', ' 5-megapixel'],\n",
       " ['16-megapixel (f/1.7) ', ' 2-megapixel (f/2.4)'],\n",
       " ['16-megapixel (f/1.7) ', ' 2-megapixel (f/2.4)'],\n",
       " ['16-megapixel (f/1.7) ', ' 5-megapixel (f/2.4)'],\n",
       " ['16-megapixel (f/1.7) ', ' 2-megapixel (f/2.4)'],\n",
       " ['12-megapixel (f/1.8)'],\n",
       " ['12-megapixel (f/1.8)'],\n",
       " ['13-megapixel'],\n",
       " ['12-megapixel (f/1.8)'],\n",
       " ['16-megapixel (f/1.7) ', ' 2-megapixel (f/2.4)'],\n",
       " ['12-megapixel (f/1.8)'],\n",
       " ['16-megapixel (f/1.7) ', ' 2-megapixel (f/2.4)'],\n",
       " ['12-megapixel (f/1.8)'],\n",
       " ['16-megapixel (f/1.7) ', ' 5-megapixel (f/2.4)'],\n",
       " ['16-megapixel (f/1.7) ', ' 5-megapixel (f/2.4)'],\n",
       " ['16-megapixel (f/1.7) ', ' 5-megapixel (f/2.4)'],\n",
       " ['64-megapixel (f/1.8) ', ' 8-megapixel (f/2.2) ', ' 2-megapixel (f/2.4)'],\n",
       " ['64-megapixel (f/1.8) ', ' 8-megapixel (f/2.2) ', ' 2-megapixel (f/2.4)'],\n",
       " ['64-megapixel (f/1.8) ', ' 8-megapixel (f/2.2) ', ' 2-megapixel (f/2.4)'],\n",
       " ['64-megapixel (f/1.8) ', ' 8-megapixel (f/2.2) ', ' 2-megapixel (f/2.4)'],\n",
       " ['64-megapixel (f/1.8) ', ' 8-megapixel (f/2.2) ', ' 2-megapixel (f/2.4)'],\n",
       " ['64-megapixel (f/1.8) ', ' 8-megapixel (f/2.2) ', ' 2-megapixel (f/2.4)'],\n",
       " ['16-megapixel (f/1.7) ', ' 5-megapixel (f/2.4)'],\n",
       " ['16-megapixel (f/1.7) ', ' 5-megapixel (f/2.4)'],\n",
       " ['16-megapixel (f/1.7) ', ' 5-megapixel (f/2.4)'],\n",
       " ['16-megapixel (f/1.7) ', ' 5-megapixel (f/2.4)'],\n",
       " ['64-megapixel (f/1.8) ', ' 8-megapixel (f/2.2) ', ' 2-megapixel (f/2.4)'],\n",
       " ['64-megapixel (f/1.8) ', ' 8-megapixel (f/2.2) ', ' 2-megapixel (f/2.4)'],\n",
       " ['64-megapixel (f/1.8) ', ' 8-megapixel (f/2.2) ', ' 2-megapixel (f/2.4)'],\n",
       " ['12-megapixel (f/1.7, 1/1.7-micron) ',\n",
       "  ' 12-megapixel (f/2.4, 1/3.4-micron) ',\n",
       "  ' 12-megapixel (f/2.2, 1/2.55-micron)'],\n",
       " ['50-megapixel (f/1.85, 1.2-micron) ', ' 12-megapixel (f/2.2, 1.25-micron)'],\n",
       " ['50-megapixel (f/1.85, 1.2-micron) ', ' 12-megapixel (f/2.2, 1.25-micron)'],\n",
       " ['50-megapixel (f/1.85, 1.2-micron) ', ' 12-megapixel (f/2.2, 1.25-micron)'],\n",
       " ['50-megapixel (f/1.85, 1.2-micron) ', ' 12-megapixel (f/2.2, 1.25-micron)'],\n",
       " ['50-megapixel (f/1.85, 1.2-micron) ', ' 12-megapixel (f/2.2, 1.25-micron)'],\n",
       " ['13-megapixel (f/2.2, 1.12-micron)'],\n",
       " ['13-megapixel (f/2.2, 1.12-micron)'],\n",
       " ['13-megapixel (f/2.2, 1.12-micron)'],\n",
       " ['13-megapixel (f/2.2, 1.12-micron)'],\n",
       " ['12-megapixel (f/1.8)'],\n",
       " ['12-megapixel (f/1.8)'],\n",
       " ['12-megapixel (f/1.8)'],\n",
       " ['12-megapixel (f/1.8)'],\n",
       " ['13-megapixel (f/2.2, 1.12-micron)'],\n",
       " ['16-megapixel (f/1.7) ', ' 5-megapixel (f/2.4)'],\n",
       " ['12-megapixel (f/1.7, 1.4-micron) ', ' 12-megapixel (f/2.4, 1.0-micron)'],\n",
       " ['48-megapixel (f/1.79) ', ' 8-megapixel (f/2.2)'],\n",
       " ['48-megapixel (f/1.79) ', ' 8-megapixel (f/2.2)'],\n",
       " ['64-megapixel (f/1.79) ',\n",
       "  ' 8-megapixel (f/2.2) ',\n",
       "  ' 2-megapixel ',\n",
       "  ' 2-megapixel'],\n",
       " ['64-megapixel (f/1.79) ',\n",
       "  ' 8-megapixel (f/2.2) ',\n",
       "  ' 2-megapixel ',\n",
       "  ' 2-megapixel'],\n",
       " ['64-megapixel (f/1.79) ',\n",
       "  ' 8-megapixel (f/2.2) ',\n",
       "  ' 2-megapixel ',\n",
       "  ' 2-megapixel'],\n",
       " ['64-megapixel (f/1.79) ',\n",
       "  ' 8-megapixel (f/2.2) ',\n",
       "  ' 2-megapixel ',\n",
       "  ' 2-megapixel'],\n",
       " ['64-megapixel (f/1.79) ',\n",
       "  ' 8-megapixel (f/2.2) ',\n",
       "  ' 2-megapixel ',\n",
       "  ' 2-megapixel'],\n",
       " ['48-megapixel (f/1.79) ', ' 8-megapixel (f/2.2)'],\n",
       " ['64-megapixel (f/1.79) ',\n",
       "  ' 8-megapixel (f/2.2) ',\n",
       "  ' 2-megapixel ',\n",
       "  ' 2-megapixel'],\n",
       " ['64-megapixel (f/1.79) ',\n",
       "  ' 8-megapixel (f/2.2) ',\n",
       "  ' 2-megapixel ',\n",
       "  ' 2-megapixel'],\n",
       " ['13-megapixel (f/2.2)'],\n",
       " ['64-megapixel (f/1.79) ',\n",
       "  ' 8-megapixel (f/2.2) ',\n",
       "  ' 2-megapixel ',\n",
       "  ' 2-megapixel'],\n",
       " ['13-megapixel (f/2.2)'],\n",
       " ['13-megapixel (f/2.2)'],\n",
       " ['13-megapixel (f/2.2)'],\n",
       " ['40-megapixel (f/1.8) ', ' 20-megapixel (f/2.2) ', ' 8-megapixel (f/2.4)'],\n",
       " ['64-megapixel (f/1.79) ',\n",
       "  ' 8-megapixel (f/2.2) ',\n",
       "  ' 2-megapixel ',\n",
       "  ' 2-megapixel'],\n",
       " ['48-megapixel (f/1.79) ', ' 8-megapixel (f/2.2)'],\n",
       " ['64-megapixel (f/1.79) ',\n",
       "  ' 8-megapixel (f/2.2) ',\n",
       "  ' 2-megapixel ',\n",
       "  ' 2-megapixel'],\n",
       " ['12-megapixel (1.4-micron)'],\n",
       " ['12-megapixel (f/1.7, 1.4-micron) ', ' 12-megapixel (f/2.4, 1.0-micron)'],\n",
       " ['48-megapixel (f/1.8, 0.8-micron) ',\n",
       "  ' 8-megapixel (f/2.2, 1.12-micron) ',\n",
       "  ' 5-megapixel (f/2.4, 1.12-micron)'],\n",
       " ['48-megapixel (f/1.8, 0.8-micron) ',\n",
       "  ' 8-megapixel (f/2.2, 1.12-micron) ',\n",
       "  ' 5-megapixel (f/2.4, 1.12-micron)'],\n",
       " ['12-megapixel (1.4-micron)'],\n",
       " ['13-megapixel (f/2.2)'],\n",
       " ['13-megapixel (f/2.2)'],\n",
       " ['13-megapixel (f/2.2)'],\n",
       " ['13-megapixel (f/2.2)'],\n",
       " ['12-megapixel (f/1.7, 1.4-micron) ', ' 12-megapixel (f/2.4, 1.0-micron)'],\n",
       " ['12-megapixel (1.4-micron)'],\n",
       " ['12-megapixel (1.4-micron)'],\n",
       " ['12-megapixel (1.4-micron)'],\n",
       " ['12-megapixel (1.4-micron)'],\n",
       " ['12-megapixel (1.4-micron)'],\n",
       " ['12-megapixel (1.4-micron)'],\n",
       " ['48-megapixel (f/1.79) ', ' 8-megapixel (f/2.2)'],\n",
       " ['48-megapixel (f/1.79, 1.6-micron) ', ' 5-megapixel'],\n",
       " ['13-megapixel (f/2.2, 1.12-micron)'],\n",
       " ['50-megapixel (f/1.95) ', ' 48-megapixel (f/2.2) ', ' 48-megapixel'],\n",
       " ['16-megapixel (f/2.0, 1.0-micron)'],\n",
       " ['16-megapixel (f/2.0, 1.0-micron)'],\n",
       " ['50-megapixel (f/1.95) ', ' 48-megapixel (f/2.2) ', ' 48-megapixel'],\n",
       " ['16-megapixel (f/2.0, 1.0-micron)'],\n",
       " ['50-megapixel (f/1.85, 1.2-micron) ',\n",
       "  ' 12-megapixel (f/2.2, 1.25-micron) ',\n",
       "  ' 48-megapixel (f/3.5, 0.8-micron)'],\n",
       " ['13-megapixel (f/2.2, 1.12-micron)'],\n",
       " ['48-megapixel (f/1.79, 1.6-micron) ', ' 5-megapixel'],\n",
       " ['50-megapixel (f/1.85, 1.2-micron) ',\n",
       "  ' 12-megapixel (f/2.2, 1.25-micron) ',\n",
       "  ' 48-megapixel (f/3.5, 0.8-micron)'],\n",
       " ['16-megapixel (f/2.0, 1.0-micron)'],\n",
       " ['13-megapixel (f/2.2, 1.12-micron)'],\n",
       " ['13-megapixel (f/2.2, 1.12-micron)'],\n",
       " ['13-megapixel (f/2.0) ', ' 5-megapixel'],\n",
       " ['48-megapixel (f/1.79, 1.6-micron) ', ' 5-megapixel'],\n",
       " ['48-megapixel (f/1.79, 1.6-micron) ', ' 5-megapixel'],\n",
       " ['13-megapixel (f/2.0) ', ' 5-megapixel'],\n",
       " ['48-megapixel (f/1.79, 1.6-micron) ', ' 5-megapixel'],\n",
       " ['48-megapixel (f/1.79, 1.6-micron) ', ' 5-megapixel'],\n",
       " ['50-megapixel (f/1.8, 0.64-micron) ',\n",
       "  ' 8-megapixel (f/2.2, 1.12-micron) ',\n",
       "  ' 2-megapixel (f/2.4, 1.75-micron) ',\n",
       "  ' 2-megapixel (f/2.4, 1.75-micron)'],\n",
       " ['50-megapixel (f/1.8, 0.64-micron) ',\n",
       "  ' 8-megapixel (f/2.2, 1.12-micron) ',\n",
       "  ' 2-megapixel (f/2.4, 1.75-micron) ',\n",
       "  ' 2-megapixel (f/2.4, 1.75-micron)'],\n",
       " ['50-megapixel (f/1.8) ', ' 8-megapixel ', ' 2-megapixel'],\n",
       " ['12-megapixel (f/1.8) ', ' 64-megapixel (f/2.0) ', ' 12-megapixel (f/2.2)'],\n",
       " ['12-megapixel (f/1.8) ', ' 64-megapixel (f/2.0) ', ' 12-megapixel (f/2.2)'],\n",
       " ['12-megapixel (f/1.8) ', ' 64-megapixel (f/2.0) ', ' 12-megapixel (f/2.2)'],\n",
       " ['50-megapixel (f/1.8) ', ' 8-megapixel ', ' 2-megapixel'],\n",
       " ['50-megapixel (f/1.8) ', ' 8-megapixel ', ' 2-megapixel'],\n",
       " ['50-megapixel (f/1.8) ', ' 8-megapixel ', ' 2-megapixel'],\n",
       " ['50-megapixel (f/1.8) ', ' 8-megapixel ', ' 2-megapixel'],\n",
       " ['50-megapixel (f/1.8) ', ' 8-megapixel ', ' 2-megapixel'],\n",
       " ['48-megapixel (f/1.79, 1.6-micron) ', ' 5-megapixel'],\n",
       " ['16-megapixel (f/2.0)'],\n",
       " ['16-megapixel (f/2.0)'],\n",
       " ['48-megapixel (f/1.79, 1.6-micron) ', ' 5-megapixel'],\n",
       " ['13-megapixel (f/2.0, 1.12-micron) ', ' 5-megapixel (f/2.4, 1.12-micron)'],\n",
       " ['13-megapixel (f/2.0) ', ' 5-megapixel'],\n",
       " ['13-megapixel (f/2.0, 1.12-micron) ', ' 5-megapixel (f/2.4, 1.12-micron)'],\n",
       " ['13-megapixel (f/2.0) ', ' 5-megapixel'],\n",
       " ['13-megapixel (f/2.0, 1.12-micron) ', ' 5-megapixel (f/2.4, 1.12-micron)'],\n",
       " ['108-megapixel (f/1.9, 0.7-micron) ',\n",
       "  ' 8-megapixel (f/2.2) ',\n",
       "  ' 2-megapixel (f/2.4)'],\n",
       " ['48-megapixel (f/1.8) ',\n",
       "  ' 8-megapixel (f/2.25) ',\n",
       "  ' 2-megapixel (f/2.4) ',\n",
       "  ' 2-megapixel (f/2.24)'],\n",
       " ['48-megapixel (f/1.8) ',\n",
       "  ' 8-megapixel (f/2.25) ',\n",
       "  ' 2-megapixel (f/2.4) ',\n",
       "  ' 2-megapixel (f/2.24)'],\n",
       " ['48-megapixel (f/1.8) ',\n",
       "  ' 8-megapixel (f/2.25) ',\n",
       "  ' 2-megapixel (f/2.4) ',\n",
       "  ' 2-megapixel (f/2.24)'],\n",
       " ['13-megapixel (f/2.2)'],\n",
       " ['12-megapixel (f/1.5) ', ' 16-megapixel (f/2.2)'],\n",
       " ['108-megapixel (f/1.9, 0.7-micron) ',\n",
       "  ' 8-megapixel (f/2.2) ',\n",
       "  ' 2-megapixel (f/2.4)'],\n",
       " ['13-megapixel (f/2.2)'],\n",
       " ['108-megapixel (f/1.9, 0.7-micron) ',\n",
       "  ' 8-megapixel (f/2.2) ',\n",
       "  ' 2-megapixel (f/2.4)'],\n",
       " ['13-megapixel (f/2.2)'],\n",
       " ['13-megapixel (f/2.2)'],\n",
       " ['48-megapixel (f/1.8) ',\n",
       "  ' 8-megapixel (f/2.25) ',\n",
       "  ' 2-megapixel (f/2.4) ',\n",
       "  ' 2-megapixel (f/2.24)'],\n",
       " ['48-megapixel (f/1.8) ',\n",
       "  ' 8-megapixel (f/2.25) ',\n",
       "  ' 2-megapixel (f/2.4) ',\n",
       "  ' 2-megapixel (f/2.24)'],\n",
       " ['16-megapixel (f/1.7, 1.12-micron) ', ' 20-megapixel (f/1.7, 1.0-micron)'],\n",
       " ['108-megapixel (f/1.9, 0.7-micron) ',\n",
       "  ' 8-megapixel (f/2.2) ',\n",
       "  ' 2-megapixel (f/2.4)'],\n",
       " ['12-megapixel (f/1.5) ', ' 16-megapixel (f/2.2)'],\n",
       " ['16-megapixel (f/1.7, 1.12-micron) ', ' 20-megapixel (f/1.7, 1.0-micron)'],\n",
       " ['108-megapixel (f/1.9, 0.7-micron) ',\n",
       "  ' 8-megapixel (f/2.2) ',\n",
       "  ' 2-megapixel (f/2.4)'],\n",
       " ['48-megapixel (f/1.8) ',\n",
       "  ' 8-megapixel (f/2.25) ',\n",
       "  ' 2-megapixel (f/2.4) ',\n",
       "  ' 2-megapixel (f/2.24)'],\n",
       " ['108-megapixel (f/1.9, 0.7-micron) ',\n",
       "  ' 8-megapixel (f/2.2) ',\n",
       "  ' 2-megapixel (f/2.4)'],\n",
       " ['108-megapixel (f/1.9, 0.7-micron) ',\n",
       "  ' 8-megapixel (f/2.2) ',\n",
       "  ' 2-megapixel (f/2.4)'],\n",
       " ['16-megapixel ', ' 5-megapixel'],\n",
       " ['16-megapixel ', ' 5-megapixel'],\n",
       " ['16-megapixel (f/1.7)'],\n",
       " ['48-megapixel (f/1.8) ',\n",
       "  ' 8-megapixel (f/2.25) ',\n",
       "  ' 2-megapixel (f/2.4) ',\n",
       "  ' 2-megapixel (f/2.24)'],\n",
       " ['108-megapixel (f/1.9, 0.7-micron) ',\n",
       "  ' 8-megapixel (f/2.2) ',\n",
       "  ' 2-megapixel (f/2.4)'],\n",
       " ['108-megapixel (f/1.9, 0.7-micron) ',\n",
       "  ' 8-megapixel (f/2.2) ',\n",
       "  ' 2-megapixel (f/2.4)'],\n",
       " ['12-megapixel (f/1.5) ', ' 16-megapixel (f/2.2)'],\n",
       " ['16-megapixel (f/1.7)'],\n",
       " ['13-megapixel (f/2.0)'],\n",
       " ['13-megapixel (f/2.0)'],\n",
       " ['13-megapixel (f/2.2)'],\n",
       " ['13-megapixel (f/2.2)'],\n",
       " ['13-megapixel (f/2.2)'],\n",
       " ['13-megapixel (f/2.2)'],\n",
       " ['16-megapixel (f/1.7)'],\n",
       " ['13-megapixel (f/2.2)'],\n",
       " ['13-megapixel (f/2.2)'],\n",
       " ['13-megapixel (f/2.2)'],\n",
       " ['64-megapixel (f/1.7) ', ' 8-megapixel (f/2.2) ', ' 2-megapixel (f/2.4)'],\n",
       " ['13-megapixel (f/2.2)'],\n",
       " ['16-megapixel (f/1.8)'],\n",
       " ['16-megapixel (f/1.8)'],\n",
       " ['16-megapixel (f/1.8)'],\n",
       " ['16-megapixel (f/1.8)'],\n",
       " ['12-megapixel (f/2.2, 1.25-micron) ', ' 2-megapixel'],\n",
       " ['12-megapixel (f/2.2, 1.25-micron) ', ' 2-megapixel'],\n",
       " ['12-megapixel (f/2.2, 1.25-micron) ', ' 2-megapixel'],\n",
       " ['12-megapixel (f/2.2, 1.25-micron) ', ' 2-megapixel'],\n",
       " ['12-megapixel (f/2.2, 1.25-micron) ', ' 2-megapixel'],\n",
       " ['12-megapixel (f/2.2, 1.25-micron) ', ' 2-megapixel'],\n",
       " ['16-megapixel (f/1.8)'],\n",
       " ['64-megapixel (f/1.7) ', ' 8-megapixel (f/2.2) ', ' 2-megapixel (f/2.4)'],\n",
       " ['13-megapixel (f/2.2)'],\n",
       " ['16-megapixel (f/1.7)'],\n",
       " ['64-megapixel (f/1.7) ', ' 8-megapixel (f/2.2) ', ' 2-megapixel (f/2.4)'],\n",
       " ['13-megapixel (f/2.2)'],\n",
       " ['64-megapixel (f/1.8, 0.8-micron) ',\n",
       "  ' 13-megapixel (f/1.9, 1.0-micron) ',\n",
       "  ' 12-megapixel (f/2.2, 1.4-micron)'],\n",
       " ['64-megapixel (f/1.8, 0.8-micron) ',\n",
       "  ' 13-megapixel (f/1.9, 1.0-micron) ',\n",
       "  ' 12-megapixel (f/2.2, 1.4-micron)'],\n",
       " ['16-megapixel (f/1.7, 1.12-micron) ', ' 20-megapixel (f/1.7, 1.0-micron)'],\n",
       " ['64-megapixel (f/1.7) ', ' 8-megapixel (f/2.2) ', ' 2-megapixel (f/2.4)'],\n",
       " ['16-megapixel (f/2.2, 1.25-micron) ', ' 2-megapixel'],\n",
       " ['16-megapixel (f/2.2, 1.25-micron) ', ' 2-megapixel'],\n",
       " ['13-megapixel (f/1.9)'],\n",
       " ['13-megapixel (f/1.9)'],\n",
       " ['48-megapixel (f/1.75, 1.6-micron) ',\n",
       "  ' 8-megapixel (f/2.4, 1.12-micron) ',\n",
       "  ' 13-megapixel (f/2.4, 1.12-micron)'],\n",
       " ['48-megapixel (f/2.0) ', ' 12-megapixel (f/2.2) ', ' 5-megapixel (f/2.4)'],\n",
       " ['48-megapixel (f/1.6, 1.6-micron) ',\n",
       "  ' 8-megapixel (f/2.4, 1-micron) ',\n",
       "  ' 16-megapixel (f/2.2)'],\n",
       " ['48-megapixel (f/2.0) ', ' 12-megapixel (f/2.2) ', ' 5-megapixel (f/2.4)'],\n",
       " ['16-megapixel (f/2.2, 1.25-micron) ', ' 2-megapixel'],\n",
       " ['13-megapixel'],\n",
       " ['13-megapixel'],\n",
       " ['13-megapixel'],\n",
       " ['13-megapixel'],\n",
       " ['48-megapixel (f/2.0) ', ' 12-megapixel (f/2.2) ', ' 5-megapixel (f/2.4)'],\n",
       " ['16-megapixel (f/2.2, 1.25-micron) ', ' 2-megapixel'],\n",
       " ['16-megapixel'],\n",
       " ['16-megapixel (f/2.2, 1.25-micron) ', ' 2-megapixel'],\n",
       " ['48-megapixel (f/1.75, 1.6-micron) ',\n",
       "  ' 8-megapixel (f/2.4, 1.12-micron) ',\n",
       "  ' 13-megapixel (f/2.4, 1.12-micron)'],\n",
       " ['48-megapixel (f/1.75, 1.6-micron) ',\n",
       "  ' 8-megapixel (f/2.4, 1.12-micron) ',\n",
       "  ' 13-megapixel (f/2.4, 1.12-micron)'],\n",
       " ['48-megapixel (f/1.75, 1.6-micron) ',\n",
       "  ' 8-megapixel (f/2.4, 1.12-micron) ',\n",
       "  ' 13-megapixel (f/2.4, 1.12-micron)'],\n",
       " ['48-megapixel (f/1.75, 1.6-micron) ',\n",
       "  ' 8-megapixel (f/2.4, 1.12-micron) ',\n",
       "  ' 13-megapixel (f/2.4, 1.12-micron)'],\n",
       " ['12-megapixel ',\n",
       "  ' 12-megapixel (f/1.82) ',\n",
       "  ' 12-megapixel (f/1.82) ',\n",
       "  ' 12-megapixel (f/1.82) ',\n",
       "  ' 12-megapixel (f/1.82)'],\n",
       " ['48-megapixel (f/1.75, 1.6-micron) ',\n",
       "  ' 8-megapixel (f/2.4, 1.12-micron) ',\n",
       "  ' 13-megapixel (f/2.4, 1.12-micron)'],\n",
       " ['16-megapixel'],\n",
       " ['108-megapixel (f/1.8) ',\n",
       "  ' 48-megapixel (f/3.5) ',\n",
       "  ' 12-megapixel (f/2.2) ',\n",
       "  ' Depth'],\n",
       " ['16-megapixel'],\n",
       " ['108-megapixel (f/1.8) ',\n",
       "  ' 48-megapixel (f/3.5) ',\n",
       "  ' 12-megapixel (f/2.2) ',\n",
       "  ' Depth'],\n",
       " ['108-megapixel (f/1.8) ',\n",
       "  ' 48-megapixel (f/3.5) ',\n",
       "  ' 12-megapixel (f/2.2) ',\n",
       "  ' Depth'],\n",
       " ['108-megapixel (f/1.8) ',\n",
       "  ' 48-megapixel (f/3.5) ',\n",
       "  ' 12-megapixel (f/2.2) ',\n",
       "  ' Depth'],\n",
       " ['16-megapixel (f/2.2, 1.25-micron) ', ' 2-megapixel'],\n",
       " ['48-megapixel (f/1.75, 1.6-micron) ',\n",
       "  ' 8-megapixel (f/2.4, 1.12-micron) ',\n",
       "  ' 13-megapixel (f/2.4, 1.12-micron)'],\n",
       " ['16-megapixel'],\n",
       " ['13-megapixel'],\n",
       " ['13-megapixel'],\n",
       " ['50-megapixel (f/1.8, 0.64-micron) ',\n",
       "  ' 8-megapixel (f/2.2, 1.12-micron) ',\n",
       "  ' 2-megapixel (f/2.4, 1.75-micron)'],\n",
       " ['16-megapixel (f/2.0, 1.12-micron)'],\n",
       " ['12-megapixel (f/1.5-2.4) ',\n",
       "  ' 16-megapixel (f/2.2) ',\n",
       "  ' 12-megapixel (f/2.1) ',\n",
       "  ' 0.3-megapixel'],\n",
       " ['48-megapixel (f/1.6, 1.6-micron) ',\n",
       "  ' 8-megapixel (f/2.4, 1-micron) ',\n",
       "  ' 16-megapixel (f/2.2)'],\n",
       " ['48-megapixel (f/1.6, 1.6-micron) ',\n",
       "  ' 8-megapixel (f/2.4, 1-micron) ',\n",
       "  ' 16-megapixel (f/2.2)'],\n",
       " ['12-megapixel (f/2.2, 1.25-micron)'],\n",
       " ['12-megapixel (f/2.2, 1.25-micron)'],\n",
       " ['12-megapixel (f/2.2, 1.25-micron)'],\n",
       " ['16-megapixel (f/2.0, 1.12-micron)'],\n",
       " ['12-megapixel (f/2.2, 1.25-micron)'],\n",
       " ['12-megapixel (f/2.2, 1.25-micron)'],\n",
       " ['13-megapixel (f/2.0, 1.12-micron)'],\n",
       " ['13-megapixel (f/2.0, 1.12-micron)'],\n",
       " ['13-megapixel (f/2.0, 1.12-micron)'],\n",
       " ['12-megapixel (f/2.2, 1.25-micron)'],\n",
       " ['12-megapixel (f/2.2, 1.25-micron)'],\n",
       " ['12-megapixel (f/1.5-2.4) ',\n",
       "  ' 16-megapixel (f/2.2) ',\n",
       "  ' 12-megapixel (f/2.1) ',\n",
       "  ' 0.3-megapixel'],\n",
       " ['12-megapixel (f/2.2, 1.25-micron)'],\n",
       " ['16-megapixel (f/2.0, 1.12-micron)'],\n",
       " ['12-megapixel (f/1.5-2.4) ',\n",
       "  ' 16-megapixel (f/2.2) ',\n",
       "  ' 12-megapixel (f/2.1) ',\n",
       "  ' 0.3-megapixel'],\n",
       " ['48-megapixel (f/1.78, 1.12-micron) ',\n",
       "  ' 8-megapixel (f/2.44, 1.0-micron) ',\n",
       "  ' 48-megapixel (f/2.2) ',\n",
       "  ' 5-megapixel (f/2.4)'],\n",
       " ['50-megapixel (f/1.8, 0.64-micron) ',\n",
       "  ' 8-megapixel (f/2.2, 1.12-micron) ',\n",
       "  ' 2-megapixel (f/2.4, 1.75-micron)'],\n",
       " ['50-megapixel (f/1.8, 0.64-micron) ',\n",
       "  ' 8-megapixel (f/2.2, 1.12-micron) ',\n",
       "  ' 2-megapixel (f/2.4, 1.75-micron)'],\n",
       " ['50-megapixel (f/1.8, 0.64-micron) ',\n",
       "  ' 8-megapixel (f/2.2, 1.12-micron) ',\n",
       "  ' 2-megapixel (f/2.4, 1.75-micron)'],\n",
       " ['48-megapixel (f/1.78, 1.12-micron) ',\n",
       "  ' 8-megapixel (f/2.44, 1.0-micron) ',\n",
       "  ' 48-megapixel (f/2.2) ',\n",
       "  ' 5-megapixel (f/2.4)'],\n",
       " ['48-megapixel (f/1.78, 1.12-micron) ',\n",
       "  ' 8-megapixel (f/2.44, 1.0-micron) ',\n",
       "  ' 48-megapixel (f/2.2) ',\n",
       "  ' 5-megapixel (f/2.4)'],\n",
       " ['48-megapixel (f/1.6, 1.6-micron) ',\n",
       "  ' 8-megapixel (f/2.4, 1-micron) ',\n",
       "  ' 16-megapixel (f/2.2)'],\n",
       " ['48-megapixel (f/1.78, 1.12-micron) ',\n",
       "  ' 8-megapixel (f/2.44, 1.0-micron) ',\n",
       "  ' 48-megapixel (f/2.2) ',\n",
       "  ' 5-megapixel (f/2.4)'],\n",
       " ['12-megapixel (f/1.5-2.4) ',\n",
       "  ' 16-megapixel (f/2.2) ',\n",
       "  ' 12-megapixel (f/2.1) ',\n",
       "  ' 0.3-megapixel'],\n",
       " ['48-megapixel (f/1.75, 1.6-micron) ',\n",
       "  ' 8-megapixel (f/2.4, 1.12-micron) ',\n",
       "  ' 13-megapixel (f/2.4, 1.12-micron)'],\n",
       " ['13-megapixel (f/2.2)'],\n",
       " ['13-megapixel (f/2.0, 1.12-micron)'],\n",
       " ['13-megapixel (f/2.0, 1.12-micron)'],\n",
       " ['13-megapixel (f/2.0, 1.12-micron)'],\n",
       " ['48-megapixel (f/1.6, 1.6-micron) ',\n",
       "  ' 8-megapixel (f/2.4, 1-micron) ',\n",
       "  ' 16-megapixel (f/2.2)'],\n",
       " ['48-megapixel (f/1.78, 1.12-micron) ',\n",
       "  ' 8-megapixel (f/2.44, 1.0-micron) ',\n",
       "  ' 48-megapixel (f/2.2) ',\n",
       "  ' 5-megapixel (f/2.4)'],\n",
       " ['12-megapixel (f/1.5-2.4) ',\n",
       "  ' 16-megapixel (f/2.2) ',\n",
       "  ' 12-megapixel (f/2.1) ',\n",
       "  ' 0.3-megapixel'],\n",
       " ['13-megapixel (f/2.2)'],\n",
       " ['108-megapixel (f/1.89, 0.7-micron) ', ' 8-megapixel (f/2.2, 1.0-micron)'],\n",
       " ['108-megapixel (f/1.89, 0.7-micron) ', ' 8-megapixel (f/2.2, 1.0-micron)'],\n",
       " ['50-megapixel (f/1.7) ', ' 50-megapixel (f/2.2) ', ' 13-megapixel (f/2.4)'],\n",
       " ['108-megapixel (f/1.89, 0.7-micron) ', ' 8-megapixel (f/2.2, 1.0-micron)'],\n",
       " ['108-megapixel (f/1.8) ',\n",
       "  ' 8-megapixel (f/2.2) ',\n",
       "  ' 2-megapixel (f/2.4) ',\n",
       "  ' 2-megapixel (f/2.4)'],\n",
       " ['48-megapixel (f/1.79, 1.6-micron) ', ' 13-megapixel'],\n",
       " ['108-megapixel (f/1.8) ',\n",
       "  ' 8-megapixel (f/2.2) ',\n",
       "  ' 2-megapixel (f/2.4) ',\n",
       "  ' 2-megapixel (f/2.4)'],\n",
       " ['108-megapixel (f/1.8) ',\n",
       "  ' 8-megapixel (f/2.2) ',\n",
       "  ' 2-megapixel (f/2.4) ',\n",
       "  ' 2-megapixel (f/2.4)'],\n",
       " ['108-megapixel (f/1.8) ',\n",
       "  ' 8-megapixel (f/2.2) ',\n",
       "  ' 2-megapixel (f/2.4) ',\n",
       "  ' 2-megapixel (f/2.4)'],\n",
       " ['108-megapixel (f/1.8) ',\n",
       "  ' 8-megapixel (f/2.2) ',\n",
       "  ' 2-megapixel (f/2.4) ',\n",
       "  ' 2-megapixel (f/2.4)'],\n",
       " ['108-megapixel (f/1.8) ',\n",
       "  ' 8-megapixel (f/2.2) ',\n",
       "  ' 2-megapixel (f/2.4) ',\n",
       "  ' 2-megapixel (f/2.4)'],\n",
       " ['108-megapixel (f/1.8) ',\n",
       "  ' 8-megapixel (f/2.2) ',\n",
       "  ' 2-megapixel (f/2.4) ',\n",
       "  ' 2-megapixel (f/2.4)'],\n",
       " ['13-megapixel (f/1.7)'],\n",
       " ['13-megapixel (f/1.7)'],\n",
       " ['16-megapixel (f/1.7) ', ' 5-megapixel (f/2.4)'],\n",
       " ['48-megapixel (f/1.79, 1.6-micron) ', ' 13-megapixel'],\n",
       " ['48-megapixel (f/1.79, 1.6-micron) ', ' 13-megapixel'],\n",
       " ['48-megapixel (f/1.79, 1.6-micron) ', ' 13-megapixel'],\n",
       " ['48-megapixel (f/1.79, 1.6-micron) ', ' 13-megapixel'],\n",
       " ['108-megapixel (f/1.8) ',\n",
       "  ' 8-megapixel (f/2.2) ',\n",
       "  ' 2-megapixel (f/2.4) ',\n",
       "  ' 2-megapixel (f/2.4)'],\n",
       " ['108-megapixel (f/1.89, 0.7-micron) ', ' 8-megapixel (f/2.2, 1.0-micron)'],\n",
       " ['108-megapixel (f/1.89, 0.7-micron) ', ' 8-megapixel (f/2.2, 1.0-micron)'],\n",
       " ['108-megapixel (f/1.89, 0.7-micron) ', ' 8-megapixel (f/2.2, 1.0-micron)'],\n",
       " ['108-megapixel (f/1.89, 0.7-micron) ', ' 8-megapixel (f/2.2, 1.0-micron)'],\n",
       " ['48-megapixel (f/1.79, 1.6-micron) ', ' 13-megapixel'],\n",
       " ['48-megapixel (f/1.79, 1.6-micron) ', ' 13-megapixel'],\n",
       " ['64-megapixel (f/1.79) ', ' 8-megapixel (f/2.2) ', ' 2-megapixel (f/2.4)'],\n",
       " ['108-megapixel (f/1.69, 1.6-micron) ',\n",
       "  ' 13-megapixel (f/2.4, 1.12-micron) ',\n",
       "  ' 2-megapixel (f/2.4, 1.75-micron) ',\n",
       "  ' 2-megapixel (f/2.4, 1.75-micron)'],\n",
       " ['48-megapixel (f/1.75, 0.8-micron) ',\n",
       "  ' 16-megapixel (f/2.2) ',\n",
       "  ' 2-megapixel (f/2.4, 1.75-micron)'],\n",
       " ['48-megapixel (f/1.75, 0.8-micron) ',\n",
       "  ' 16-megapixel (f/2.2) ',\n",
       "  ' 2-megapixel (f/2.4, 1.75-micron)'],\n",
       " ['48-megapixel (f/1.75, 0.8-micron) ',\n",
       "  ' 16-megapixel (f/2.2) ',\n",
       "  ' 2-megapixel (f/2.4, 1.75-micron)'],\n",
       " ['48-megapixel (f/1.75, 0.8-micron) ',\n",
       "  ' 16-megapixel (f/2.2) ',\n",
       "  ' 2-megapixel (f/2.4, 1.75-micron)'],\n",
       " ['48-megapixel (f/1.75, 0.8-micron) ',\n",
       "  ' 16-megapixel (f/2.2) ',\n",
       "  ' 2-megapixel (f/2.4, 1.75-micron)'],\n",
       " ['48-megapixel (f/1.75, 0.8-micron) ',\n",
       "  ' 16-megapixel (f/2.2) ',\n",
       "  ' 2-megapixel (f/2.4, 1.75-micron)'],\n",
       " ['13-megapixel (f/2.2)'],\n",
       " ['13-megapixel (f/2.2)'],\n",
       " ['48-megapixel (f/1.8) ', ' 8-megapixel ', ' 2-megapixel'],\n",
       " ['108-megapixel (f/1.89, 0.7-micron) ', ' 8-megapixel (f/2.2, 1.0-micron)'],\n",
       " ['64-megapixel (f/1.79) ', ' 8-megapixel (f/2.2) ', ' 2-megapixel (f/2.4)'],\n",
       " ['64-megapixel (f/1.79) ', ' 8-megapixel (f/2.2) ', ' 2-megapixel (f/2.4)'],\n",
       " ['64-megapixel (f/1.79) ', ' 8-megapixel (f/2.2) ', ' 2-megapixel (f/2.4)'],\n",
       " ['64-megapixel (f/1.79) ', ' 8-megapixel (f/2.2) ', ' 2-megapixel (f/2.4)'],\n",
       " ['108-megapixel (f/1.89, 0.7-micron) ', ' 8-megapixel (f/2.2, 1.0-micron)'],\n",
       " ['108-megapixel (f/1.89, 0.7-micron) ', ' 8-megapixel (f/2.2, 1.0-micron)'],\n",
       " ['108-megapixel (f/1.89, 0.7-micron) ', ' 8-megapixel (f/2.2, 1.0-micron)'],\n",
       " ['108-megapixel (f/1.89, 0.7-micron) ', ' 8-megapixel (f/2.2, 1.0-micron)'],\n",
       " ['64-megapixel (f/1.79) ', ' 8-megapixel (f/2.2) ', ' 2-megapixel (f/2.4)'],\n",
       " ['48-megapixel (f/1.8) ', ' 8-megapixel ', ' 2-megapixel'],\n",
       " ['48-megapixel (f/1.8) ', ' 8-megapixel ', ' 2-megapixel'],\n",
       " ['48-megapixel (f/1.8) ', ' 8-megapixel ', ' 2-megapixel'],\n",
       " ['13-megapixel (f/1.8) ', ' 8-megapixel (f/2.2) ', ' 5-megapixel (f/2.2)'],\n",
       " ['13-megapixel (f/1.8) ', ' 8-megapixel (f/2.2) ', ' 5-megapixel (f/2.2)'],\n",
       " ['13-megapixel (f/1.8) ', ' 8-megapixel (f/2.2) ', ' 5-megapixel (f/2.2)'],\n",
       " ['13-megapixel (f/1.8) ', ' 8-megapixel (f/2.2) ', ' 5-megapixel (f/2.2)'],\n",
       " ['13-megapixel (f/1.8) ', ' 8-megapixel (f/2.2) ', ' 5-megapixel (f/2.2)'],\n",
       " ['13-megapixel (f/1.8) ', ' 8-megapixel (f/2.2) ', ' 5-megapixel (f/2.2)'],\n",
       " ['13-megapixel (f/2.2)'],\n",
       " ['13-megapixel (f/2.2)'],\n",
       " ['13-megapixel (f/2.2)'],\n",
       " ['13-megapixel (f/2.2)'],\n",
       " ['13-megapixel (f/1.9)'],\n",
       " ['13-megapixel (f/1.9)'],\n",
       " ['13-megapixel (f/1.9)'],\n",
       " ['13-megapixel (f/1.9)'],\n",
       " ['48-megapixel (f/1.75, 0.8-micron) ',\n",
       "  ' 8-megapixel (f/2.25) ',\n",
       "  ' 5-megapixel (f/2.4) ',\n",
       "  ' 2-megapixel (f/2.4)'],\n",
       " ['48-megapixel (f/1.75, 0.8-micron) ',\n",
       "  ' 8-megapixel (f/2.25) ',\n",
       "  ' 5-megapixel (f/2.4) ',\n",
       "  ' 2-megapixel (f/2.4)'],\n",
       " ['48-megapixel (f/1.75, 0.8-micron) ',\n",
       "  ' 8-megapixel (f/2.25) ',\n",
       "  ' 5-megapixel (f/2.4) ',\n",
       "  ' 2-megapixel (f/2.4)'],\n",
       " ['48-megapixel (f/1.75, 0.8-micron) ',\n",
       "  ' 8-megapixel (f/2.25) ',\n",
       "  ' 5-megapixel (f/2.4) ',\n",
       "  ' 2-megapixel (f/2.4)'],\n",
       " ['48-megapixel (f/1.75, 0.8-micron) ',\n",
       "  ' 8-megapixel (f/2.25) ',\n",
       "  ' 5-megapixel (f/2.4) ',\n",
       "  ' 2-megapixel (f/2.4)'],\n",
       " ['108-megapixel (f/1.89, 0.7-micron) ', ' 8-megapixel (f/2.2, 1.0-micron)'],\n",
       " ['108-megapixel (f/1.89, 0.7-micron) ', ' 8-megapixel (f/2.2, 1.0-micron)'],\n",
       " ['108-megapixel (f/1.89, 0.7-micron) ', ' 8-megapixel (f/2.2, 1.0-micron)'],\n",
       " ['108-megapixel (f/1.89, 0.7-micron) ', ' 8-megapixel (f/2.2, 1.0-micron)'],\n",
       " ['64-megapixel (f/1.79) ', ' 8-megapixel (f/2.2) ', ' 2-megapixel (f/2.4)'],\n",
       " ['12-megapixel (f/1.8) ', ' 2-megapixel'],\n",
       " ['12-megapixel (f/1.8) ', ' 2-megapixel'],\n",
       " ['12-megapixel (f/1.8) ', ' 2-megapixel'],\n",
       " ['12-megapixel (f/1.8) ', ' 2-megapixel'],\n",
       " ['13-megapixel (f/2.2) ', ' 2-megapixel (f/2.4)'],\n",
       " ['13-megapixel (f/2.2) ', ' 2-megapixel (f/2.4)'],\n",
       " ['13-megapixel (f/2.2) ', ' 2-megapixel (f/2.4)'],\n",
       " ['13-megapixel (f/2.2) ', ' 2-megapixel (f/2.4)'],\n",
       " ['13-megapixel (f/2.2) ', ' 2-megapixel (f/2.4)'],\n",
       " ['13-megapixel (f/2.2) ', ' 2-megapixel (f/2.4)'],\n",
       " ['13-megapixel ', ' 2-megapixel'],\n",
       " ['13-megapixel ', ' 2-megapixel'],\n",
       " ['13-megapixel ', ' 2-megapixel'],\n",
       " ['13-megapixel ', ' 2-megapixel'],\n",
       " ['13-megapixel ', ' 2-megapixel'],\n",
       " ['13-megapixel ', ' 2-megapixel'],\n",
       " ['108-megapixel (f/1.69, 1.6-micron) ',\n",
       "  ' 13-megapixel (f/2.4, 1.12-micron) ',\n",
       "  ' 2-megapixel (f/2.4, 1.75-micron) ',\n",
       "  ' 2-megapixel (f/2.4, 1.75-micron)'],\n",
       " ['108-megapixel (f/1.69, 1.6-micron) ',\n",
       "  ' 13-megapixel (f/2.4, 1.12-micron) ',\n",
       "  ' 2-megapixel (f/2.4, 1.75-micron) ',\n",
       "  ' 2-megapixel (f/2.4, 1.75-micron)'],\n",
       " ['64-megapixel (f/1.79) ', ' 8-megapixel (f/2.2) ', ' 2-megapixel (f/2.4)'],\n",
       " ['108-megapixel (f/1.69, 1.6-micron) ',\n",
       "  ' 13-megapixel (f/2.4, 1.12-micron) ',\n",
       "  ' 2-megapixel (f/2.4, 1.75-micron) ',\n",
       "  ' 2-megapixel (f/2.4, 1.75-micron)'],\n",
       " ['64-megapixel (f/1.79) ', ' 8-megapixel (f/2.2) ', ' 2-megapixel (f/2.4)'],\n",
       " ['64-megapixel (f/1.8, 0.8-micron) ',\n",
       "  ' 8-megapixel (f/2.25, 1.12-micron) ',\n",
       "  ' 2-megapixel (f/2.4, 1.75-micron) ',\n",
       "  ' 2-megapixel (f/2.4, 1.75-micron)'],\n",
       " ['48-megapixel (f/1.7, 1.6-micron) ', ' 5-megapixel (f/2.4, 1.12-micron)'],\n",
       " ['48-megapixel (f/1.7, 1.6-micron) ', ' 5-megapixel (f/2.4, 1.12-micron)'],\n",
       " ['48-megapixel (f/1.7, 1.6-micron) ', ' 5-megapixel (f/2.4, 1.12-micron)'],\n",
       " ['64-megapixel (f/1.7) ', ' 8-megapixel (f/2.25) ', ' 2-megapixel (f/2.4)'],\n",
       " ['64-megapixel (f/1.7) ', ' 8-megapixel (f/2.25) ', ' 2-megapixel (f/2.4)'],\n",
       " ['12-megapixel (f/2.2, 1.25-micron)'],\n",
       " ['12-megapixel (f/2.2, 1.25-micron)'],\n",
       " ['12-megapixel (f/2.2, 1.25-micron)'],\n",
       " ['12-megapixel (f/2.2, 1.25-micron)'],\n",
       " ['12-megapixel (f/2.2, 1.25-micron)'],\n",
       " ['12-megapixel (f/2.2, 1.25-micron)'],\n",
       " ['12-megapixel (f/2.2, 1.25-micron)'],\n",
       " ['12-megapixel (f/2.2, 1.25-micron)'],\n",
       " ['12-megapixel (f/2.2, 1.25-micron)'],\n",
       " ['12-megapixel (f/2.2, 1.25-micron)'],\n",
       " ['64-megapixel (f/1.8, 0.8-micron) ',\n",
       "  ' 8-megapixel (f/2.25, 1.12-micron) ',\n",
       "  ' 2-megapixel (f/2.4, 1.75-micron) ',\n",
       "  ' 2-megapixel (f/2.4, 1.75-micron)'],\n",
       " ['64-megapixel (f/1.8, 0.8-micron) ',\n",
       "  ' 8-megapixel (f/2.25, 1.12-micron) ',\n",
       "  ' 2-megapixel (f/2.4, 1.75-micron) ',\n",
       "  ' 2-megapixel (f/2.4, 1.75-micron)'],\n",
       " ['64-megapixel (f/1.8, 0.8-micron) ',\n",
       "  ' 8-megapixel (f/2.25, 1.12-micron) ',\n",
       "  ' 2-megapixel (f/2.4, 1.75-micron) ',\n",
       "  ' 2-megapixel (f/2.4, 1.75-micron)'],\n",
       " ['64-megapixel (f/1.8, 0.8-micron) ',\n",
       "  ' 8-megapixel (f/2.25, 1.12-micron) ',\n",
       "  ' 2-megapixel (f/2.4, 1.75-micron) ',\n",
       "  ' 2-megapixel (f/2.4, 1.75-micron)'],\n",
       " ['50-megapixel (f/1.8, 0.64-micron) ',\n",
       "  ' 8-megapixel (f/2.2, 1.12-micron) ',\n",
       "  ' 2-megapixel (f/2.4, 1.75-micron)'],\n",
       " ['108-megapixel (f/1.89, 0.7-micron) ', ' 8-megapixel (f/2.2, 1.0-micron)'],\n",
       " ['50-megapixel (f/1.8, 0.64-micron) ',\n",
       "  ' 8-megapixel (f/2.2, 1.12-micron) ',\n",
       "  ' 2-megapixel (f/2.4, 1.75-micron)'],\n",
       " ['48-megapixel (f/1.8) ', ' 2-megapixel (f/2.4) ', ' 2-megapixel (f/2.4)'],\n",
       " ['48-megapixel (f/1.8) ', ' 2-megapixel (f/2.4) ', ' 2-megapixel (f/2.4)'],\n",
       " ['48-megapixel (f/1.8) ', ' 2-megapixel (f/2.4) ', ' 2-megapixel (f/2.4)'],\n",
       " ['108-megapixel (f/1.9, 0.7-micron) ',\n",
       "  ' 8-megapixel ',\n",
       "  ' 2-megapixel (f/2.4) ',\n",
       "  ' 2-megapixel (f/2.4)'],\n",
       " ['108-megapixel (f/1.9, 0.7-micron) ',\n",
       "  ' 8-megapixel ',\n",
       "  ' 2-megapixel (f/2.4) ',\n",
       "  ' 2-megapixel (f/2.4)'],\n",
       " ['108-megapixel (f/1.9, 0.7-micron) ',\n",
       "  ' 8-megapixel ',\n",
       "  ' 2-megapixel (f/2.4) ',\n",
       "  ' 2-megapixel (f/2.4)'],\n",
       " ['48-megapixel (f/1.8) ', ' 2-megapixel (f/2.4) ', ' 2-megapixel (f/2.4)'],\n",
       " ['108-megapixel (f/1.9, 0.7-micron) ',\n",
       "  ' 8-megapixel ',\n",
       "  ' 2-megapixel (f/2.4) ',\n",
       "  ' 2-megapixel (f/2.4)'],\n",
       " ['108-megapixel (f/1.9, 0.7-micron) ',\n",
       "  ' 8-megapixel ',\n",
       "  ' 2-megapixel (f/2.4) ',\n",
       "  ' 2-megapixel (f/2.4)'],\n",
       " ['108-megapixel (f/1.9, 0.7-micron) ',\n",
       "  ' 8-megapixel ',\n",
       "  ' 2-megapixel (f/2.4) ',\n",
       "  ' 2-megapixel (f/2.4)'],\n",
       " ['50-megapixel (f/1.8) ', ' 50-megapixel (f/2.2) ', ' 2-megapixel (f/2.4)'],\n",
       " ['48-megapixel (f/1.8) ', ' 2-megapixel (f/2.4) ', ' 2-megapixel (f/2.4)'],\n",
       " ['50-megapixel (f/1.8) ', ' 50-megapixel (f/2.2) ', ' 2-megapixel (f/2.4)'],\n",
       " ['48-megapixel (f/1.8) ', ' 2-megapixel (f/2.4) ', ' 2-megapixel (f/2.4)'],\n",
       " ['16-megapixel (f/1.8)'],\n",
       " ['16-megapixel (f/1.8)'],\n",
       " ['32-megapixel (f/1.7) ', ' 5-megapixel ', ' 8-megapixel'],\n",
       " ['32-megapixel (f/1.7) ', ' 5-megapixel ', ' 8-megapixel'],\n",
       " ['16-megapixel (f/1.8)'],\n",
       " ['16-megapixel (f/1.8)'],\n",
       " ['16-megapixel (f/1.8)'],\n",
       " ['50-megapixel (f/1.8) ', ' 50-megapixel (f/2.2) ', ' 2-megapixel (f/2.4)'],\n",
       " ['32-megapixel (f/1.7) ', ' 5-megapixel ', ' 8-megapixel'],\n",
       " ['50-megapixel (f/1.8) ', ' 50-megapixel (f/2.2) ', ' 2-megapixel (f/2.4)'],\n",
       " ['50-megapixel ',\n",
       "  ' 8-megapixel (f/2.2, 1.12-micron) ',\n",
       "  ' 2-megapixel (f/2.4) ',\n",
       "  ' 2-megapixel (f/2.4)'],\n",
       " ['50-megapixel ',\n",
       "  ' 8-megapixel (f/2.2, 1.12-micron) ',\n",
       "  ' 2-megapixel (f/2.4) ',\n",
       "  ' 2-megapixel (f/2.4)'],\n",
       " ['12-megapixel'],\n",
       " ['50-megapixel ',\n",
       "  ' 8-megapixel (f/2.2, 1.12-micron) ',\n",
       "  ' 2-megapixel (f/2.4) ',\n",
       "  ' 2-megapixel (f/2.4)'],\n",
       " ['50-megapixel ',\n",
       "  ' 8-megapixel (f/2.2, 1.12-micron) ',\n",
       "  ' 2-megapixel (f/2.4) ',\n",
       "  ' 2-megapixel (f/2.4)'],\n",
       " ['12-megapixel'],\n",
       " ['12-megapixel'],\n",
       " ['48-megapixel (f/1.7) ',\n",
       "  ' 8-megapixel (f/2.2) ',\n",
       "  ' 2-megapixel (f/2.4) ',\n",
       "  ' 2-megapixel (f/2.4)'],\n",
       " ['12-megapixel (f/1.7, 1.4-micron)'],\n",
       " ['12-megapixel (f/1.7, 1.4-micron)'],\n",
       " ['12-megapixel'],\n",
       " ['12-megapixel'],\n",
       " ['108-megapixel (f/1.8) ', ' 8-megapixel (f/2.2)'],\n",
       " ['16-megapixel (f/F2.2, 1.0-micron) ',\n",
       "  ' 12-megapixel (f/F1.5/F2.4, 1.4-micron) ',\n",
       "  ' 12-megapixel (f/F2.4, 1.0-micron)'],\n",
       " ['16-megapixel (f/F2.2, 1.0-micron) ',\n",
       "  ' 12-megapixel (f/F1.5/F2.4, 1.4-micron) ',\n",
       "  ' 12-megapixel (f/F2.4, 1.0-micron)'],\n",
       " ['13-megapixel (f/2.2)'],\n",
       " ['108-megapixel (f/1.8) ',\n",
       "  ' 48-megapixel (f/3.5) ',\n",
       "  ' 12-megapixel (f/2.2) ',\n",
       "  ' Depth'],\n",
       " ['13-megapixel (f/2.2)'],\n",
       " ['13-megapixel (f/2.2)'],\n",
       " ['12-megapixel'],\n",
       " ['50-megapixel ',\n",
       "  ' 8-megapixel (f/2.2, 1.12-micron) ',\n",
       "  ' 2-megapixel (f/2.4) ',\n",
       "  ' 2-megapixel (f/2.4)'],\n",
       " ['13-megapixel'],\n",
       " ['50-megapixel ',\n",
       "  ' 8-megapixel (f/2.2, 1.12-micron) ',\n",
       "  ' 2-megapixel (f/2.4) ',\n",
       "  ' 2-megapixel (f/2.4)'],\n",
       " ['12-megapixel (f/1.7, 1.4-micron)'],\n",
       " ['13-megapixel'],\n",
       " ['12-megapixel (f/1.7, 1.4-micron)'],\n",
       " ['50-megapixel (f/1.9) ',\n",
       "  ' 40-megapixel (f/1.8) ',\n",
       "  ' 12-megapixel (f/3.4) ',\n",
       "  ' Depth'],\n",
       " ['12-megapixel (f/1.7, 1.4-micron)'],\n",
       " ['50-megapixel (f/1.8) ', ' 8-megapixel (f/2.2)'],\n",
       " ['50-megapixel (f/1.8) ', ' 8-megapixel (f/2.2)'],\n",
       " ['12-megapixel (f/1.8) ', ' 64-megapixel (f/2.0) ', ' 12-megapixel (f/2.2)'],\n",
       " ['48-megapixel (f/1.8) ', ' 8-megapixel (f/2.2) ', ' 5-megapixel (f/2.4)'],\n",
       " ['48-megapixel (f/1.8) ', ' 8-megapixel (f/2.2) ', ' 5-megapixel (f/2.4)'],\n",
       " ['48-megapixel (f/1.8) ', ' 8-megapixel (f/2.2) ', ' 5-megapixel (f/2.4)'],\n",
       " ['50-megapixel (f/1.9) ',\n",
       "  ' 16-megapixel (f/2.2) ',\n",
       "  ' 12-megapixel (f/2.4) ',\n",
       "  ' 8-megapixel (f/4.4)'],\n",
       " ['13-megapixel'],\n",
       " ['13-megapixel'],\n",
       " ['13-megapixel'],\n",
       " ['12-megapixel (f/1.8) ', ' 12-megapixel (f/2.2) ', ' 8-megapixel (f/2.4)'],\n",
       " ['12-megapixel (f/1.5, 1.4-micron) ',\n",
       "  ' 16-megapixel (f/1.9, 1.0-micron) ',\n",
       "  ' 12-megapixel (f/2.4, 1.0-micron)'],\n",
       " ['12-megapixel (f/1.5, 1.4-micron) ',\n",
       "  ' 16-megapixel (f/1.9, 1.0-micron) ',\n",
       "  ' 12-megapixel (f/2.4, 1.0-micron)'],\n",
       " ['108-megapixel (f/f/1.7) ',\n",
       "  ' 2-megapixel (f/f/2.4) ',\n",
       "  ' 2-megapixel (f/f/3.3)'],\n",
       " ['64-megapixel (f/1.8, 0.8-micron) ', ' 12-megapixel (f/2.2, 1.4-micron)'],\n",
       " ['13-megapixel'],\n",
       " ['13-megapixel'],\n",
       " ['13-megapixel'],\n",
       " ['13-megapixel'],\n",
       " ['13-megapixel'],\n",
       " ['50-megapixel (f/f/1.8) ',\n",
       "  ' 13-megapixel (f/f/2.2) ',\n",
       "  ' 12-megapixel (f/f/3.4)'],\n",
       " ['13-megapixel'],\n",
       " ['13-megapixel'],\n",
       " ['48-megapixel (f/1.6, 0.8-micron) ',\n",
       "  ' 16-megapixel (f/2.2) ',\n",
       "  ' 12-megapixel (f/2.2)'],\n",
       " ['48-megapixel (f/1.6, 0.8-micron) ',\n",
       "  ' 16-megapixel (f/2.2) ',\n",
       "  ' 12-megapixel (f/2.2)'],\n",
       " ['64-megapixel (f/1.8, 0.8-micron) ', ' 12-megapixel (f/2.2, 1.4-micron)'],\n",
       " ['48-megapixel (f/1.7) ',\n",
       "  ' 8-megapixel (f/2.2) ',\n",
       "  ' 2-megapixel (f/2.4) ',\n",
       "  ' 2-megapixel (f/2.4)'],\n",
       " ['108-megapixel (f/f/1.7) ',\n",
       "  ' 2-megapixel (f/f/2.4) ',\n",
       "  ' 2-megapixel (f/f/3.3)'],\n",
       " ['50-megapixel (f/1.8) ', ' 8-megapixel (f/2.2)'],\n",
       " ['64-megapixel (f/1.8) ', ' 13-megapixel (f/2.4) ', ' 5-megapixel (f/2.0)'],\n",
       " ['64-megapixel (f/1.8) ', ' 13-megapixel (f/2.4) ', ' 5-megapixel (f/2.0)'],\n",
       " ['64-megapixel (f/1.8) ', ' 13-megapixel (f/2.4) ', ' 5-megapixel (f/2.0)'],\n",
       " ['50-megapixel (f/1.8) ', ' 8-megapixel (f/2.2)'],\n",
       " ['50-megapixel (f/1.8) ', ' 8-megapixel (f/2.2)'],\n",
       " ['12-megapixel'],\n",
       " ['12-megapixel (f/1.8)'],\n",
       " ['12-megapixel (f/1.8)'],\n",
       " ['12-megapixel (f/1.8)'],\n",
       " ['12-megapixel (f/1.8)'],\n",
       " ['48-megapixel (f/1.8) ', ' 8-megapixel (f/2.2) ', ' 5-megapixel (f/2.4)'],\n",
       " ['12-megapixel (f/1.8)'],\n",
       " ['12-megapixel (f/1.8)'],\n",
       " ['12-megapixel (f/1.8)'],\n",
       " ['12-megapixel (f/1.8)'],\n",
       " ['12-megapixel (f/1.8) ', ' 12-megapixel (f/2.4)'],\n",
       " ['50-megapixel (f/1.8) ', ' 8-megapixel (f/2.2)'],\n",
       " ['50-megapixel (f/1.8) ', ' 8-megapixel (f/2.2)'],\n",
       " ['50-megapixel (f/1.8) ', ' 8-megapixel (f/2.2)'],\n",
       " ['12-megapixel'],\n",
       " ['12-megapixel'],\n",
       " ['50-megapixel (f/1.8) ', ' 8-megapixel (f/2.2)'],\n",
       " ['12-megapixel (f/1.8)'],\n",
       " ['12-megapixel (f/1.8)'],\n",
       " ['12-megapixel'],\n",
       " ['12-megapixel (f/1.8)'],\n",
       " ['48-megapixel (f/1.79, 1.6-micron) ', ' 5-megapixel'],\n",
       " ['48-megapixel (f/1.79, 1.6-micron) ', ' 5-megapixel'],\n",
       " ['48-megapixel (f/1.8) ',\n",
       "  ' 8-megapixel (f/2.2) ',\n",
       "  ' 13-megapixel (f/2.5) ',\n",
       "  ' 2-megapixel (f/2.4)'],\n",
       " ['48-megapixel (f/1.79, 1.6-micron) ', ' 5-megapixel'],\n",
       " ['48-megapixel (f/1.8) ',\n",
       "  ' 8-megapixel (f/2.2) ',\n",
       "  ' 13-megapixel (f/2.5) ',\n",
       "  ' 2-megapixel (f/2.4)'],\n",
       " ['48-megapixel (f/1.79, 1.6-micron) ', ' 5-megapixel'],\n",
       " ['48-megapixel (f/1.79, 1.6-micron) ', ' 5-megapixel'],\n",
       " ['12-megapixel (f/1.8) ',\n",
       "  ' 8-megapixel (f/2.25) ',\n",
       "  ' 2-megapixel ',\n",
       "  ' 2-megapixel'],\n",
       " ['12-megapixel (f/1.8, 1.4-micron) ', ' 8-megapixel (f/2.0, 1.12-micron)'],\n",
       " ['12-megapixel (f/1.8, 1.4-micron) ', ' 8-megapixel (f/2.0, 1.12-micron)'],\n",
       " ['12-megapixel (f/1.8, 1.4-micron) ', ' 8-megapixel (f/2.0, 1.12-micron)'],\n",
       " ['12-megapixel (f/1.8, 1.4-micron) ', ' 8-megapixel (f/2.0, 1.12-micron)'],\n",
       " ['12-megapixel (f/1.8, 1.4-micron) ', ' 8-megapixel (f/2.0, 1.12-micron)'],\n",
       " ['12-megapixel (f/1.8) ',\n",
       "  ' 8-megapixel (f/2.25) ',\n",
       "  ' 2-megapixel ',\n",
       "  ' 2-megapixel'],\n",
       " ['64-megapixel ', ' 2-megapixel'],\n",
       " ['64-megapixel ', ' 2-megapixel'],\n",
       " ['64-megapixel ', ' 2-megapixel'],\n",
       " ['12-megapixel (f/1.8) ', ' 12-megapixel (f/2.4)'],\n",
       " ['12-megapixel (f/1.8) ', ' 12-megapixel (f/2.4)'],\n",
       " ['12-megapixel (f/1.8) ',\n",
       "  ' 8-megapixel (f/2.25) ',\n",
       "  ' 2-megapixel ',\n",
       "  ' 2-megapixel'],\n",
       " ['12-megapixel (f/1.8) ', ' 12-megapixel (f/2.4)'],\n",
       " ['8-megapixel'],\n",
       " ['8-megapixel'],\n",
       " ['8-megapixel'],\n",
       " ['64-megapixel (f/1.8, 0.7-micron) ', ' 8-megapixel ', ' 2-megapixel'],\n",
       " ['64-megapixel (f/1.8, 0.7-micron) ', ' 8-megapixel ', ' 2-megapixel'],\n",
       " ['64-megapixel (f/1.8, 0.7-micron) ', ' 8-megapixel ', ' 2-megapixel'],\n",
       " ['50-megapixel (f/1.6) ',\n",
       "  ' 50-megapixel (f/2.0) ',\n",
       "  ' 64-megapixel (f/2.2) ',\n",
       "  ' 64-megapixel (f/3.5)'],\n",
       " ['12-megapixel (f/1.8) ',\n",
       "  ' 2-megapixel (f/2.4, 1.75-micron) ',\n",
       "  ' 2-megapixel (f/2.4, 1.75-micron)'],\n",
       " ['64-megapixel ', ' 2-megapixel'],\n",
       " ['12-megapixel (f/1.8) ',\n",
       "  ' 2-megapixel (f/2.4, 1.75-micron) ',\n",
       "  ' 2-megapixel (f/2.4, 1.75-micron)'],\n",
       " ['12-megapixel (f/1.8) ',\n",
       "  ' 2-megapixel (f/2.4, 1.75-micron) ',\n",
       "  ' 2-megapixel (f/2.4, 1.75-micron)'],\n",
       " ['8-megapixel'],\n",
       " ['12-megapixel (f/1.8) ',\n",
       "  ' 2-megapixel (f/2.4, 1.75-micron) ',\n",
       "  ' 2-megapixel (f/2.4, 1.75-micron)'],\n",
       " ['64-megapixel (f/1.8, 0.7-micron) ', ' 8-megapixel ', ' 2-megapixel'],\n",
       " ['64-megapixel (f/1.8, 0.7-micron) ', ' 8-megapixel ', ' 2-megapixel'],\n",
       " ['64-megapixel (f/1.8, 0.7-micron) ', ' 8-megapixel ', ' 2-megapixel'],\n",
       " ['12-megapixel (f/1.8) ', ' 12-megapixel (f/2.4)'],\n",
       " ['12-megapixel (f/1.8) ', ' 12-megapixel (f/2.4)'],\n",
       " ['12-megapixel (f/1.8) ',\n",
       "  ' 2-megapixel (f/2.4, 1.75-micron) ',\n",
       "  ' 2-megapixel (f/2.4, 1.75-micron)'],\n",
       " ['50-megapixel (f/1.8, 1.0-micron) ',\n",
       "  ' 8-megapixel (f/2.2) ',\n",
       "  ' 2-megapixel (f/2.4)'],\n",
       " ['12-megapixel (f/1.8, 1.4-micron) ', ' 8-megapixel (f/2.0, 1.12-micron)'],\n",
       " ['50-megapixel (f/1.8, 1.0-micron) ',\n",
       "  ' 8-megapixel (f/2.2) ',\n",
       "  ' 2-megapixel (f/2.4)'],\n",
       " ['13-megapixel (f/2.0, 1.12-micron) ',\n",
       "  ' 2-megapixel (f/2.2, 1.75-micron) ',\n",
       "  ' 2-megapixel (f/2.2, 1.75-micron)'],\n",
       " ['12-megapixel (f/1.8)'],\n",
       " ['13-megapixel (f/2.0, 1.12-micron) ',\n",
       "  ' 2-megapixel (f/2.2, 1.75-micron) ',\n",
       "  ' 2-megapixel (f/2.2, 1.75-micron)'],\n",
       " ['64-megapixel (f/1.8) ',\n",
       "  ' 12-megapixel (f/2.2) ',\n",
       "  ' 5-megapixel (f/2.4) ',\n",
       "  ' 5-megapixel (f/2.4)'],\n",
       " ['64-megapixel (f/1.8) ',\n",
       "  ' 12-megapixel (f/2.2) ',\n",
       "  ' 5-megapixel (f/2.4) ',\n",
       "  ' 5-megapixel (f/2.4)'],\n",
       " ['64-megapixel (f/1.8) ',\n",
       "  ' 12-megapixel (f/2.2) ',\n",
       "  ' 5-megapixel (f/2.4) ',\n",
       "  ' 5-megapixel (f/2.4)'],\n",
       " ['64-megapixel (f/1.8) ',\n",
       "  ' 12-megapixel (f/2.2) ',\n",
       "  ' 5-megapixel (f/2.4) ',\n",
       "  ' 5-megapixel (f/2.4)'],\n",
       " ['64-megapixel (f/1.8) ',\n",
       "  ' 12-megapixel (f/2.2) ',\n",
       "  ' 5-megapixel (f/2.4) ',\n",
       "  ' 5-megapixel (f/2.4)'],\n",
       " ['64-megapixel (f/1.8) ',\n",
       "  ' 12-megapixel (f/2.2) ',\n",
       "  ' 5-megapixel (f/2.4) ',\n",
       "  ' 5-megapixel (f/2.4)'],\n",
       " ['64-megapixel (f/1.8) ',\n",
       "  ' 12-megapixel (f/2.2) ',\n",
       "  ' 5-megapixel (f/2.4) ',\n",
       "  ' 5-megapixel (f/2.4)'],\n",
       " ['64-megapixel (f/1.8) ',\n",
       "  ' 12-megapixel (f/2.2) ',\n",
       "  ' 5-megapixel (f/2.4) ',\n",
       "  ' 5-megapixel (f/2.4)'],\n",
       " ['64-megapixel (f/1.8) ',\n",
       "  ' 12-megapixel (f/2.2) ',\n",
       "  ' 5-megapixel (f/2.4) ',\n",
       "  ' 5-megapixel (f/2.4)'],\n",
       " ['64-megapixel (f/1.8) ',\n",
       "  ' 12-megapixel (f/2.2) ',\n",
       "  ' 5-megapixel (f/2.4) ',\n",
       "  ' 5-megapixel (f/2.4)'],\n",
       " ['50-megapixel (f/1.8, 1.0-micron) ',\n",
       "  ' 8-megapixel (f/2.2) ',\n",
       "  ' 2-megapixel (f/2.4)'],\n",
       " ['12-megapixel (f/1.8)'],\n",
       " ['48-megapixel (f/1.6, 0.8-micron) ',\n",
       "  ' 16-megapixel (f/2.2) ',\n",
       "  ' 12-megapixel (f/2.2)'],\n",
       " ['12-megapixel (f/1.8)'],\n",
       " ['12-megapixel (f/1.8)'],\n",
       " ['12-megapixel (f/1.8) ', ' 12-megapixel (f/2.4)'],\n",
       " ['12-megapixel (f/1.8) ', ' 12-megapixel (f/2.4)'],\n",
       " ['12-megapixel (f/1.8) ', ' 12-megapixel (f/2.4)'],\n",
       " ['12-megapixel (f/1.8) ', ' 12-megapixel (f/2.4)'],\n",
       " ['12-megapixel (f/1.8)'],\n",
       " ['48-megapixel (f/1.79, 1.6-micron) ', ' 5-megapixel'],\n",
       " ['12-megapixel (f/1.8)'],\n",
       " ['48-megapixel (f/1.79, 1.6-micron) ', ' 5-megapixel'],\n",
       " ['48-megapixel (f/1.79, 1.6-micron) ', ' 5-megapixel'],\n",
       " ['48-megapixel (f/1.79, 1.6-micron) ', ' 5-megapixel'],\n",
       " ['48-megapixel (f/1.79, 1.6-micron) ', ' 5-megapixel'],\n",
       " ['50-megapixel (f/1.8, 1.0-micron) ',\n",
       "  ' 8-megapixel (f/2.2) ',\n",
       "  ' 2-megapixel (f/2.4)'],\n",
       " ['12-megapixel (f/1.8)'],\n",
       " ['48-megapixel (f/1.79) ', ' 2-megapixel (f/2.4) ', ' 2-megapixel (f/2.4)'],\n",
       " ['48-megapixel (f/1.79) ', ' 2-megapixel (f/2.4) ', ' 2-megapixel (f/2.4)'],\n",
       " ['48-megapixel (f/1.79) ', ' 2-megapixel (f/2.4) ', ' 2-megapixel (f/2.4)'],\n",
       " ['12-megapixel (f/1.8)'],\n",
       " ['48-megapixel (f/1.79) ', ' 2-megapixel (f/2.4) ', ' 2-megapixel (f/2.4)'],\n",
       " ['48-megapixel (f/1.79) ', ' 2-megapixel (f/2.4) ', ' 2-megapixel (f/2.4)'],\n",
       " ['13-megapixel (f/2.2)'],\n",
       " ['13-megapixel (f/2.2)'],\n",
       " ['48-megapixel (f/1.79) ', ' 2-megapixel (f/2.4) ', ' 2-megapixel (f/2.4)'],\n",
       " ['12-megapixel (f/1.8) ', ' 64-megapixel (f/2.0) ', ' 12-megapixel (f/2.2)'],\n",
       " ['48-megapixel (f/1.79) ', ' 2-megapixel (f/2.4) ', ' 2-megapixel (f/2.4)'],\n",
       " ['16-megapixel (f/1.7) ', ' 8-megapixel (f/2.2) ', ' 2-megapixel (f/2.2)'],\n",
       " ['13-megapixel (f/2.2) ',\n",
       "  ' 8-megapixel (f/2.2) ',\n",
       "  ' 5-megapixel (f/2.4) ',\n",
       "  ' 2-megapixel'],\n",
       " ['13-megapixel (f/2.2) ',\n",
       "  ' 8-megapixel (f/2.2) ',\n",
       "  ' 5-megapixel (f/2.4) ',\n",
       "  ' 2-megapixel'],\n",
       " ['13-megapixel (f/2.2) ',\n",
       "  ' 8-megapixel (f/2.2) ',\n",
       "  ' 5-megapixel (f/2.4) ',\n",
       "  ' 2-megapixel'],\n",
       " ['13-megapixel (f/2.2) ',\n",
       "  ' 8-megapixel (f/2.2) ',\n",
       "  ' 5-megapixel (f/2.4) ',\n",
       "  ' 2-megapixel'],\n",
       " ['13-megapixel (f/2.2) ',\n",
       "  ' 8-megapixel (f/2.2) ',\n",
       "  ' 5-megapixel (f/2.4) ',\n",
       "  ' 2-megapixel'],\n",
       " ['13-megapixel (f/2.2) ',\n",
       "  ' 8-megapixel (f/2.2) ',\n",
       "  ' 5-megapixel (f/2.4) ',\n",
       "  ' 2-megapixel'],\n",
       " ['12-megapixel (f/1.8)'],\n",
       " ['12-megapixel (f/1.8)'],\n",
       " ['12-megapixel (f/1.8, 1.8-micron) ',\n",
       "  ' 12-megapixel (f/2.2, 1.4-micron) ',\n",
       "  ' 64-megapixel (f/2.0, 0.8-micron)'],\n",
       " ['12-megapixel (f/1.8)'],\n",
       " ['13-megapixel (f/2.2) ',\n",
       "  ' 8-megapixel (f/2.2) ',\n",
       "  ' 5-megapixel (f/2.4) ',\n",
       "  ' 2-megapixel'],\n",
       " ['13-megapixel (f/2.2) ',\n",
       "  ' 8-megapixel (f/2.2) ',\n",
       "  ' 5-megapixel (f/2.4) ',\n",
       "  ' 2-megapixel'],\n",
       " ['12-megapixel (f/1.8, 1.8-micron) ',\n",
       "  ' 12-megapixel (f/2.2, 1.4-micron) ',\n",
       "  ' 64-megapixel (f/2.0, 0.8-micron)'],\n",
       " ['12-megapixel (f/1.8, 1.8-micron) ',\n",
       "  ' 12-megapixel (f/2.2, 1.4-micron) ',\n",
       "  ' 64-megapixel (f/2.0, 0.8-micron)'],\n",
       " ['12-megapixel (f/1.8)'],\n",
       " ['12-megapixel (f/1.8, 1.8-micron) ',\n",
       "  ' 12-megapixel (f/2.2, 1.4-micron) ',\n",
       "  ' 64-megapixel (f/2.0, 0.8-micron)'],\n",
       " ['12-megapixel (f/1.8, 1.8-micron) ',\n",
       "  ' 12-megapixel (f/2.2, 1.4-micron) ',\n",
       "  ' 64-megapixel (f/2.0, 0.8-micron)'],\n",
       " ['12-megapixel (f/1.8)'],\n",
       " ['12-megapixel (f/1.8)'],\n",
       " ['12-megapixel (f/1.8, 1.8-micron) ',\n",
       "  ' 12-megapixel (f/2.2, 1.4-micron) ',\n",
       "  ' 64-megapixel (f/2.0, 0.8-micron)'],\n",
       " ['48-megapixel (f/1.6, 0.8-micron) ',\n",
       "  ' 16-megapixel (f/2.2) ',\n",
       "  ' 8-megapixel (f/2.4, 1.0-micron)'],\n",
       " ['50-megapixel (f/1.8, 1.0-micron) ',\n",
       "  ' 8-megapixel (f/2.2) ',\n",
       "  ' 2-megapixel (f/2.4)'],\n",
       " ['48-megapixel (f/1.79) ',\n",
       "  ' 8-megapixel (f/2.2) ',\n",
       "  ' 2-megapixel (f/2.4) ',\n",
       "  ' 2-megapixel (f/2.4)'],\n",
       " ['48-megapixel (f/1.79) ',\n",
       "  ' 8-megapixel (f/2.2) ',\n",
       "  ' 2-megapixel (f/2.4) ',\n",
       "  ' 2-megapixel (f/2.4)'],\n",
       " ['48-megapixel (f/1.79) ',\n",
       "  ' 8-megapixel (f/2.2) ',\n",
       "  ' 2-megapixel (f/2.4) ',\n",
       "  ' 2-megapixel (f/2.4)'],\n",
       " ['48-megapixel (f/2.0) ', ' 5-megapixel (f/2.2) ', ' 8-megapixel (f/2.2)'],\n",
       " ['48-megapixel (f/1.8) ', ' 2-megapixel (f/2.4) ', ' 2-megapixel (f/2.4)'],\n",
       " ['48-megapixel (f/1.8) ', ' 2-megapixel (f/2.4) ', ' 2-megapixel (f/2.4)'],\n",
       " ['48-megapixel (f/1.8) ', ' 2-megapixel (f/2.4) ', ' 2-megapixel (f/2.4)'],\n",
       " ['48-megapixel (f/1.8) ', ' 2-megapixel (f/2.4) ', ' 2-megapixel (f/2.4)'],\n",
       " ['48-megapixel (f/2.0) ', ' 5-megapixel (f/2.2) ', ' 8-megapixel (f/2.2)'],\n",
       " ['48-megapixel (f/2.0) ', ' 5-megapixel (f/2.2) ', ' 8-megapixel (f/2.2)'],\n",
       " ['48-megapixel (f/2.0) ', ' 5-megapixel (f/2.2) ', ' 8-megapixel (f/2.2)'],\n",
       " ['48-megapixel (f/2.0) ', ' 5-megapixel (f/2.2) ', ' 8-megapixel (f/2.2)'],\n",
       " ['8-megapixel'],\n",
       " ['64-megapixel (f/1.8) ', ' 13-megapixel (f/2.4) ', ' 5-megapixel (f/2.0)'],\n",
       " ['48-megapixel (f/2.0) ', ' 5-megapixel (f/2.2) ', ' 8-megapixel (f/2.2)'],\n",
       " ['48-megapixel (f/2.0) ', ' 5-megapixel (f/2.2) ', ' 8-megapixel (f/2.2)'],\n",
       " ['16-megapixel (f/1.7, 1.22-micron) ', ' 20-megapixel (f/1.7, 1-micron)'],\n",
       " ['12-megapixel (f/1.6) ', ' 12-megapixel (f/2.4)'],\n",
       " ['12-megapixel (f/1.6) ', ' 12-megapixel (f/2.4)'],\n",
       " ['48-megapixel ', ' 13-megapixel ', ' 2-megapixel'],\n",
       " ['48-megapixel ', ' 13-megapixel ', ' 2-megapixel'],\n",
       " ['48-megapixel ', ' 13-megapixel ', ' 2-megapixel'],\n",
       " ['12-megapixel (f/1.6) ', ' 12-megapixel (f/2.4)'],\n",
       " ['12-megapixel (f/1.6) ', ' 12-megapixel (f/2.4)'],\n",
       " ['12-megapixel (f/1.6) ', ' 12-megapixel (f/2.4)'],\n",
       " ['48-megapixel (f/1.79) ',\n",
       "  ' 8-megapixel (f/2.2) ',\n",
       "  ' 2-megapixel (f/2.4) ',\n",
       "  ' 2-megapixel (f/2.4)'],\n",
       " ['48-megapixel (f/1.79) ',\n",
       "  ' 8-megapixel (f/2.2) ',\n",
       "  ' 2-megapixel (f/2.4) ',\n",
       "  ' 2-megapixel (f/2.4)'],\n",
       " ['48-megapixel (f/1.79) ',\n",
       "  ' 8-megapixel (f/2.2) ',\n",
       "  ' 2-megapixel (f/2.4) ',\n",
       "  ' 2-megapixel (f/2.4)'],\n",
       " ['48-megapixel (f/1.79) ',\n",
       "  ' 8-megapixel (f/2.2) ',\n",
       "  ' 2-megapixel (f/2.4) ',\n",
       "  ' 2-megapixel (f/2.4)'],\n",
       " ['12-megapixel (f/1.8, 1.25-micron) ', ' 12-megapixel (f/1.6, 2.0-micron)'],\n",
       " ['48-megapixel ', ' 8-megapixel ', ' 5-megapixel ', ' 2-megapixel'],\n",
       " ['48-megapixel ', ' 8-megapixel ', ' 5-megapixel ', ' 2-megapixel'],\n",
       " ['48-megapixel ', ' 8-megapixel ', ' 5-megapixel ', ' 2-megapixel'],\n",
       " ['48-megapixel ', ' 8-megapixel ', ' 5-megapixel ', ' 2-megapixel'],\n",
       " ['48-megapixel ', ' 8-megapixel ', ' 5-megapixel ', ' 2-megapixel'],\n",
       " ['48-megapixel ', ' 8-megapixel ', ' 5-megapixel ', ' 2-megapixel'],\n",
       " ['48-megapixel ', ' 8-megapixel ', ' 5-megapixel ', ' 2-megapixel'],\n",
       " ['48-megapixel ', ' 8-megapixel ', ' 5-megapixel ', ' 2-megapixel'],\n",
       " ['48-megapixel ', ' 8-megapixel ', ' 5-megapixel ', ' 2-megapixel'],\n",
       " ['13-megapixel (f/2.0) ', ' 5-megapixel'],\n",
       " ['13-megapixel (f/2.0) ', ' 5-megapixel'],\n",
       " ['12-megapixel (f/1.6) ', ' 12-megapixel (f/2.4)'],\n",
       " ['13-megapixel (f/2.0) ', ' 5-megapixel'],\n",
       " ['13-megapixel (f/2.0) ', ' 5-megapixel'],\n",
       " ['13-megapixel (f/2.0) ', ' 5-megapixel'],\n",
       " ['13-megapixel (f/2.0) ', ' 5-megapixel'],\n",
       " ['12-megapixel (f/1.8) ', ' 64-megapixel (f/2.0) ', ' 12-megapixel (f/2.2)'],\n",
       " ['13-megapixel (f/2.2, 1.12-micron)'],\n",
       " ['48-megapixel (f/1.79) ', ' 2-megapixel ', ' 2-megapixel'],\n",
       " ['48-megapixel (f/1.79) ', ' 2-megapixel ', ' 2-megapixel'],\n",
       " ['48-megapixel (f/1.79) ', ' 2-megapixel ', ' 2-megapixel'],\n",
       " ['48-megapixel (f/1.79) ', ' 2-megapixel ', ' 2-megapixel'],\n",
       " ['48-megapixel (f/1.79) ',\n",
       "  ' 8-megapixel (f/2.2) ',\n",
       "  ' 2-megapixel (f/2.4) ',\n",
       "  ' 2-megapixel (f/2.4)'],\n",
       " ['48-megapixel (f/1.79) ',\n",
       "  ' 8-megapixel (f/2.2) ',\n",
       "  ' 2-megapixel (f/2.4) ',\n",
       "  ' 2-megapixel (f/2.4)'],\n",
       " ['48-megapixel (f/1.79) ',\n",
       "  ' 8-megapixel (f/2.2) ',\n",
       "  ' 2-megapixel (f/2.4) ',\n",
       "  ' 2-megapixel (f/2.4)'],\n",
       " ['13-megapixel (f/2.0) ', ' 5-megapixel'],\n",
       " ['50-megapixel (f/1.8, 1.0-micron) ',\n",
       "  ' 8-megapixel (f/2.2) ',\n",
       "  ' 2-megapixel (f/2.4)'],\n",
       " ['12-megapixel (f/1.6) ', ' 12-megapixel (f/2.4)'],\n",
       " ['48-megapixel (f/1.7) ', ' 5-megapixel (f/2.4) ', ' 2-megapixel (f/2.4)'],\n",
       " ['12-megapixel (f/1.8) ', ' 64-megapixel (f/2.0) ', ' 12-megapixel (f/2.2)'],\n",
       " ['12-megapixel (f/1.8) ', ' 64-megapixel (f/2.0) ', ' 12-megapixel (f/2.2)'],\n",
       " ['12-megapixel (f/1.8) ', ' 64-megapixel (f/2.0) ', ' 12-megapixel (f/2.2)'],\n",
       " ['64-megapixel (f/1.8, 1/1.72-micron) ',\n",
       "  ' 8-megapixel ',\n",
       "  ' 2-megapixel (f/2.4) ',\n",
       "  ' 2-megapixel (f/2.4)'],\n",
       " ['64-megapixel (f/1.8, 1/1.72-micron) ',\n",
       "  ' 8-megapixel ',\n",
       "  ' 2-megapixel (f/2.4) ',\n",
       "  ' 2-megapixel (f/2.4)'],\n",
       " ['64-megapixel (f/1.8, 1/1.72-micron) ',\n",
       "  ' 8-megapixel ',\n",
       "  ' 2-megapixel (f/2.4) ',\n",
       "  ' 2-megapixel (f/2.4)'],\n",
       " ['64-megapixel (f/1.8, 1/1.72-micron) ',\n",
       "  ' 8-megapixel ',\n",
       "  ' 2-megapixel (f/2.4) ',\n",
       "  ' 2-megapixel (f/2.4)'],\n",
       " ['64-megapixel (f/1.8, 1/1.72-micron) ',\n",
       "  ' 8-megapixel ',\n",
       "  ' 2-megapixel (f/2.4) ',\n",
       "  ' 2-megapixel (f/2.4)'],\n",
       " ['64-megapixel (f/1.8, 1/1.72-micron) ',\n",
       "  ' 8-megapixel ',\n",
       "  ' 2-megapixel (f/2.4) ',\n",
       "  ' 2-megapixel (f/2.4)'],\n",
       " ['64-megapixel (f/1.8, 1/1.72-micron) ',\n",
       "  ' 8-megapixel ',\n",
       "  ' 2-megapixel (f/2.4) ',\n",
       "  ' 2-megapixel (f/2.4)'],\n",
       " ['64-megapixel (f/1.8, 1/1.72-micron) ',\n",
       "  ' 8-megapixel ',\n",
       "  ' 2-megapixel (f/2.4) ',\n",
       "  ' 2-megapixel (f/2.4)'],\n",
       " ['64-megapixel (f/1.8, 1/1.72-micron) ',\n",
       "  ' 8-megapixel ',\n",
       "  ' 2-megapixel (f/2.4) ',\n",
       "  ' 2-megapixel (f/2.4)'],\n",
       " ['200-megapixel (f/1.9) ', ' 50-megapixel (f/2.2) ', ' 12-megapixel (f/1.6)'],\n",
       " ['200-megapixel (f/1.9) ', ' 50-megapixel (f/2.2) ', ' 12-megapixel (f/1.6)'],\n",
       " ['50-megapixel (f/1.8) ', ' 2-megapixel (f/2.2) ', ' 2-megapixel (f/2.4)'],\n",
       " ['50-megapixel (f/1.8) ', ' 2-megapixel (f/2.2) ', ' 2-megapixel (f/2.4)'],\n",
       " ['64-megapixel (f/1.89, 0.8-micron) ',\n",
       "  ' 13-megapixel (f/2.4, 1.12-micron) ',\n",
       "  ' 5-megapixel (f/2.4, 1.12-micron)'],\n",
       " ['64-megapixel (f/1.89, 0.8-micron) ',\n",
       "  ' 13-megapixel (f/2.4, 1.12-micron) ',\n",
       "  ' 5-megapixel (f/2.4, 1.12-micron)'],\n",
       " ['64-megapixel (f/1.89, 0.8-micron) ',\n",
       "  ' 13-megapixel (f/2.4, 1.12-micron) ',\n",
       "  ' 5-megapixel (f/2.4, 1.12-micron)'],\n",
       " ['8-megapixel (f/2.2)'],\n",
       " ['50-megapixel (f/1.57) ',\n",
       "  ' 48-megapixel (f/2.2) ',\n",
       "  ' 32-megapixel (f/2.08) ',\n",
       "  ' 8-megapixel (f/3.4)'],\n",
       " ['64-megapixel (f/1.89, 0.8-micron) ',\n",
       "  ' 13-megapixel (f/2.4, 1.12-micron) ',\n",
       "  ' 5-megapixel (f/2.4, 1.12-micron)'],\n",
       " ['64-megapixel (f/1.89, 0.8-micron) ',\n",
       "  ' 13-megapixel (f/2.4, 1.12-micron) ',\n",
       "  ' 5-megapixel (f/2.4, 1.12-micron)'],\n",
       " ['16-megapixel'],\n",
       " ['16-megapixel'],\n",
       " ['16-megapixel'],\n",
       " ['13-megapixel'],\n",
       " ['13-megapixel'],\n",
       " ['13-megapixel'],\n",
       " ['12-megapixel (f/1.6) ', ' 12-megapixel (f/2.4)'],\n",
       " ['12-megapixel (f/1.6) ', ' 12-megapixel (f/2.4)'],\n",
       " ['8-megapixel (f/2.4)'],\n",
       " ['23-megapixel'],\n",
       " ['16-megapixel (f/1.7, 1.22-micron) ', ' 20-megapixel (f/1.7, 1-micron)'],\n",
       " ['16-megapixel (f/1.7, 1.22-micron) ', ' 20-megapixel (f/1.7, 1-micron)'],\n",
       " ['16-megapixel (f/1.7, 1.22-micron) ', ' 20-megapixel (f/1.7, 1-micron)'],\n",
       " ['13-megapixel'],\n",
       " ['13-megapixel'],\n",
       " ['16-megapixel (f/1.7, 1.22-micron) ', ' 20-megapixel (f/1.7, 1-micron)'],\n",
       " ['16-megapixel (f/1.7, 1.22-micron) ', ' 20-megapixel (f/1.7, 1-micron)'],\n",
       " ['48-megapixel (f/1.79, 0.8-micron) ',\n",
       "  ' 8-megapixel (f/2.25, 1.12-micron) ',\n",
       "  ' 2-megapixel (f/2.4, 1.75-micron) ',\n",
       "  ' 2-megapixel (f/2.4, 1.75-micron)'],\n",
       " ['12-megapixel (f/1.6) ', ' 12-megapixel (f/2.4)'],\n",
       " ['48-megapixel (f/1.79, 0.8-micron) ',\n",
       "  ' 8-megapixel (f/2.25, 1.12-micron) ',\n",
       "  ' 2-megapixel (f/2.4, 1.75-micron) ',\n",
       "  ' 2-megapixel (f/2.4, 1.75-micron)'],\n",
       " ['48-megapixel (f/1.79, 0.8-micron) ',\n",
       "  ' 8-megapixel (f/2.25, 1.12-micron) ',\n",
       "  ' 2-megapixel (f/2.4, 1.75-micron) ',\n",
       "  ' 2-megapixel (f/2.4, 1.75-micron)'],\n",
       " ['48-megapixel (f/1.79, 0.8-micron) ',\n",
       "  ' 8-megapixel (f/2.25, 1.12-micron) ',\n",
       "  ' 2-megapixel (f/2.4, 1.75-micron) ',\n",
       "  ' 2-megapixel (f/2.4, 1.75-micron)'],\n",
       " ['48-megapixel (f/1.79, 0.8-micron) ',\n",
       "  ' 8-megapixel (f/2.25, 1.12-micron) ',\n",
       "  ' 2-megapixel (f/2.4, 1.75-micron) ',\n",
       "  ' 2-megapixel (f/2.4, 1.75-micron)'],\n",
       " ['48-megapixel (f/1.79, 0.8-micron) ',\n",
       "  ' 8-megapixel (f/2.25, 1.12-micron) ',\n",
       "  ' 2-megapixel (f/2.4, 1.75-micron) ',\n",
       "  ' 2-megapixel (f/2.4, 1.75-micron)'],\n",
       " ['50-megapixel (f/1.8, 1.28-micron) ',\n",
       "  ' 8-megapixel (f/2.2, 1.12-micron) ',\n",
       "  ' 2-megapixel (f/2.4, 1.75-micron)'],\n",
       " ['50-megapixel (f/1.8, 1.28-micron) ',\n",
       "  ' 8-megapixel (f/2.2, 1.12-micron) ',\n",
       "  ' 2-megapixel (f/2.4, 1.75-micron)'],\n",
       " ['50-megapixel (f/1.8, 1.28-micron) ',\n",
       "  ' 8-megapixel (f/2.2, 1.12-micron) ',\n",
       "  ' 2-megapixel (f/2.4, 1.75-micron)'],\n",
       " ['16-megapixel'],\n",
       " ['108-megapixel (f/1.69, 0.8-micron) ',\n",
       "  ' 13-megapixel (f/2.4, 1.12-micron) ',\n",
       "  ' 5-megapixel (f/2.4, 1.12-micron)'],\n",
       " ['108-megapixel (f/1.69, 0.8-micron) ',\n",
       "  ' 13-megapixel (f/2.4, 1.12-micron) ',\n",
       "  ' 5-megapixel (f/2.4, 1.12-micron)'],\n",
       " ['50-megapixel (f/1.8) ', ' 50-megapixel (f/2.2) ', ' 13-megapixel (f/2.4)'],\n",
       " ['13-megapixel'],\n",
       " ['48-megapixel (f/1.79, 0.8-micron) ',\n",
       "  ' 8-megapixel (f/2.25, 1.12-micron) ',\n",
       "  ' 2-megapixel (f/2.4, 1.75-micron) ',\n",
       "  ' 2-megapixel (f/2.4, 1.75-micron)'],\n",
       " ['12-megapixel (f/1.8)'],\n",
       " ['48-megapixel (f/1.79) ', ' 2-megapixel (f/2.4) ', ' 2-megapixel (f/2.4)'],\n",
       " ['108-megapixel (f/1.9, 0.7-micron) ',\n",
       "  ' 8-megapixel (f/2.2) ',\n",
       "  ' 2-megapixel (f/2.4) ',\n",
       "  ' 2-megapixel (f/2.4)'],\n",
       " ['13-megapixel'],\n",
       " ['13-megapixel (f/2.2)'],\n",
       " ['108-megapixel (f/1.9, 0.7-micron) ',\n",
       "  ' 8-megapixel (f/2.2) ',\n",
       "  ' 2-megapixel (f/2.4) ',\n",
       "  ' 2-megapixel (f/2.4)'],\n",
       " ['13-megapixel (f/2.2)'],\n",
       " ['13-megapixel'],\n",
       " ['23-megapixel'],\n",
       " ['48-megapixel (f/1.79, 0.8-micron) ',\n",
       "  ' 2-megapixel (f/2.4, 1.75-micron) ',\n",
       "  ' 2-megapixel (f/2.4, 1.75-micron)'],\n",
       " ['108-megapixel (f/1.9, 0.7-micron) ',\n",
       "  ' 8-megapixel (f/2.2) ',\n",
       "  ' 2-megapixel (f/2.4) ',\n",
       "  ' 2-megapixel (f/2.4)'],\n",
       " ['12-megapixel (f/1.8)'],\n",
       " ['13-megapixel'],\n",
       " ['13-megapixel'],\n",
       " ['13-megapixel'],\n",
       " ['108-megapixel (f/1.9, 0.7-micron) ',\n",
       "  ' 8-megapixel (f/2.2) ',\n",
       "  ' 2-megapixel (f/2.4) ',\n",
       "  ' 2-megapixel (f/2.4)'],\n",
       " ['13-megapixel (f/1.7)'],\n",
       " ['48-megapixel (f/1.8, 0.8-micron) ',\n",
       "  ' 8-megapixel (f/2.2, 1.12-micron) ',\n",
       "  ' 5-megapixel (f/2.4, 1.12-micron)'],\n",
       " ['50-megapixel (f/1.8) ',\n",
       "  ' 8-megapixel (f/2.2) ',\n",
       "  ' 2-megapixel (f/2.4) ',\n",
       "  ' 2-megapixel (f/2.4)'],\n",
       " ['50-megapixel (f/1.8) ',\n",
       "  ' 8-megapixel (f/2.2) ',\n",
       "  ' 2-megapixel (f/2.4) ',\n",
       "  ' 2-megapixel (f/2.4)'],\n",
       " ['13-megapixel'],\n",
       " ['23-megapixel'],\n",
       " ['23-megapixel'],\n",
       " ['48-megapixel (f/1.79, 0.8-micron) ',\n",
       "  ' 2-megapixel (f/2.4, 1.75-micron) ',\n",
       "  ' 2-megapixel (f/2.4, 1.75-micron)'],\n",
       " ['50-megapixel (f/1.8) ',\n",
       "  ' 8-megapixel (f/2.2) ',\n",
       "  ' 2-megapixel (f/2.4) ',\n",
       "  ' 2-megapixel (f/2.4)'],\n",
       " ['12-megapixel'],\n",
       " ['23-megapixel'],\n",
       " ['12-megapixel'],\n",
       " ['50-megapixel (f/1.8) ',\n",
       "  ' 8-megapixel (f/2.2) ',\n",
       "  ' 2-megapixel (f/2.4) ',\n",
       "  ' 2-megapixel (f/2.4)'],\n",
       " ['12-megapixel'],\n",
       " ['12-megapixel'],\n",
       " ['13-megapixel'],\n",
       " ['108-megapixel (f/1.9, 0.7-micron) ',\n",
       "  ' 8-megapixel (f/2.2) ',\n",
       "  ' 2-megapixel (f/2.4) ',\n",
       "  ' 2-megapixel (f/2.4)'],\n",
       " ['108-megapixel (f/1.9, 0.7-micron) ',\n",
       "  ' 8-megapixel (f/2.2) ',\n",
       "  ' 2-megapixel (f/2.4) ',\n",
       "  ' 2-megapixel (f/2.4)'],\n",
       " ['108-megapixel (f/1.9, 0.7-micron) ',\n",
       "  ' 8-megapixel (f/2.2) ',\n",
       "  ' 2-megapixel (f/2.4) ',\n",
       "  ' 2-megapixel (f/2.4)'],\n",
       " ['12-megapixel (f/1.5-2.4) ',\n",
       "  ' 16-megapixel (f/2.2) ',\n",
       "  ' 12-megapixel (f/2.1)'],\n",
       " ['50-megapixel (f/1.8) ',\n",
       "  ' 8-megapixel (f/2.2) ',\n",
       "  ' 2-megapixel (f/2.4) ',\n",
       "  ' 2-megapixel (f/2.4)'],\n",
       " ['50-megapixel (f/1.8) ',\n",
       "  ' 8-megapixel (f/2.2) ',\n",
       "  ' 2-megapixel (f/2.4) ',\n",
       "  ' 2-megapixel (f/2.4)'],\n",
       " ['13-megapixel'],\n",
       " ['50-megapixel (f/1.8) ',\n",
       "  ' 8-megapixel (f/2.2) ',\n",
       "  ' 2-megapixel (f/2.4) ',\n",
       "  ' 2-megapixel (f/2.4)'],\n",
       " ['48-megapixel (f/1.79, 0.8-micron) ',\n",
       "  ' 2-megapixel (f/2.4, 1.75-micron) ',\n",
       "  ' 2-megapixel (f/2.4, 1.75-micron)'],\n",
       " ['50-megapixel (f/1.8) ',\n",
       "  ' 8-megapixel (f/2.2) ',\n",
       "  ' 2-megapixel (f/2.4) ',\n",
       "  ' 2-megapixel (f/2.4)'],\n",
       " ['48-megapixel ', ' 13-megapixel'],\n",
       " ['40-megapixel (f/1.6) ', ' 20-megapixel (f/2.2) ', ' 8-megapixel (f/3.4)'],\n",
       " ['50-megapixel (f/1.8) ', ' 8-megapixel (f/2.2) ', ' 2-megapixel (f/2.4)'],\n",
       " ['50-megapixel (f/1.8) ', ' 8-megapixel (f/2.2) ', ' 2-megapixel (f/2.4)'],\n",
       " ['12-megapixel (f/1.8)'],\n",
       " ['40-megapixel (f/1.6) ', ' 20-megapixel (f/2.2) ', ' 8-megapixel (f/3.4)'],\n",
       " ['13-megapixel (f/1.7)'],\n",
       " ['40-megapixel (f/1.6) ', ' 20-megapixel (f/2.2) ', ' 8-megapixel (f/3.4)'],\n",
       " ['48-megapixel (f/1.79, 0.8-micron) ',\n",
       "  ' 2-megapixel (f/2.4, 1.75-micron) ',\n",
       "  ' 2-megapixel (f/2.4, 1.75-micron)'],\n",
       " ['48-megapixel ', ' 13-megapixel'],\n",
       " ['50-megapixel (f/1.8) ',\n",
       "  ' 8-megapixel (f/2.2) ',\n",
       "  ' 2-megapixel (f/2.4) ',\n",
       "  ' 2-megapixel (f/2.4)'],\n",
       " ['48-megapixel (f/1.79, 0.8-micron) ',\n",
       "  ' 2-megapixel (f/2.4, 1.75-micron) ',\n",
       "  ' 2-megapixel (f/2.4, 1.75-micron)'],\n",
       " ['13-megapixel'],\n",
       " ['108-megapixel (f/1.9, 0.7-micron) ',\n",
       "  ' 8-megapixel (f/2.2) ',\n",
       "  ' 2-megapixel (f/2.4) ',\n",
       "  ' 2-megapixel (f/2.4)'],\n",
       " ['13-megapixel'],\n",
       " ['50-megapixel (f/1.8) ',\n",
       "  ' 8-megapixel (f/2.2) ',\n",
       "  ' 2-megapixel (f/2.4) ',\n",
       "  ' 2-megapixel (f/2.4)'],\n",
       " ['12-megapixel (f/1.5-2.4) ',\n",
       "  ' 16-megapixel (f/2.2) ',\n",
       "  ' 12-megapixel (f/2.1)'],\n",
       " ['12-megapixel (f/1.5-2.4) ',\n",
       "  ' 16-megapixel (f/2.2) ',\n",
       "  ' 12-megapixel (f/2.1)'],\n",
       " ['50-megapixel ', ' 12-megapixel (f/2.2) ', ' 12-megapixel (f/1.98)'],\n",
       " ['48-megapixel (f/1.79, 0.8-micron) ',\n",
       "  ' 2-megapixel (f/2.4, 1.75-micron) ',\n",
       "  ' 2-megapixel (f/2.4, 1.75-micron)'],\n",
       " ['40-megapixel (f/1.6) ', ' 20-megapixel (f/2.2) ', ' 8-megapixel (f/3.4)'],\n",
       " ['108-megapixel (f/1.9, 0.7-micron) ',\n",
       "  ' 8-megapixel (f/2.2) ',\n",
       "  ' 2-megapixel (f/2.4) ',\n",
       "  ' 2-megapixel (f/2.4)'],\n",
       " ['50-megapixel (f/1.8) ', ' 12-megapixel (f/2.2) ', ' 10-megapixel (f/2.4)'],\n",
       " ['64-megapixel ', ' 8-megapixel ', ' 2-megapixel'],\n",
       " ['48-megapixel ', ' 8-megapixel ', ' 2-megapixel ', ' 2-megapixel'],\n",
       " ['50-megapixel (f/1.8) ', ' 12-megapixel (f/2.2) ', ' 10-megapixel (f/2.4)'],\n",
       " ['48-megapixel ', ' 8-megapixel ', ' 2-megapixel ', ' 2-megapixel'],\n",
       " ['64-megapixel ', ' 8-megapixel ', ' 2-megapixel'],\n",
       " ['13-megapixel'],\n",
       " ['13-megapixel'],\n",
       " ['48-megapixel ', ' 8-megapixel ', ' 2-megapixel ', ' 2-megapixel'],\n",
       " ['48-megapixel ', ' 8-megapixel ', ' 2-megapixel ', ' 2-megapixel'],\n",
       " ['48-megapixel ', ' 8-megapixel ', ' 2-megapixel ', ' 2-megapixel'],\n",
       " ['48-megapixel ', ' 8-megapixel ', ' 2-megapixel ', ' 2-megapixel'],\n",
       " ['50-megapixel (f/1.8) ', ' 12-megapixel (f/2.2) ', ' 10-megapixel (f/2.4)'],\n",
       " ['48-megapixel ', ' 8-megapixel ', ' 2-megapixel ', ' 2-megapixel'],\n",
       " ['48-megapixel ', ' 8-megapixel ', ' 2-megapixel ', ' 2-megapixel'],\n",
       " ['48-megapixel ', ' 8-megapixel ', ' 2-megapixel ', ' 2-megapixel'],\n",
       " ['13-megapixel'],\n",
       " ['48-megapixel ', ' 8-megapixel ', ' 2-megapixel ', ' 2-megapixel'],\n",
       " ['13-megapixel'],\n",
       " ['13-megapixel (f/2.2, 1.0-micron)'],\n",
       " ['13-megapixel (f/2.2, 1.0-micron)'],\n",
       " ['13-megapixel (f/2.2, 1.0-micron)'],\n",
       " ['108-megapixel (f/1.75, 0.7-micron) ',\n",
       "  ' 8-megapixel (f/2.2) ',\n",
       "  ' 5-megapixel (f/2.4)'],\n",
       " ['13-megapixel'],\n",
       " ['50-megapixel (f/1.8) ', ' 12-megapixel (f/2.2) ', ' 10-megapixel (f/2.4)'],\n",
       " ['50-megapixel (f/1.8) ', ' 12-megapixel (f/2.2) ', ' 10-megapixel (f/2.4)'],\n",
       " ['50-megapixel (f/1.8) ', ' 12-megapixel (f/2.2) ', ' 10-megapixel (f/2.4)'],\n",
       " ['64-megapixel ', ' 8-megapixel ', ' 2-megapixel'],\n",
       " ['64-megapixel ', ' 8-megapixel ', ' 2-megapixel'],\n",
       " ['13-megapixel'],\n",
       " ['13-megapixel'],\n",
       " ['50-megapixel (f/1.8) ', ' 8-megapixel (f/2.2) ', ' 2-megapixel (f/2.4)'],\n",
       " ['50-megapixel (f/1.8) ', ' 8-megapixel (f/2.2) ', ' 2-megapixel (f/2.4)'],\n",
       " ['12-megapixel (f/2.2, 1.25-micron)'],\n",
       " ['108-megapixel (f/1.75, 0.7-micron) ',\n",
       "  ' 8-megapixel (f/2.2) ',\n",
       "  ' 5-megapixel (f/2.4)'],\n",
       " ['108-megapixel (f/1.75, 0.7-micron) ',\n",
       "  ' 8-megapixel (f/2.2) ',\n",
       "  ' 5-megapixel (f/2.4)'],\n",
       " ['16-megapixel'],\n",
       " ['21-megapixel'],\n",
       " ['108-megapixel (f/1.75, 0.7-micron) ',\n",
       "  ' 8-megapixel (f/2.2) ',\n",
       "  ' 5-megapixel (f/2.4)'],\n",
       " ['48-megapixel (f/1.79) ', ' 5-megapixel ', ' 2-megapixel ', ' 2-megapixel'],\n",
       " ['64-megapixel (f/1.8) ',\n",
       "  ' 8-megapixel (f/2.3) ',\n",
       "  ' 12-megapixel (f/2.5) ',\n",
       "  ' 2-megapixel (f/2.4)'],\n",
       " ['64-megapixel (f/1.8) ',\n",
       "  ' 8-megapixel (f/2.3) ',\n",
       "  ' 12-megapixel (f/2.5) ',\n",
       "  ' 2-megapixel (f/2.4)'],\n",
       " ['64-megapixel (f/1.8) ',\n",
       "  ' 8-megapixel (f/2.3) ',\n",
       "  ' 12-megapixel (f/2.5) ',\n",
       "  ' 2-megapixel (f/2.4)'],\n",
       " ['64-megapixel (f/1.8) ',\n",
       "  ' 8-megapixel (f/2.3) ',\n",
       "  ' 12-megapixel (f/2.5) ',\n",
       "  ' 2-megapixel (f/2.4)'],\n",
       " ['108-megapixel (f/1.75, 0.7-micron) ',\n",
       "  ' 8-megapixel (f/2.2) ',\n",
       "  ' 5-megapixel (f/2.4)'],\n",
       " ['108-megapixel (f/1.75, 0.7-micron) ',\n",
       "  ' 8-megapixel (f/2.2) ',\n",
       "  ' 5-megapixel (f/2.4)'],\n",
       " ['108-megapixel (f/1.9, 0.7-micron) ',\n",
       "  ' 8-megapixel ',\n",
       "  ' 2-megapixel (f/2.4)'],\n",
       " ['64-megapixel (1.6-micron) ', ' 13-megapixel'],\n",
       " ['16-megapixel'],\n",
       " ['12-megapixel'],\n",
       " ['12-megapixel'],\n",
       " ['13-megapixel'],\n",
       " ['64-megapixel ', ' 8-megapixel ', ' 2-megapixel'],\n",
       " ['108-megapixel (f/1.75, 0.7-micron) ',\n",
       "  ' 8-megapixel (f/2.2) ',\n",
       "  ' 5-megapixel (f/2.4)'],\n",
       " ['13-megapixel'],\n",
       " ['108-megapixel (f/1.75, 0.7-micron) ',\n",
       "  ' 8-megapixel (f/2.2) ',\n",
       "  ' 5-megapixel (f/2.4)'],\n",
       " ['16-megapixel'],\n",
       " ['16-megapixel'],\n",
       " ['16-megapixel'],\n",
       " ['8-megapixel'],\n",
       " ['108-megapixel (f/1.75, 0.7-micron) ',\n",
       "  ' 8-megapixel (f/2.2) ',\n",
       "  ' 5-megapixel (f/2.4)'],\n",
       " ['13-megapixel'],\n",
       " ['13-megapixel'],\n",
       " ['16-megapixel'],\n",
       " ['13-megapixel'],\n",
       " ['13-megapixel'],\n",
       " ['16-megapixel'],\n",
       " ['16-megapixel'],\n",
       " ['13-megapixel'],\n",
       " ['108-megapixel (f/1.75, 0.7-micron) ',\n",
       "  ' 8-megapixel (f/2.2) ',\n",
       "  ' 5-megapixel (f/2.4)'],\n",
       " ['13-megapixel'],\n",
       " ['64-megapixel ', ' 8-megapixel ', ' 2-megapixel'],\n",
       " ['16-megapixel'],\n",
       " ['48-megapixel (f/1.8, 1.6-micron) ',\n",
       "  ' 8-megapixel (f/2.25) ',\n",
       "  ' 2-megapixel (f/2.4) ',\n",
       "  ' 2-megapixel (f/2.4)'],\n",
       " ['12-megapixel (f/1.5) ', ' 12-megapixel (f/2.4) ', ' 16-megapixel (f/2.2)'],\n",
       " ['12-megapixel (f/1.8) ', ' 12-megapixel (f/2.4) ', ' 12-megapixel (f/2.0)'],\n",
       " ['64-megapixel (f/1.89, 1.6-micron) ',\n",
       "  ' 2-megapixel (f/2.0, 1.75-micron) ',\n",
       "  ' 8-megapixel (f/2.2, 1.12-micron) ',\n",
       "  ' 2-megapixel (f/2.4, 1.75-micron)'],\n",
       " ['64-megapixel (f/1.89, 1.6-micron) ',\n",
       "  ' 2-megapixel (f/2.0, 1.75-micron) ',\n",
       "  ' 8-megapixel (f/2.2, 1.12-micron) ',\n",
       "  ' 2-megapixel (f/2.4, 1.75-micron)'],\n",
       " ['64-megapixel (f/1.89, 1.6-micron) ',\n",
       "  ' 2-megapixel (f/2.0, 1.75-micron) ',\n",
       "  ' 8-megapixel (f/2.2, 1.12-micron) ',\n",
       "  ' 2-megapixel (f/2.4, 1.75-micron)'],\n",
       " ['64-megapixel (f/1.89, 1.6-micron) ',\n",
       "  ' 2-megapixel (f/2.0, 1.75-micron) ',\n",
       "  ' 8-megapixel (f/2.2, 1.12-micron) ',\n",
       "  ' 2-megapixel (f/2.4, 1.75-micron)'],\n",
       " ['64-megapixel (f/1.89, 1.6-micron) ',\n",
       "  ' 2-megapixel (f/2.0, 1.75-micron) ',\n",
       "  ' 8-megapixel (f/2.2, 1.12-micron) ',\n",
       "  ' 2-megapixel (f/2.4, 1.75-micron)'],\n",
       " ['64-megapixel (f/1.89, 1.6-micron) ',\n",
       "  ' 2-megapixel (f/2.0, 1.75-micron) ',\n",
       "  ' 8-megapixel (f/2.2, 1.12-micron) ',\n",
       "  ' 2-megapixel (f/2.4, 1.75-micron)'],\n",
       " ['64-megapixel (f/1.89, 1.6-micron) ',\n",
       "  ' 2-megapixel (f/2.0, 1.75-micron) ',\n",
       "  ' 8-megapixel (f/2.2, 1.12-micron) ',\n",
       "  ' 2-megapixel (f/2.4, 1.75-micron)'],\n",
       " ['64-megapixel (f/1.89, 1.6-micron) ',\n",
       "  ' 2-megapixel (f/2.0, 1.75-micron) ',\n",
       "  ' 8-megapixel (f/2.2, 1.12-micron) ',\n",
       "  ' 2-megapixel (f/2.4, 1.75-micron)'],\n",
       " ['12-megapixel (f/1.8) ', ' 12-megapixel (f/2.4) ', ' 12-megapixel (f/2.0)'],\n",
       " ['64-megapixel (f/1.89, 1.6-micron) ',\n",
       "  ' 2-megapixel (f/2.0, 1.75-micron) ',\n",
       "  ' 8-megapixel (f/2.2, 1.12-micron) ',\n",
       "  ' 2-megapixel (f/2.4, 1.75-micron)'],\n",
       " ['13-megapixel'],\n",
       " ['12-megapixel'],\n",
       " ['12-megapixel'],\n",
       " ['12-megapixel'],\n",
       " ['12-megapixel'],\n",
       " ['12-megapixel'],\n",
       " ['13-megapixel'],\n",
       " ['13-megapixel'],\n",
       " ['64-megapixel ', ' 13-megapixel ', ' 5-megapixel ', ' 2-megapixel'],\n",
       " ['64-megapixel (f/1.89, 1.6-micron) ',\n",
       "  ' 2-megapixel (f/2.0, 1.75-micron) ',\n",
       "  ' 8-megapixel (f/2.2, 1.12-micron) ',\n",
       "  ' 2-megapixel (f/2.4, 1.75-micron)'],\n",
       " ['12-megapixel (f/1.8) ', ' 12-megapixel (f/2.4) ', ' 12-megapixel (f/2.0)'],\n",
       " ['13-megapixel'],\n",
       " ['13-megapixel'],\n",
       " ['13-megapixel'],\n",
       " ['13-megapixel'],\n",
       " ['50-megapixel (f/1.88) ', ' 8-megapixel (f/2.25) ', ' 2-megapixel (f/2.4)'],\n",
       " ['12-megapixel (f/1.8, 1.4-micron) ', ' 13-megapixel (f/2.6, 1.0-micron)'],\n",
       " ['12-megapixel (f/1.8, 1.4-micron) ', ' 13-megapixel (f/2.6, 1.0-micron)'],\n",
       " ['13-megapixel'],\n",
       " ['50-megapixel (f/1.8) ', ' 8-megapixel (f/2.2) ', ' 2-megapixel (f/2.4)'],\n",
       " ['50-megapixel (f/1.8) ', ' 8-megapixel (f/2.2)'],\n",
       " ['50-megapixel (f/1.8) ', ' 8-megapixel (f/2.2)'],\n",
       " ['13-megapixel'],\n",
       " ['13-megapixel'],\n",
       " ['50-megapixel (f/1.8) ', ' 8-megapixel (f/2.2)'],\n",
       " ['12-megapixel (f/1.8) ', ' 12-megapixel (f/2.4) ', ' 12-megapixel (f/2.0)'],\n",
       " ['12-megapixel (f/1.8) ', ' 12-megapixel (f/2.4) ', ' 12-megapixel (f/2.0)'],\n",
       " ['13-megapixel'],\n",
       " ['12-megapixel (f/1.8) ', ' 12-megapixel (f/2.4) ', ' 12-megapixel (f/2.0)'],\n",
       " ['12-megapixel (f/1.8) ', ' 12-megapixel (f/2.4) ', ' 12-megapixel (f/2.0)'],\n",
       " ['12-megapixel (f/1.8) ', ' 12-megapixel (f/2.4) ', ' 12-megapixel (f/2.0)'],\n",
       " ['12-megapixel (f/1.8) ', ' 12-megapixel (f/2.4) ', ' 12-megapixel (f/2.0)'],\n",
       " ['12-megapixel (f/1.8) ', ' 12-megapixel (f/2.4) ', ' 12-megapixel (f/2.0)'],\n",
       " ['13-megapixel'],\n",
       " ['13-megapixel'],\n",
       " ['16-megapixel'],\n",
       " ['64-megapixel (f/1.7) ',\n",
       "  ' 16-megapixel (f/2.2) ',\n",
       "  ' 2-megapixel (f/2.4) ',\n",
       "  ' ToF'],\n",
       " ['108-megapixel (f/1.9, 0.7-micron) ',\n",
       "  ' 8-megapixel ',\n",
       "  ' 5-megapixel ',\n",
       "  ' 2-megapixel'],\n",
       " ['48-megapixel (f/1.8, 1.6-micron) ',\n",
       "  ' 8-megapixel (f/2.25) ',\n",
       "  ' 2-megapixel (f/2.4) ',\n",
       "  ' 2-megapixel (f/2.4)'],\n",
       " ['200-megapixel (f/1.8) ', ' 12-megapixel (f/2.2) ', ' 10-megapixel (f/2.4)'],\n",
       " ['48-megapixel (f/1.8, 1.6-micron) ',\n",
       "  ' 8-megapixel (f/2.25) ',\n",
       "  ' 2-megapixel (f/2.4) ',\n",
       "  ' 2-megapixel (f/2.4)'],\n",
       " ['48-megapixel (f/1.8, 1.6-micron) ',\n",
       "  ' 8-megapixel (f/2.25) ',\n",
       "  ' 2-megapixel (f/2.4) ',\n",
       "  ' 2-megapixel (f/2.4)'],\n",
       " ['48-megapixel (f/1.8, 1.6-micron) ',\n",
       "  ' 8-megapixel (f/2.25) ',\n",
       "  ' 2-megapixel (f/2.4) ',\n",
       "  ' 2-megapixel (f/2.4)'],\n",
       " ['108-megapixel (f/1.9, 0.7-micron) ',\n",
       "  ' 8-megapixel ',\n",
       "  ' 5-megapixel ',\n",
       "  ' 2-megapixel'],\n",
       " ['48-megapixel (f/1.8, 1.6-micron) ',\n",
       "  ' 8-megapixel (f/2.25) ',\n",
       "  ' 2-megapixel (f/2.4) ',\n",
       "  ' 2-megapixel (f/2.4)'],\n",
       " ['12-megapixel (f/1.5) ', ' 12-megapixel (f/2.4) ', ' 16-megapixel (f/2.2)'],\n",
       " ['64-megapixel (f/1.8) ',\n",
       "  ' 8-megapixel (f/2.3) ',\n",
       "  ' 2-megapixel (f/2.4) ',\n",
       "  ' 2-megapixel (f/2.4)'],\n",
       " ['50-megapixel (f/1.8) ', ' 8-megapixel (f/2.2) ', ' 2-megapixel (f/2.4)'],\n",
       " ['50-megapixel (f/1.8, 0.64-micron) ',\n",
       "  ' 8-megapixel (f/2.2, 1.12-micron) ',\n",
       "  ' 2-megapixel (f/2.4, 1.75-micron)'],\n",
       " ['12-megapixel (f/1.5) ', ' 12-megapixel (f/2.4) ', ' 16-megapixel (f/2.2)'],\n",
       " ['13-megapixel'],\n",
       " ['64-megapixel (f/1.8) ',\n",
       "  ' 8-megapixel (f/2.3) ',\n",
       "  ' 2-megapixel (f/2.4) ',\n",
       "  ' 2-megapixel (f/2.4)'],\n",
       " ['64-megapixel (f/1.8) ',\n",
       "  ' 8-megapixel (f/2.3) ',\n",
       "  ' 2-megapixel (f/2.4) ',\n",
       "  ' 2-megapixel (f/2.4)'],\n",
       " ['64-megapixel (f/1.8) ',\n",
       "  ' 8-megapixel (f/2.3) ',\n",
       "  ' 2-megapixel (f/2.4) ',\n",
       "  ' 2-megapixel (f/2.4)'],\n",
       " ['108-megapixel (f/1.9, 0.7-micron) ',\n",
       "  ' 8-megapixel (f/2.2) ',\n",
       "  ' 2-megapixel (f/2.4)'],\n",
       " ['12-megapixel (f/1.5) ', ' 12-megapixel (f/2.4) ', ' 16-megapixel (f/2.2)'],\n",
       " ['16-megapixel'],\n",
       " ['12-megapixel (f/1.5) ', ' 12-megapixel (f/2.4) ', ' 16-megapixel (f/2.2)'],\n",
       " ['50-megapixel (f/1.8, 0.64-micron) ',\n",
       "  ' 8-megapixel (f/2.2, 1.12-micron) ',\n",
       "  ' 2-megapixel (f/2.4, 1.75-micron)'],\n",
       " ['200-megapixel (f/1.8) ', ' 12-megapixel (f/2.2) ', ' 10-megapixel (f/2.4)'],\n",
       " ['200-megapixel (f/1.8) ', ' 12-megapixel (f/2.2) ', ' 10-megapixel (f/2.4)'],\n",
       " ['200-megapixel (f/1.8) ', ' 12-megapixel (f/2.2) ', ' 10-megapixel (f/2.4)'],\n",
       " ['108-megapixel (f/1.9, 0.7-micron) ',\n",
       "  ' 8-megapixel ',\n",
       "  ' 5-megapixel ',\n",
       "  ' 2-megapixel'],\n",
       " ['108-megapixel (f/1.9, 0.7-micron) ',\n",
       "  ' 8-megapixel ',\n",
       "  ' 5-megapixel ',\n",
       "  ' 2-megapixel'],\n",
       " ['8-megapixel'],\n",
       " ['13-megapixel'],\n",
       " ['108-megapixel (f/1.69, 1.6-micron) ',\n",
       "  ' 8-megapixel (f/2.0, 1.0-micron) ',\n",
       "  ' 12-megapixel (f/2.0, 1.4-micron) ',\n",
       "  ' 20-megapixel (f/2.2)'],\n",
       " ['13-megapixel'],\n",
       " ['64-megapixel (f/1.8) ', ' 13-megapixel (f/2.4) ', ' 5-megapixel (f/2.0)'],\n",
       " ['13-megapixel'],\n",
       " ['108-megapixel (f/1.9, 0.7-micron) ',\n",
       "  ' 8-megapixel ',\n",
       "  ' 5-megapixel ',\n",
       "  ' 2-megapixel'],\n",
       " ['108-megapixel (f/1.9, 0.7-micron) ',\n",
       "  ' 8-megapixel ',\n",
       "  ' 5-megapixel ',\n",
       "  ' 2-megapixel'],\n",
       " ['200-megapixel (f/1.8) ', ' 12-megapixel (f/2.2) ', ' 10-megapixel (f/2.4)'],\n",
       " ['200-megapixel (f/1.8) ', ' 12-megapixel (f/2.2) ', ' 10-megapixel (f/2.4)'],\n",
       " ['200-megapixel (f/1.8) ', ' 12-megapixel (f/2.2) ', ' 10-megapixel (f/2.4)'],\n",
       " ['64-megapixel (f/1.89) ',\n",
       "  ' 12-megapixel (f/2.2, 1.4-micron) ',\n",
       "  ' 2-megapixel ',\n",
       "  ' 2-megapixel'],\n",
       " ['64-megapixel (f/1.8) ',\n",
       "  ' 8-megapixel (f/2.3) ',\n",
       "  ' 2-megapixel (f/2.4) ',\n",
       "  ' 2-megapixel (f/2.4)'],\n",
       " ['200-megapixel (f/1.8) ', ' 12-megapixel (f/2.2) ', ' 10-megapixel (f/2.4)'],\n",
       " ['12-megapixel (f/1.5) ', ' 12-megapixel (f/2.4) ', ' 16-megapixel (f/2.2)'],\n",
       " ['12-megapixel (f/1.5) ', ' 12-megapixel (f/2.4) ', ' 16-megapixel (f/2.2)'],\n",
       " ['200-megapixel (f/1.8) ', ' 12-megapixel (f/2.2) ', ' 10-megapixel (f/2.4)'],\n",
       " ['12-megapixel (f/1.5) ', ' 12-megapixel (f/2.4) ', ' 16-megapixel (f/2.2)'],\n",
       " ['200-megapixel (f/1.8) ', ' 12-megapixel (f/2.2) ', ' 10-megapixel (f/2.4)'],\n",
       " ['50-megapixel (f/1.8) ', ' 8-megapixel (f/2.2) ', ' 2-megapixel (f/2.4)'],\n",
       " ['108-megapixel (f/1.9, 0.7-micron) ',\n",
       "  ' 8-megapixel ',\n",
       "  ' 5-megapixel ',\n",
       "  ' 2-megapixel'],\n",
       " ['48-megapixel (f/1.79) ', ' 5-megapixel ', ' 2-megapixel ', ' 2-megapixel'],\n",
       " ['13-megapixel'],\n",
       " ['8-megapixel'],\n",
       " ['13-megapixel (f/1.8, 1.12-micron) ', ' 2-megapixel'],\n",
       " ['64-megapixel (f/1.8) ', ' 12-megapixel (f/2.2) ', ' 5-megapixel (f/2.4)'],\n",
       " ['13-megapixel'],\n",
       " ['64-megapixel (f/1.8) ', ' 12-megapixel (f/2.2) ', ' 5-megapixel (f/2.4)'],\n",
       " ['64-megapixel (f/1.7) ', ' 2-megapixel (f/2.4) ', ' 2-megapixel (f/3.3)'],\n",
       " ['64-megapixel (f/1.7) ', ' 2-megapixel (f/2.4) ', ' 2-megapixel (f/3.3)'],\n",
       " ['13-megapixel'],\n",
       " ['50-megapixel (f/1.8) ', ' 8-megapixel (f/2.2) ', ' 2-megapixel (f/2.4)'],\n",
       " ['13-megapixel (f/2.2, 1.12um-micron) ', ' 2-megapixel (f/2.4)'],\n",
       " ['13-megapixel (f/2.2, 1.12um-micron) ', ' 2-megapixel (f/2.4)'],\n",
       " ['13-megapixel (f/2.2, 1.12um-micron) ', ' 2-megapixel (f/2.4)'],\n",
       " ['13-megapixel'],\n",
       " ['13-megapixel (f/2.2, 1.12um-micron) ', ' 2-megapixel (f/2.4)'],\n",
       " ['50-megapixel (f/1.8) ', ' 8-megapixel (f/2.2) ', ' 2-megapixel (f/2.4)'],\n",
       " ['12-megapixel (f/2.2, 1.29-micron) ', ' 2-megapixel'],\n",
       " ['64-megapixel (f/1.8) ',\n",
       "  ' 8-megapixel (f/2.2) ',\n",
       "  ' 5-megapixel (f/2.2) ',\n",
       "  ' 5-megapixel (f/2.4)'],\n",
       " ['64-megapixel (f/1.8) ',\n",
       "  ' 8-megapixel (f/2.2) ',\n",
       "  ' 5-megapixel (f/2.2) ',\n",
       "  ' 5-megapixel (f/2.4)'],\n",
       " ['64-megapixel (f/1.8) ',\n",
       "  ' 8-megapixel (f/2.2) ',\n",
       "  ' 5-megapixel (f/2.2) ',\n",
       "  ' 5-megapixel (f/2.4)'],\n",
       " ['12-megapixel (f/2.2, 1.29-micron) ', ' 2-megapixel'],\n",
       " ['16-megapixel'],\n",
       " ['8-megapixel'],\n",
       " ['64-megapixel (f/1.8) ',\n",
       "  ' 8-megapixel (f/2.2) ',\n",
       "  ' 5-megapixel (f/2.2) ',\n",
       "  ' 5-megapixel (f/2.4)'],\n",
       " ['13-megapixel'],\n",
       " ['13-megapixel (f/1.8, 1.12-micron) ', ' 2-megapixel'],\n",
       " ['12-megapixel (f/2.2, 1.25-micron)'],\n",
       " ...]"
      ]
     },
     "execution_count": 21,
     "metadata": {},
     "output_type": "execute_result"
    }
   ],
   "source": [
    "cam"
   ]
  },
  {
   "cell_type": "code",
   "execution_count": 22,
   "id": "7ec46661",
   "metadata": {},
   "outputs": [
    {
     "data": {
      "text/plain": [
       "8789"
      ]
     },
     "execution_count": 22,
     "metadata": {},
     "output_type": "execute_result"
    }
   ],
   "source": [
    "len(cam)"
   ]
  },
  {
   "cell_type": "code",
   "execution_count": 23,
   "id": "3992854c",
   "metadata": {},
   "outputs": [
    {
     "data": {
      "text/plain": [
       "5"
      ]
     },
     "execution_count": 23,
     "metadata": {},
     "output_type": "execute_result"
    }
   ],
   "source": [
    "rcc=[]\n",
    "for x in cam:\n",
    "    try:\n",
    "        rcc.append(len(x))\n",
    "    except:\n",
    "        rcc.append(0)\n",
    "max(rcc)"
   ]
  },
  {
   "cell_type": "code",
   "execution_count": 24,
   "id": "af97d2d5",
   "metadata": {},
   "outputs": [
    {
     "name": "stdout",
     "output_type": "stream",
     "text": [
      "8789 310\n",
      "8789 4699\n",
      "8789 6051\n",
      "8789 7983\n",
      "8789 8786\n"
     ]
    }
   ],
   "source": [
    "rc=[[],[],[],[],[]]\n",
    "c='-'\n",
    "for pix in cam:\n",
    "    for j in range(5):\n",
    "        if str(pix)=='nan':\n",
    "            rc[j].append(np.nan)\n",
    "        else:\n",
    "            try:\n",
    "                ind=pix[j].index('-')\n",
    "                rc[j].append(int(pix[j][:ind]))\n",
    "            except:\n",
    "                rc[j].append(np.nan)\n",
    "for i in rc:\n",
    "    print(len(i),i.count(np.nan))"
   ]
  },
  {
   "cell_type": "markdown",
   "id": "d06708cf",
   "metadata": {},
   "source": [
    "# Front camera"
   ]
  },
  {
   "cell_type": "code",
   "execution_count": 25,
   "id": "c2725940",
   "metadata": {},
   "outputs": [
    {
     "data": {
      "text/plain": [
       "0       25-megapixel (f/2.0)\n",
       "1       25-megapixel (f/2.0)\n",
       "2       25-megapixel (f/2.0)\n",
       "3       16-megapixel (f/2.1)\n",
       "4       16-megapixel (f/2.1)\n",
       "                ...         \n",
       "8784                     NaN\n",
       "8785                     NaN\n",
       "8786             Unspecified\n",
       "8787            20-megapixel\n",
       "8788                     NaN\n",
       "Name: Front camera, Length: 8789, dtype: object"
      ]
     },
     "execution_count": 25,
     "metadata": {},
     "output_type": "execute_result"
    }
   ],
   "source": [
    "df['Front camera']"
   ]
  },
  {
   "cell_type": "code",
   "execution_count": 26,
   "id": "4a0d4672",
   "metadata": {},
   "outputs": [
    {
     "data": {
      "text/plain": [
       "array(['25-megapixel (f/2.0)', '16-megapixel (f/2.1)',\n",
       "       '20-megapixel (f/2.2, 1.0-micron)', '5-megapixel',\n",
       "       '5-megapixel (f/2.2, 1.12-micron)', '16-megapixel (f/2.0)',\n",
       "       '7-megapixel (f/2.2)', '20-megapixel (f/2.0)',\n",
       "       '16-megapixel (f/2.45)', '8-megapixel (f/2.0, 1/4-micron)',\n",
       "       '8-megapixel (f/2.0, 1.12-micron)',\n",
       "       '8-megapixel (f/1.7, 1.22-micron)', '20-megapixel',\n",
       "       '24-megapixel (f/2.0)', '16-megapixel (f/1.9, 1.0-micron)',\n",
       "       '13-megapixel (f/2.0, 1.12-micron)',\n",
       "       '16-megapixel (f/2.0) + 8-megapixel (f/2.4)',\n",
       "       '20-megapixel (f/2.3)', '11.1-megapixel (f/2.2, 1.22-micron)',\n",
       "       '8-megapixel', '16-megapixel (f/2.45, 1.0-micron)',\n",
       "       '10-megapixel (f/2.2)', '5-megapixel (f/2.0)',\n",
       "       '8-megapixel (f/2.2, 1.12-micron)', '16-megapixel (f/2.4)',\n",
       "       '16-megapixel (f/2.0, 1.12-micron)', '10-megapixel (f/1.9)',\n",
       "       '16-megapixel (f/2.0, 1.0-micron)', '16-megapixel',\n",
       "       '16-megapixel (f/2.0) + 8-megapixel',\n",
       "       '32-megapixel (f/1.9, 0.8-micron)', '8-megapixel (f/2.0)',\n",
       "       '5-megapixel (f/2.2)', '20-megapixel (f/2.2, 0.8-micron)',\n",
       "       '32-megapixel (f/2.2)', '20-megapixel (f/1.82)',\n",
       "       '40-megapixel (f/2.2)', '16-megapixel (f/2.2, 1.0-micron)',\n",
       "       '4-megapixel (f/2.0, 2-micron)', '32-megapixel (f/2.4)', nan,\n",
       "       '13-megapixel (f/1.9)', '5-megapixel (f/2.4)',\n",
       "       '16-megapixel (f/2.2)', '8-megapixel (f/1.9)',\n",
       "       '32-megapixel (f/2.45, 0.8-micron) + 8-megapixel (f/2.45)',\n",
       "       '13-megapixel + 2-megapixel', '32-megapixel (f/2.4, 0.8-micron)',\n",
       "       '5-megapixel (f/1.7, 1.34-micron)',\n",
       "       '10-megapixel (f/F2.2, 1.22-micron) + 8-megapixel (f/1.9, 1.12-micron)',\n",
       "       '32-megapixel (f/2.2) + Depth', '32-megapixel (f/2.0)',\n",
       "       '13-megapixel',\n",
       "       '8-megapixel (f/1.9, 1.4-micron) + 5-megapixel (f/2.2, 1.4-micron)',\n",
       "       '32-megapixel (f/f/2.4)', '12-megapixel (f/2.45, 1.22-micron)',\n",
       "       '8-megapixel (f/f/2.4)', '24-megapixel (f/2.45)',\n",
       "       '12-megapixel (f/2.2)',\n",
       "       '32-megapixel (f/2.0) + 8-megapixel (f/2.2)',\n",
       "       '20-megapixel (f/2.4)', '12-megapixel (f/2.4) + 3D Depth',\n",
       "       '10-megapixel (f/2.2, 1.22-micron)', '13-megapixel (f/2.0)',\n",
       "       '16-megapixel (f/2.0, 1-micron)', '8-megapixel (f/2.2)',\n",
       "       '13-megapixel (f/2.2)', '32-megapixel', '60-megapixel (f/2.2)',\n",
       "       '32-megapixel (f/2.45)', '4-Ultrapixel',\n",
       "       '13-megapixel (f/2.2, 1.12-micron)',\n",
       "       '8-megapixel (f/2.05, 1.12-micron)', '13-megapixel (f/2.4)',\n",
       "       '44-megapixel (f/2.0)',\n",
       "       '10-megapixel (f/2.2) + 4-megapixel (f/1.8, 2.0-micron)',\n",
       "       '16-megapixel (f/2.0) + 8-megapixel (f/2.2)', '24-megapixel',\n",
       "       '2-megapixel', '12-megapixel',\n",
       "       '10-megapixel (f/1.9) + 8-megapixel (f/2.2)',\n",
       "       '20-megapixel (f/2.2, 0.8-micron) + 2-megapixel',\n",
       "       '16-megapixel (f/2.2) + 8-megapixel (f/2.4)',\n",
       "       '5-megapixel (f/2.4, 1.12um-micron)', '12-megapixel (f/2.0)',\n",
       "       '16-megapixel (f/2.4, 1.0-micron)',\n",
       "       '8-megapixel (f/2.2) + 8-megapixel (f/1.8)',\n",
       "       '12-megapixel (f/1.9)', '20-megapixel (f/2.45)',\n",
       "       '13-megapixel (f/2.25, 1.12-micron)', '12-megapixel (f/f/2.2)',\n",
       "       '2-megapixel (f/2.2)',\n",
       "       '10-megapixel (f/2.2, 1.22-micron) + 4-megapixel (f/1.8, 2.0-micron)',\n",
       "       '32-megapixel (f/2.45, 0.8-micron)', '5-megapixel (f/1.9)',\n",
       "       '16-Ultrapixel (f/2.4)', '16-megapixel (f/2.48)',\n",
       "       '32-megapixel (f/2.25, 0.7-micron)', '32-megapixel (1.6-micron)',\n",
       "       '3.2-megapixel', '1.6-megapixel',\n",
       "       '60-megapixel (f/2.2, 1.2-micron)',\n",
       "       '32-megapixel (f/2.5) + 8-megapixel (f/2.2)', '4-megapixel',\n",
       "       '12-megapixel (1.22-micron)', '0.3-megapixel',\n",
       "       '8-megapixel (f/1.8)', '48-megapixel + 8-megapixel', 'Unspecified',\n",
       "       '25-megapixel (f/2.0, 1.8-micron)',\n",
       "       '32-megapixel (f/2.0) + Infrared',\n",
       "       '20-megapixel (f/2.2, 1.6-micron)', '16-Ultrapixel',\n",
       "       '32-megapixel (f/2.08) + 8-megapixel (f/2.28)',\n",
       "       '13-megapixel (f/2.3)', '5-megapixel (f/1.9, 1.34-micron)',\n",
       "       '40-megapixel (f/2.2, 0.7-micron)', '16-megapixel (f/2.5)',\n",
       "       '1-megapixel', '1.3-megapixel', '32-megapixel (f/2.5)',\n",
       "       '13-megapixel (f/2.0) + 2-megapixel', '2.4-megapixel',\n",
       "       '1.2-megapixel (f/2.2)', 'No', '32-megapixel (f/2.0) + 3D Depth',\n",
       "       '3-megapixel', '13-megapixel (f/1.8)',\n",
       "       '24-megapixel (f/2.0, 0.9-micron)', '8-megapixel (f/2.05)',\n",
       "       '44-megapixel (f/2.0) + 8-megapixel (f/2.28)',\n",
       "       '20-megapixel (f/2.2)', '8-megapixel (f/2.4)',\n",
       "       '20-megapixel (f/f/2.0)', '4.9-megapixel',\n",
       "       '8-megapixel (f/2.0, 1.22-micron)', '16-megapixel (f/2.05)',\n",
       "       '32-megapixel (f/0.8)', '2.2-megapixel',\n",
       "       '20-megapixel (0.8-micron) + 2-megapixel (1.75-micron)',\n",
       "       '24-megapixel (f/2.0) + 2-megapixel', '13-megapixel (1.2-micron)',\n",
       "       '2.1-megapixel', '0.9-megapixel',\n",
       "       '24-megapixel (1.8-micron) + 2-megapixel',\n",
       "       '16-megapixel (f/2.48, 1.0-micron)',\n",
       "       '20-megapixel (f/2.24, 1.6-micron)',\n",
       "       '16-megapixel (f/2.4) + 2-megapixel (f/2.4)',\n",
       "       '5-megapixel (1.4-micron)', '24-megapixel (f/f/2.0)',\n",
       "       '20-megapixel + 2-megapixel',\n",
       "       '16-megapixel (f/2.0) + 2-megapixel (f/2.4)',\n",
       "       '8-megapixel (f/f/1.8)', '12-megapixel (f/2.0, 1.25-micron)',\n",
       "       '20-megapixel (0.9-micron)', '15.5-megapixel',\n",
       "       '32-megapixel (f/2.0, 1.6-micron)', '0.5-megapixel',\n",
       "       '16-megapixel (f/1.9)', '5-megapixel (f/2.0, 1.12-micron)',\n",
       "       '25-megapixel (f/2.0, 0.9-micron)', '50-megapixel (f/2.0)',\n",
       "       '5-megapixel (f/1.8)', '25-megapixel',\n",
       "       '8-megapixel (f/1.9, 1.12-micron) + 5-megapixel (f/2.2, 1.12-micron)',\n",
       "       '13-megapixel (f/2.45)', '16-megapixel + 8-megapixel',\n",
       "       '12-megapixel (f/1.9, 1.25-micron)', '16-megapixel + 2-megapixel',\n",
       "       '16-megapixel (f/2.0, 1.12-micron) + 24-megapixel (f/2.0)',\n",
       "       '13-megapixel (f/1.9, 1.12-micron)', '44-megapixel (f/2.4)',\n",
       "       '10-megapixel (f/2.2, 1.22-micron) + 10-megapixel (f/2.2, 1.22-micron)',\n",
       "       '8-megapixel (f/1.79, 0.8-micron)',\n",
       "       '50-megapixel (f/2.0) + 8-megapixel (f/2.28)',\n",
       "       '16-megapixel (f/2.4, 1-micron)', '32-megapixel (f/2.48)',\n",
       "       '3.7-megapixel', '20-megapixel (f/2.0, 0.9-micron)',\n",
       "       '16-megapixel (1.0-micron)', '16-megapixel (f/f/2.4)',\n",
       "       '16-megapixel (1.12-micron)',\n",
       "       '16-megapixel (f/2.0, 2.0-micron) + 8-megapixel',\n",
       "       '20-megapixel (f/2.2) + 8-megapixel',\n",
       "       '12-megapixel (f/2.2, 1.25-micron)',\n",
       "       '10-megapixel (f/1.9) + 0.038-megapixel',\n",
       "       '20-megapixel (f/2.0, 1.8-micron) + 2-megapixel',\n",
       "       '8-megapixel (1.12-micron)', '5.1-megapixel',\n",
       "       '20-megapixel (f/1.8)', '24-megapixel (f/2) + 2-megapixel',\n",
       "       '32-megapixel (f/2.0, 0.8-micron)', '3.5-megapixel',\n",
       "       '1.2-megapixel', '8-megapixel (f/2)', '7-megapixel',\n",
       "       '16-megapixel (f/1.8)', '16-megapixel (f/2, 1.12-micron)',\n",
       "       '44-megapixel', '16-megapixel (f/2.2, 1-micron)', '48-megapixel',\n",
       "       '10.7-megapixel (f/2.2)', '32-megapixel (f/2.25)',\n",
       "       '5-megapixel (1.12-micron)', '60-megapixel', '18-megapixel',\n",
       "       '32-megapixel (f/f/2.0)', '21-megapixel (f/2.0)', '10-megapixel',\n",
       "       '16-megapixel (f/2.2) + 8-megapixel',\n",
       "       '9-megapixel (f/2.0, 1.12-micron)', '5-megapixel (f/f/2.0)',\n",
       "       '1.9-megapixel', '32-megapixel (f/2.2) + 8-megapixel (f/2.2)',\n",
       "       '32-megapixel (f/2.4) + 32-megapixel (f/2.0)', '2-Ultrapixel',\n",
       "       'Unspecified (f/1.8)', '16-megapixel (f/2)', '50-megapixel',\n",
       "       '10.8-megapixel', '10-megapixel (f/2.4, 1.22-micron)',\n",
       "       '16-megapixel (f/1.8) + 8-megapixel (f/2.2)',\n",
       "       '8-megapixel (f/2.8, 1.12-micron)', '8-megapixel (f/f/2.0)',\n",
       "       '8-megapixel + 2-megapixel',\n",
       "       '24-megapixel (f/2.0) + 2-megapixel (f/2.0)',\n",
       "       '32-megapixel (f/f/2.4, 0.7 µm-micron)', '12-megapixel + 3D Depth',\n",
       "       '32-megapixel (f/2.0) + 32-megapixel', '25-megapixel (f/2.2)',\n",
       "       '24-megapixel (f/2.0, 1.8-micron)', '28-megapixel',\n",
       "       '32-megapixel (f/2.4) + 16-megapixel (f/2.0)',\n",
       "       '24-megapixel (f/1.9)', '24.8-megapixel',\n",
       "       '16-megapixel (f/f/2.45)', '16-megapixel (f/f/2.0)',\n",
       "       '50-megapixel (f/2.4)',\n",
       "       '60-megapixel (f/2.4) + 8-megapixel (f/2.2)',\n",
       "       '50-megapixel (f/f/2.45)', '60-megapixel (f/2.4)',\n",
       "       '32-megapixel (f/2)', '44-megapixel (f/f/2.0)',\n",
       "       'Unspecified (5-micron)', '42-megapixel (f/2.4)',\n",
       "       '44-megapixel (f/2.4) + 2-megapixel (f/2.4)',\n",
       "       '9.5-megapixel (f/2.2) + 8-megapixel (f/2.0)',\n",
       "       '12-megapixel (f/2.0, 1.0-micron)',\n",
       "       '8-megapixel (f/2.0) + 2-megapixel (f/2.4)',\n",
       "       '20-megapixel (f/2.24)', '20-megapixel (f/2.3, 0.8-micron)',\n",
       "       '2-megapixel (1.12-micron)', '16.3-megapixel',\n",
       "       '5-megapixel (f/f/2.2)', '13-megapixel (f/f/2.2)',\n",
       "       '60-megapixel + 8-megapixel', '8-megapixel (f/f/20)',\n",
       "       '13-megapixel + 5-megapixel', '12.6-megapixel (f/2.3)',\n",
       "       '50-megapixel (f/2.4) + 2-megapixel (f/2.4)', '12.6-megapixel',\n",
       "       '16-megapixel (f/2.0) + 2-megapixel', '24.8-megapixel (f/2.0)',\n",
       "       '16-megapixel (f/2.0) + 5-megapixel', 'Unspecified (f/2.0)',\n",
       "       '16-megapixel (f/2.2, 16-micron)',\n",
       "       '20-megapixel (f/2.0, 1.9-micron)',\n",
       "       '48-megapixel (f/2.2) + 8-megapixel (f/2.2)',\n",
       "       '2-megapixel (f/2.4, 1.12-micron)',\n",
       "       '20-megapixel (f/2.0, 1.8-micron)', '32-megapixel + 12-megapixel',\n",
       "       '8-megapixel + 8-megapixel', '32-megapixel + 16-megapixel',\n",
       "       '10.7-megapixel', '8-megapixel + 13-megapixel'], dtype=object)"
      ]
     },
     "execution_count": 26,
     "metadata": {},
     "output_type": "execute_result"
    }
   ],
   "source": [
    "df['Front camera'].unique()"
   ]
  },
  {
   "cell_type": "code",
   "execution_count": 27,
   "id": "e057a876",
   "metadata": {},
   "outputs": [
    {
     "data": {
      "text/plain": [
       "Front camera\n",
       "5-megapixel                               1661\n",
       "8-megapixel                               1071\n",
       "2-megapixel                                640\n",
       "16-megapixel                               541\n",
       "8-megapixel (f/2.0)                        384\n",
       "                                          ... \n",
       "32-megapixel (f/2.0, 0.8-micron)             1\n",
       "24-megapixel (f/2) + 2-megapixel             1\n",
       "20-megapixel (f/1.8)                         1\n",
       "10-megapixel (f/1.9) + 0.038-megapixel       1\n",
       "8-megapixel + 13-megapixel                   1\n",
       "Name: count, Length: 274, dtype: int64"
      ]
     },
     "execution_count": 27,
     "metadata": {},
     "output_type": "execute_result"
    }
   ],
   "source": [
    "df['Front camera'].value_counts()"
   ]
  },
  {
   "cell_type": "code",
   "execution_count": 28,
   "id": "5a422ef9",
   "metadata": {},
   "outputs": [
    {
     "data": {
      "text/plain": [
       "66"
      ]
     },
     "execution_count": 28,
     "metadata": {},
     "output_type": "execute_result"
    }
   ],
   "source": [
    "df['Front camera'].isna().sum()"
   ]
  },
  {
   "cell_type": "code",
   "execution_count": 29,
   "id": "b13c93c5",
   "metadata": {},
   "outputs": [
    {
     "name": "stdout",
     "output_type": "stream",
     "text": [
      "66\n"
     ]
    }
   ],
   "source": [
    "c=0\n",
    "for x in df['Front camera']:\n",
    "    if str(x)=='nan':\n",
    "        c+=1\n",
    "print(c)"
   ]
  },
  {
   "cell_type": "code",
   "execution_count": 30,
   "id": "f39240ad",
   "metadata": {},
   "outputs": [
    {
     "data": {
      "text/plain": [
       "66"
      ]
     },
     "execution_count": 30,
     "metadata": {},
     "output_type": "execute_result"
    }
   ],
   "source": [
    "fcam=[]\n",
    "for x in df['Front camera']:\n",
    "    if str(x)=='nan':\n",
    "        fcam.append(np.nan)\n",
    "    else:\n",
    "        fcam.append(str(x).split('+'))\n",
    "fcam.count(np.nan)"
   ]
  },
  {
   "cell_type": "code",
   "execution_count": 31,
   "id": "69b79978",
   "metadata": {},
   "outputs": [
    {
     "data": {
      "text/plain": [
       "2"
      ]
     },
     "execution_count": 31,
     "metadata": {},
     "output_type": "execute_result"
    }
   ],
   "source": [
    "fcc=[]\n",
    "for x in fcam:\n",
    "    try:\n",
    "        fcc.append(len(x))\n",
    "    except:\n",
    "        fcc.append(0)\n",
    "max(fcc)"
   ]
  },
  {
   "cell_type": "code",
   "execution_count": 32,
   "id": "b2f96e5b",
   "metadata": {},
   "outputs": [
    {
     "name": "stdout",
     "output_type": "stream",
     "text": [
      "8789 881\n",
      "8789 8594\n"
     ]
    }
   ],
   "source": [
    "fc=[[],[]]\n",
    "c='-'\n",
    "for pix in fcam:\n",
    "    for j in range(2):\n",
    "        if str(pix)=='nan':\n",
    "            fc[j].append(np.nan)\n",
    "        else:\n",
    "            try:\n",
    "                ind=pix[j].index('-')\n",
    "                fc[j].append(int(pix[j][:ind]))\n",
    "            except:\n",
    "                fc[j].append(np.nan)\n",
    "for i in fc:\n",
    "    print(len(i),i.count(np.nan))"
   ]
  },
  {
   "cell_type": "markdown",
   "id": "b3a419cf",
   "metadata": {},
   "source": [
    "# Release date"
   ]
  },
  {
   "cell_type": "code",
   "execution_count": 33,
   "id": "05b26763",
   "metadata": {},
   "outputs": [
    {
     "data": {
      "text/plain": [
       "0           September 2018\n",
       "1           September 2018\n",
       "2           September 2018\n",
       "3       24th February 2021\n",
       "4       24th February 2021\n",
       "               ...        \n",
       "8784     8th December 2022\n",
       "8785       12th March 2022\n",
       "8786     13th January 2021\n",
       "8787      11th August 2022\n",
       "8788          January 2019\n",
       "Name: Release date, Length: 8789, dtype: object"
      ]
     },
     "execution_count": 33,
     "metadata": {},
     "output_type": "execute_result"
    }
   ],
   "source": [
    "df['Release date']"
   ]
  },
  {
   "cell_type": "code",
   "execution_count": 34,
   "id": "9935d562",
   "metadata": {},
   "outputs": [
    {
     "data": {
      "text/plain": [
       "array(['September 2018', '24th February 2021', 'February 2018',\n",
       "       'June 2018', 'April 2019', '15th April 2020', 'November 2016',\n",
       "       '28th February 2022', '24th February 2020', '19th October 2021',\n",
       "       'November 2017', 'August 2017', '22nd March 2021',\n",
       "       '29th August 2019', 'November 2018', 'March 2018',\n",
       "       '28th October 2020', '20th May 2019', 'May 2017',\n",
       "       '29th March 2021', 'September 2017', '3rd March 2022',\n",
       "       '8th March 2022', '11th February 2020', 'November 2015',\n",
       "       'October 2018', '9th March 2022', '20th August 2019',\n",
       "       'February 2019', 'March 2017', 'August 2018', 'October 2017',\n",
       "       '17th February 2022', 'January 2019', '14th September 2020',\n",
       "       'June 2015', '28th May 2019', '3rd January 2020', '14th May 2019',\n",
       "       '25th February 2019', '12th May 2022', 'February 2016',\n",
       "       '7th August 2019', 'August 2016', '14th April 2020',\n",
       "       '6th January 2022', '24th February 2022 (expected)',\n",
       "       '22nd April 2022', '19th June 2019', 'June 2017', 'May 2019',\n",
       "       '4th May 2022', '13th February 2020', 'July 2019',\n",
       "       '27th April 2022', '23rd September 2019', 'September 2016',\n",
       "       '21st July 2020', '9th October 2019', 'December 2017',\n",
       "       '13th September 2019', '4th January 2022', '8th June 2022',\n",
       "       '21st April 2021', '26th January 2022', '28th April 2022',\n",
       "       '11th June 2019', '3rd September 2021', '8th March 2021',\n",
       "       '29th March 2022', '26th March 2020', '30th November 2021',\n",
       "       '22nd February 2021', '1st April 2022', '2nd February 2023',\n",
       "       '23rd March 2023', '26th September 2019', '10th March 2021',\n",
       "       '10th September 2019', '20th September 2019', '7th January 2020',\n",
       "       '21st March 2023', '23rd June 2021', '17th March 2022',\n",
       "       '14th February 2020', 'May 2022', '28th June 2021',\n",
       "       'February 2017', '5th March 2020', '4th August 2020',\n",
       "       '14th January 2021', '10th October 2019', '25th November 2021',\n",
       "       '18th September 2019', '26th May 2021', 'September 2015',\n",
       "       '13th October 2020', '9th February 2022', 'April 2017',\n",
       "       '7th July 2020', '20th May 2020', '19th March 2021',\n",
       "       '26th March 2021', 'December 2019', '8th September 2022',\n",
       "       '23rd May 2022', '30th September 2020', 'January 2018',\n",
       "       '21st January 2021', 'March 2015', 'July 2015', 'October 2015',\n",
       "       'September 2014', '16th January 2020', '18th November 2021',\n",
       "       '24th February 2022', 'August 2015', '24th November 2020',\n",
       "       '7th May 2020', '30th October 2021', 'March 2019',\n",
       "       '23rd November 2021', '20th April 2023 (expected)',\n",
       "       '10th August 2022', '20th July 2022', '17th December 2020',\n",
       "       'January 2015', '28th September 2021', '15th September 2021',\n",
       "       '12th April 2022', 'May 2016', '8th April 2021', '24th March 2020',\n",
       "       'January 2017', 'October 2014', nan, '4th February 2020',\n",
       "       'January 2016', '12th May 2020', 'July 2017', '7th July 2022',\n",
       "       '29th November 2021', '9th November 2021', '4th March 2021',\n",
       "       '1st February 2023', '10th December 2021', '1st March 2022',\n",
       "       '19th March 2020', 'September 2021', '15th May 2023',\n",
       "       '11th August 2022', 'April 2020', '26th February 2020',\n",
       "       'June 2016', 'December 2015', '9th September 2021', 'March 2016',\n",
       "       'April 2022', '6th February 2020', '23rd March 2021',\n",
       "       '18th May 2022', 'May 2015', 'October 2016', '18th July 2022',\n",
       "       '7th September 2022', 'May 2018', '31st March 2021',\n",
       "       '16th February 2022', '3rd July 2019', 'July 2014',\n",
       "       '28th December 2021', 'April 2016', '16th December 2021',\n",
       "       '28th June 2022', '25th April 2022', '11th May 2020', 'March 2021',\n",
       "       'July 2016', '23rd April 2021', '8th January 2021',\n",
       "       'December 2014', '15th November 2019', '7th February 2023',\n",
       "       '25th March 2021', '11th August 2021', 'April 2015',\n",
       "       '22nd July 2021', '23rd September 2020', '30th April 2020',\n",
       "       '30th March 2020', '14th April 2021', '27th April 2021',\n",
       "       '18th March 2020', '12th March 2020', 'November 2014',\n",
       "       '10th March 2023', '24th August 2020', '15th October 2019',\n",
       "       '17th August 2021', '3rd October 2022', 'December 2016',\n",
       "       '18th August 2022', '16th March 2022', '1st October 2021',\n",
       "       '18th May 2021', '2nd May 2023', '24th October 2019',\n",
       "       '26th May 2020', '24th September 2021', '6th November 2019',\n",
       "       '16th September 2019', '12th May 2021', 'April 2018',\n",
       "       '28th December 2020', 'February 2015', '1st January 2022',\n",
       "       'July 2020', '27th September 2021', '24th June 2021',\n",
       "       '3rd August 2022', 'December 2018', '20th April 2022', 'June 2014',\n",
       "       '24th July 2020', '15th May 2019', '10th June 2021',\n",
       "       '13th October 2021', '26th August 2020', '10th January 2021',\n",
       "       '21st April 2022', '22nd June 2022', '16th September 2021',\n",
       "       '9th September 2020', '10th January 2022', '15th September 2022',\n",
       "       '29th September 2021', '9th May 2023', '22nd March 2023',\n",
       "       '6th April 2020', '21st September 2020', '24th March 2021',\n",
       "       '16th November 2021', '25th February 2020', '4th February 2023',\n",
       "       '15th July 2019', '31st May 2022', '26th September 2022',\n",
       "       '25th January 2021', '6th March 2020', '21st March 2022',\n",
       "       '31st May 2021', '7th November 2022', '15th February 2021',\n",
       "       'August 2014', '3rd September 2020', '10th June 2019',\n",
       "       '3rd June 2022', '23rd August 2021', '22nd September 2021',\n",
       "       '17th March 2021', 'July 2018', '14th August 2020',\n",
       "       '11th May 2021', '9th December 2021', '1st September 2020',\n",
       "       '13th September 2021', '3rd May 2021', 'October 2020',\n",
       "       '29th May 2020', '22nd October 2022', '22nd July 2020',\n",
       "       '5th September 2019', '27th July 2020', '14th February 2022',\n",
       "       '31st August 2020', '6th July 2021', '8th October 2021',\n",
       "       '11th January 2022', '18th February 2022', '6th September 2019',\n",
       "       '12th December 2019', 'January 2020', '19th September 2019',\n",
       "       '4th April 2023', '29th July 2021', '13th April 2022',\n",
       "       '29th September 2020', '16th May 2019', '24th December 2020',\n",
       "       '17th August 2022', '6th September 2022', '12th June 2019',\n",
       "       '25th August 2020', '11th April 2023', '19th November 2019',\n",
       "       '23rd March 2020', '9th November 2020', '18th August 2021',\n",
       "       '22nd January 2021', '14th July 2021', '26th December 2019',\n",
       "       '2nd June 2020', '28th July 2020', '22nd May 2019',\n",
       "       '27th August 2020', '19th November 2020', '13th May 2019',\n",
       "       '10th December 2019', '22nd April 2021', '22nd November 2019',\n",
       "       '31st July 2020', 'November 2019', '15th April 2022',\n",
       "       '6th April 2021', '4th January 2021', '11th January 2021',\n",
       "       '20th August 2020', '23rd May 2019', '14th September 2021',\n",
       "       '2nd August 2021', '27th March 2019', '14th October 2020',\n",
       "       '5th April 2021', '11th April 2022', '24th May 2022',\n",
       "       '4th July 2022', '14th January 2022', '3rd June 2020',\n",
       "       '10th November 2021', '22nd September 2020', '27th October 2020',\n",
       "       'March 2022', '7th April 2022', '30th May 2020',\n",
       "       '8th December 2021', '2nd September 2020', '21st February 2022',\n",
       "       '4th November 2020', '3rd November 2020', '30th June 2020',\n",
       "       '8th July 2021', 'August 2021', '26th April 2021',\n",
       "       '17th February 2020', '22nd December 2020', '24th May 2024',\n",
       "       '17th June 2022', '7th June 2020', '16th February 2023',\n",
       "       '15th September 2020', '6th June 2023', '24th September 2019',\n",
       "       '27th January 2022', '20th June 2022', '25th June 2020',\n",
       "       '5th February 2021', '16th August 2019', '17th July 2019',\n",
       "       '21st July 2021 (expected)', '19th May 2020', '15th October 2020',\n",
       "       '17th April 2022', '7th March 2023', '21st January 2022',\n",
       "       '16th March 2021', '22nd October 2020', '13th February 2022',\n",
       "       '15th November 2021', '22nd August 2019', '26th November 2020',\n",
       "       '11th March 2021', '26th November 2019', 'May 2021',\n",
       "       '25th January 2022', '8th May 2020', '22nd April 2020',\n",
       "       '13th November 2019', 'November 2021', '17th August 2015',\n",
       "       '23rd April 2020', 'November 2020', '2nd April 2021',\n",
       "       '9th July 2019', '16th June 2022', 'June 2021', '9th March 2021',\n",
       "       '4th December 2020', '21st June 2019', '4th February 2021',\n",
       "       '25th February 2022', '3rd August 2020', '21st July 2021',\n",
       "       '26th January 2021', '24th June 2020', '5th November 2020',\n",
       "       '25th February 2021', 'October 2019', '19th May 2022',\n",
       "       '9th April 2020', '2nd November 2020', '26th April 2022',\n",
       "       '9th April 2021', '21st June 2021', '28th July 2021 (expected)',\n",
       "       '19th June 2020', '3rd March 2020', '31st March 2020',\n",
       "       'January 2022', '29th December 2020', '7th September 2020',\n",
       "       '2nd June 2021', '8th October 2020', '10th August 2021',\n",
       "       '26th October 2021', '27th July 2022', '19th February 2021',\n",
       "       'April 2021', '23rd July 2021', 'August 2022', '27th April 2020',\n",
       "       '30th December 2020', 'October 2021', '6th May 2022',\n",
       "       '7th May 2019', '5th July 2019', '8th June 2021',\n",
       "       '18th October 2019', '5th November 2021', '5th January 2021',\n",
       "       '21st October 2019', '17th August 2020', '5th August 2020',\n",
       "       '8th August 2019', '11th October 2021', '10th February 2022',\n",
       "       '9th August 2022', '14th November 2019', '8th July 2020',\n",
       "       '5th January 2022', '24th September 2020', '25th July 2019',\n",
       "       '25th September 2019', '2nd April 2020', '4th August 2022',\n",
       "       '22nd September 2022', '22nd September 2019', '12th October 2015',\n",
       "       'September 2020', '26th June 2019', '9th October 2020',\n",
       "       '12th January 2021', '25th May 2020', 'February 2022',\n",
       "       '29th September 2015', '30th July 2020', '19th May 2021',\n",
       "       '21st October 2020', '20th September 2022', '10th August 2015',\n",
       "       '15th December 2021', '5th October 2020', '1st December 2021',\n",
       "       '10th March 2022', '6th March 2023', '25th February 2023',\n",
       "       '14th June 2023', '1st October 2020', '12th August 2021',\n",
       "       '10th June 2020', '9th May 2020', '30th March 2021',\n",
       "       '20th October 2021', '10th December 2020', '24th July 2019',\n",
       "       '27th July 2021', '16th December 2019', '20th February 2020',\n",
       "       '9th June 2021', '23rd February 2022', '11th July 2022',\n",
       "       '28th April 2020', '28th September 2018', '24th January 2023',\n",
       "       '17th January 2021', '20th May 2021', '27th January 2021',\n",
       "       '6th May 2021', '31st March 2022', '16th October 2017',\n",
       "       '11th August 2020', '3rd March 2022 (expected)',\n",
       "       '8th February 2020', '16th March 2020', '15th December 2020',\n",
       "       '25th May 2021', '9th June 2020', '13th August 2020',\n",
       "       '19th January 2021', '14th March 2021', '17th April 2023',\n",
       "       '29th May 2023', 'August 2019', '19th October 2020',\n",
       "       '28th June 2019', '11th September 2020', '5th December 2019',\n",
       "       '11th June 2021', '15th July 2021', '14th October 2019',\n",
       "       '8th September 2020', '12th September 2022', '20th January 2021',\n",
       "       '16th January 2021', '24th June 2015', '13th April 2023',\n",
       "       '11th September 2019', '29th April 2015', '13th January 2021',\n",
       "       '17th September 2020', '5th August 2021', '27th May 2021',\n",
       "       '22nd December 2021', '25th May 2022', '5th January 2020',\n",
       "       'June 2022', '14th August 2019', '28th October 2021',\n",
       "       '25th September 2020', '27th May 2023', '31st January 2022',\n",
       "       '23rd November 2019', '14th December 2020', '10th March 2020',\n",
       "       '18th October 2021', '28th September 2020', '16th January 2022',\n",
       "       '13th April 2020', '20th April 2021', '24th April 2020',\n",
       "       'December 2021', 'February 2020', '29th May 2022',\n",
       "       '16th July 2020', '23rd March 2022', '3rd February 2022',\n",
       "       '2nd November 2019', '3rd May 2023', '16th April 2021',\n",
       "       '27th December 2022', '7th September 2021', '10th July 2019',\n",
       "       '28th July 2021', '7th January 2021', '19th August 2021',\n",
       "       '22nd June 2021', '4th November 2021', '31st July 2019',\n",
       "       '2nd July 2019', '16th January 2023', '6th November 2020',\n",
       "       '28th September 2022', '20th December 2022', '10th November 2020',\n",
       "       '21st February 2023', '27th February 2022', '23rd September 2021',\n",
       "       '10th February 2020', '22nd May 2023', '18th May 2020',\n",
       "       '28th April 2017', '29th December 2021', '24th May 2023',\n",
       "       '2nd July 2020', '11th March 2022', '14th July 2022',\n",
       "       '13th June 2023', '1st March 2023', '1st August 2021',\n",
       "       '26th August 2022', '23rd October 2020', '12th November 2019',\n",
       "       '6th April 2019', '10th July 2022', '10th May 2023',\n",
       "       '17th November 2021', '5th June 2020', '26th November 2021',\n",
       "       '26th July 2021', '3rd February 2021', '26th October 2020',\n",
       "       '11th December 2022', '23rd December 2020', '3rd April 2020',\n",
       "       '5th May 2020', '27th February 2023', '29th April 2020',\n",
       "       '4th September 2019', 'June 2020', '5th April 2021 (expected)',\n",
       "       '1st July 2021', '27th November 2015', '16th June 2020',\n",
       "       '19th November 2021', '17th September 2021', '28th July 2022',\n",
       "       '6th April 2022', '3rd December 2020', '6th October 2022',\n",
       "       '6th June 2019', '5th June 2023', '11th February 2021',\n",
       "       '24th April 2022', '21st September 2022', '19th January 2022',\n",
       "       '24th November 2022', '1st June 2022', 'June 2019',\n",
       "       '12th April 2021', '2nd February 2021', '28th August 2019',\n",
       "       '25th May 2023', '16th April 2020', '4th May 2023',\n",
       "       '10th April 2023', '29th April 2022', 'May 2020', '1st March 2020',\n",
       "       '5th November 2019', '23rd December 2021', '20th April 2020',\n",
       "       '8th June 2023', '30th May 2023', '7th February 2020',\n",
       "       '16th September 2020', 'September 2019', '30th September 2021',\n",
       "       '12th April 2023', '5th July 2022', '5th May 2021',\n",
       "       '28th March 2023', '6th February 2023', '24th May 2021',\n",
       "       '18th April 2023', '29th August 2022', '9th January 2020',\n",
       "       '24th May 2019', '29th July 2022', '23rd March 2019',\n",
       "       '18th May 2023', '6th September 2021', '16th October 2020',\n",
       "       '30th May 2019', '6th October 2020', '2nd June 2022',\n",
       "       '12th August 2019', '20th May 2022', '16th July 2021',\n",
       "       '3rd May 2022', '10th November 2021 (expected)', '4th August 2019',\n",
       "       '19th October 2019', '15th December 2022', '11th November 2022',\n",
       "       '8th November 2021', '15th June 2021', '25th August 2021',\n",
       "       '9th July 2020', '8th December 2022', 'September 2022',\n",
       "       '22nd March 2022', '2nd August 2022', '14th March 2023',\n",
       "       '21st April 2023', '23rd July 2020', '20th March 2023',\n",
       "       '6th May 2020', '17th June 2020', '21st August 2021',\n",
       "       'December 2020', '12th August 2022', '10th September 2020',\n",
       "       '24th April 2023', '20th October 2020', '19th July 2022',\n",
       "       '5th January 2023', '19th April 2023', '28th February 2020',\n",
       "       '22nd February 2023', '22nd December 2022', '16th August 2021',\n",
       "       '22nd August 2022', '14th January 2020', '23rd June 2022',\n",
       "       '14th September 2022', '21st July 2022', '28th April 2023',\n",
       "       '26th May 2022', '9th July 2022', '8th July 2022',\n",
       "       '23rd October 2019', '19th September 2022', '27th October 2021',\n",
       "       '30th July 2021', '29th April 2023', '28th November 2019',\n",
       "       '2nd March 2020', '13th March 2023', '6th February 2022',\n",
       "       '15th October 2022', '5th October 2022', '27th September 2022',\n",
       "       '31st December 2022', '19th October 2022', '1st March 2021',\n",
       "       '8th November 2019', '4th October 2022',\n",
       "       '26th August 2022 (expected)', '14th June 2019', '12th July 2022',\n",
       "       '19th December 2022', '16th December 2022', '26th September 2021',\n",
       "       '12th October 2021', '17th May 2022', '9th November 2022',\n",
       "       '23rd May 2023', '30th September 2022', '7th April 2021',\n",
       "       '7th April 2023', '9th December 2020', '20th December 2021',\n",
       "       '16th March 2023', '11th December 2019', '14th August 2022',\n",
       "       '17th October 2022', '28th November 2022', '21st August 2020',\n",
       "       '25th January 2023', '25th August 2022', '4th October 2021',\n",
       "       '31st May 2023', '3rd April 2023', '16th November 2022',\n",
       "       '20th December 2019', '1st December 2022', '26th December 2022',\n",
       "       '26th July 2019', '7th July 2021', '15th February 2022',\n",
       "       '17th September 2019', '24th February 2023', '30th June 2021',\n",
       "       '30th March 2023', '26th August 2021', '22nd July 2022',\n",
       "       '26th February 2021', '4th July 2023', '30th October 2020',\n",
       "       '28th February 2023', '24th August 2021', '29th December 2022',\n",
       "       '30th October 2019', '27th August 2019', '11th May 2022',\n",
       "       '26th April 2023', '10th October 2020',\n",
       "       '16th March 2021 (expected)', '27th March 2020', '1st June 2023',\n",
       "       '10th September 2021', '13th June 2022', '27th March 2023',\n",
       "       '14th October 2022', '29th November 2022', '16th May 2022',\n",
       "       '6th June 2023 (expected)', '21st June 2022', '9th February 2023',\n",
       "       '4th January 2023', '29th October 2020', '8th October 2022',\n",
       "       '1st September 2022', '20th October 2022', '14th June 2022',\n",
       "       '29th September 2022', '4th March 2023', '19th May 2023',\n",
       "       '9th February 2021', '9th March 2023', '20th February 2023',\n",
       "       '11th May 2023', '23rd November 2022', '20th April 2023',\n",
       "       '10th May 2022', '23rd September 2022', '15th June 2020',\n",
       "       'December 2022', '27th September 2019', '17th November 2022',\n",
       "       '15th May 2020', '9th May 2022', '30th May 2022', '6th June 2020',\n",
       "       '15th January 2021', '7th January 2023', '15th June 2022',\n",
       "       '3rd September 2019', '13th July 2021', '24th March 2023',\n",
       "       '13th July 2020', '19th August 2022', '25th March 2020',\n",
       "       '4th March 2022', '6th January 2021', 'April 2017 (expected)',\n",
       "       '14th March 2020', '5th March 2022', 'October 2022',\n",
       "       '27th August 2021', '23rd February 2023', '14th July 2020',\n",
       "       '7th June 2022', '7th May 2018', '18th September 2020',\n",
       "       '2nd December 2020', '22nd November 2022', '7th June 2021',\n",
       "       '9th June 2023', 'October 2022 (expected)', '30th July 2019',\n",
       "       '8th March 2023', '4th May 2020', '15th March 2023',\n",
       "       '3rd May 2019', '13th January 2022', '7th October 2019',\n",
       "       '18th April 2022', '1st February 2021', '16th December 2020',\n",
       "       '4th September 2020', '13th November 2020', '8th August 2022',\n",
       "       '16th May 2023', '7th December 2022', '18th June 2021',\n",
       "       '17th June 2021', '27th October 2022', '3rd May 2020',\n",
       "       '14th March 2022', '7th May 2021', '28th April 2021',\n",
       "       '13th November 2021', '30th March 2022', '8th April 2020',\n",
       "       '28th January 2022', '25th July 2020', '18th April 2020',\n",
       "       'January 2023', '9th December 2022', '21st May 2020',\n",
       "       '6th January 2020', '5th September 2022',\n",
       "       '9th February 2023 (expected)', '9th January 2023',\n",
       "       '26th July 2022', '8th February 2022', '21st November 2022',\n",
       "       '13th October 2022', '24th October 2022', '3rd January 2023',\n",
       "       '17th May 2023', '14th December 2022', '18th December 2019',\n",
       "       '13th August 2022', '12th January 2023', '6th April 2023',\n",
       "       '24th March 2022', '17th May 2019', '1st June 2020',\n",
       "       '22nd February 2022', 'March 2023 (expected)', '11th October 2022',\n",
       "       'November 2022', '2nd November 2022', '25th November 2022',\n",
       "       '30th September 2019', '4th November 2022', '16th October 2022',\n",
       "       '12th March 2022'], dtype=object)"
      ]
     },
     "execution_count": 34,
     "metadata": {},
     "output_type": "execute_result"
    }
   ],
   "source": [
    "df['Release date'].unique()"
   ]
  },
  {
   "cell_type": "code",
   "execution_count": 35,
   "id": "b6b3124b",
   "metadata": {},
   "outputs": [
    {
     "data": {
      "text/plain": [
       "Release date\n",
       "August 2017          129\n",
       "September 2017       124\n",
       "September 2016       123\n",
       "August 2018          118\n",
       "August 2015          118\n",
       "                    ... \n",
       "6th May 2022           1\n",
       "14th January 2020      1\n",
       "27th April 2020        1\n",
       "21st July 2022         1\n",
       "12th March 2022        1\n",
       "Name: count, Length: 888, dtype: int64"
      ]
     },
     "execution_count": 35,
     "metadata": {},
     "output_type": "execute_result"
    }
   ],
   "source": [
    "df['Release date'].value_counts()"
   ]
  },
  {
   "cell_type": "code",
   "execution_count": 36,
   "id": "5b27f6c3",
   "metadata": {},
   "outputs": [
    {
     "data": {
      "text/plain": [
       "99"
      ]
     },
     "execution_count": 36,
     "metadata": {},
     "output_type": "execute_result"
    }
   ],
   "source": [
    "df['Release date'].isna().sum()"
   ]
  },
  {
   "cell_type": "code",
   "execution_count": 37,
   "id": "af8abab7",
   "metadata": {},
   "outputs": [],
   "source": [
    "import re"
   ]
  },
  {
   "cell_type": "code",
   "execution_count": 38,
   "id": "ef2852b0",
   "metadata": {},
   "outputs": [],
   "source": [
    "date=[]\n",
    "for x in df['Release date']:\n",
    "    ind=re.findall('[0-9][0-9][0-9][0-9]',str(x))\n",
    "    try:\n",
    "        date.append(int(ind[0]))\n",
    "    except:\n",
    "        date.append(np.nan)\n",
    "year=date"
   ]
  },
  {
   "cell_type": "code",
   "execution_count": 39,
   "id": "946d5e5d",
   "metadata": {},
   "outputs": [
    {
     "name": "stdout",
     "output_type": "stream",
     "text": [
      "8789\n",
      "99\n"
     ]
    }
   ],
   "source": [
    "print(len(year))\n",
    "print(year.count(np.nan))"
   ]
  },
  {
   "cell_type": "code",
   "execution_count": 40,
   "id": "60962c4d",
   "metadata": {},
   "outputs": [
    {
     "data": {
      "text/plain": [
       "list"
      ]
     },
     "execution_count": 40,
     "metadata": {},
     "output_type": "execute_result"
    }
   ],
   "source": [
    "type(year)"
   ]
  },
  {
   "cell_type": "markdown",
   "id": "b459421d",
   "metadata": {},
   "source": [
    "# screen size"
   ]
  },
  {
   "cell_type": "code",
   "execution_count": 41,
   "id": "b40fdc3c",
   "metadata": {},
   "outputs": [
    {
     "data": {
      "text/plain": [
       "list"
      ]
     },
     "execution_count": 41,
     "metadata": {},
     "output_type": "execute_result"
    }
   ],
   "source": [
    "sc=list(df['Screen size (inches)'])\n",
    "type(sc)"
   ]
  },
  {
   "cell_type": "code",
   "execution_count": 42,
   "id": "6f7795a8",
   "metadata": {},
   "outputs": [
    {
     "data": {
      "text/plain": [
       "array([ 6.41,  6.5 ,  5.99,  5.84,  5.45,  6.3 ,  4.7 ,  5.5 ,  6.67,\n",
       "        6.4 ,  6.53,  6.39,  5.8 ,   nan,  5.7 ,  6.7 ,  5.2 ,  6.6 ,\n",
       "        6.  ,  6.01,  6.18,  5.  ,  5.93,  5.9 ,  6.9 ,  5.15,  6.8 ,\n",
       "        6.78,  6.44,  6.55,  6.59,  6.22,  5.65,  6.23,  6.2 ,  6.58,\n",
       "        6.1 ,  6.52,  6.38,  6.81,  6.43,  5.4 ,  5.86,  6.56,  6.47,\n",
       "        5.3 ,  6.72,  6.26,  4.5 ,  6.28,  6.73,  6.76,  6.51,  4.  ,\n",
       "        5.25,  4.3 ,  6.62,  4.2 ,  5.1 ,  6.19,  7.  ,  3.5 ,  5.6 ,\n",
       "        5.98,  6.74,  7.2 ,  6.82,  5.71,  4.93,  6.98,  6.15,  6.95,\n",
       "        6.09,  2.45,  7.92,  6.08,  6.57,  6.35,  4.8 ,  5.43,  7.1 ,\n",
       "        6.65,  6.92,  6.34,  2.4 ,  6.21,  6.63,  5.73,  6.85,  1.77,\n",
       "        2.8 ,  3.9 ,  4.6 ,  5.96,  4.95,  5.46,  6.42,  3.1 ,  3.97,\n",
       "        3.8 ,  5.09,  6.71,  1.8 ,  1.7 ,  6.49,  7.09,  5.81,  1.45,\n",
       "        6.33,  6.36,  6.64,  7.12,  4.55,  3.2 ,  5.97,  1.  ,  5.34,\n",
       "        2.  ,  7.9 ,  5.72,  5.67,  1.4 ,  8.  ,  5.85,  6.06,  3.  ,\n",
       "        5.83,  4.99,  6.68, 10.  ,  6.89,  5.47,  6.66,  5.88,  7.8 ,\n",
       "        4.97,  1.44,  5.95,  7.85,  6.75,  6.45])"
      ]
     },
     "execution_count": 42,
     "metadata": {},
     "output_type": "execute_result"
    }
   ],
   "source": [
    "df['Screen size (inches)'].unique()"
   ]
  },
  {
   "cell_type": "code",
   "execution_count": 43,
   "id": "2cde67d1",
   "metadata": {},
   "outputs": [
    {
     "data": {
      "text/plain": [
       "Screen size (inches)\n",
       "5.00    1237\n",
       "5.50     871\n",
       "6.50     604\n",
       "6.67     351\n",
       "6.60     332\n",
       "        ... \n",
       "5.81       1\n",
       "7.10       1\n",
       "5.73       1\n",
       "5.09       1\n",
       "6.45       1\n",
       "Name: count, Length: 140, dtype: int64"
      ]
     },
     "execution_count": 43,
     "metadata": {},
     "output_type": "execute_result"
    }
   ],
   "source": [
    "df['Screen size (inches)'].value_counts()"
   ]
  },
  {
   "cell_type": "code",
   "execution_count": 44,
   "id": "936248a4",
   "metadata": {},
   "outputs": [
    {
     "data": {
      "text/plain": [
       "104"
      ]
     },
     "execution_count": 44,
     "metadata": {},
     "output_type": "execute_result"
    }
   ],
   "source": [
    "df['Screen size (inches)'].isna().sum()"
   ]
  },
  {
   "cell_type": "markdown",
   "id": "3f3484e9",
   "metadata": {},
   "source": [
    "# os"
   ]
  },
  {
   "cell_type": "code",
   "execution_count": 45,
   "id": "11066d15",
   "metadata": {},
   "outputs": [
    {
     "data": {
      "text/plain": [
       "0       Android 8.1\n",
       "1       Android 8.1\n",
       "2       Android 8.1\n",
       "3        Android 10\n",
       "4        Android 10\n",
       "           ...     \n",
       "8784     Android 13\n",
       "8785            NaN\n",
       "8786        Android\n",
       "8787            NaN\n",
       "8788            NaN\n",
       "Name: Operating system, Length: 8789, dtype: object"
      ]
     },
     "execution_count": 45,
     "metadata": {},
     "output_type": "execute_result"
    }
   ],
   "source": [
    "df['Operating system']"
   ]
  },
  {
   "cell_type": "code",
   "execution_count": 46,
   "id": "36eecfc0",
   "metadata": {},
   "outputs": [
    {
     "data": {
      "text/plain": [
       "Operating system\n",
       "Android 11                 1061\n",
       "Android 10                  835\n",
       "Android 12                  721\n",
       "Android 6.0                 636\n",
       "Android 5.1                 524\n",
       "                           ... \n",
       "Android 4.4.3                 1\n",
       "Android 13 (Go edition)       1\n",
       "Android 4.0                   1\n",
       "Android 4.0.3                 1\n",
       "Android HiOS                  1\n",
       "Name: count, Length: 135, dtype: int64"
      ]
     },
     "execution_count": 46,
     "metadata": {},
     "output_type": "execute_result"
    }
   ],
   "source": [
    "df['Operating system'].value_counts()"
   ]
  },
  {
   "cell_type": "code",
   "execution_count": 47,
   "id": "dd293aea",
   "metadata": {},
   "outputs": [
    {
     "name": "stdout",
     "output_type": "stream",
     "text": [
      "['Android 8.1' 'Android 10' 'Android 7.1.1' 'Android 8.1 Oreo'\n",
      " 'Android 9 Pie' 'iOS 13' 'Android 6.0.1' 'Android 11' 'Android 12'\n",
      " 'Android 7.0' 'Android 9.0' 'Android 8.0' 'Android Pie' 'Android 6.0'\n",
      " 'Android 7.1.2' 'Android 5.1' 'Android 7.1' 'Android 9.0 Pie'\n",
      " 'Android Android 9.0 Pie' 'Android 5.0' 'Android' 'HarmonyOS 3.1'\n",
      " 'iOS 15' 'iOS 11' 'Android 9' 'Android 13' 'iOS 12' 'iOS 14'\n",
      " 'Android 5.1.1' 'Android 4.4' 'Android 12L' 'Android 4.4.4'\n",
      " 'Android 5.0.2' 'Android 4.4.2' 'Cyanogen OS 12.1' 'Cyanogen OS 12'\n",
      " 'Android Oreo' 'iOS 16' 'Android 4.2.2' 'Windows 10 Mobile'\n",
      " 'Cyanogen OS 11' 'Windows 8.1' 'Android 4.3' 'Nokia X platform'\n",
      " 'Android 8.0 Oreo' 'Windows Phone 8.1' 'iOS 8.0'\n",
      " 'Android 10 (Go Edition)' 'Android 11 (Go edition)' 'Android 4.2' 'iOS 9'\n",
      " 'Tizen 2.4' 'Android Android 9 Pie' 'Proprietary' 'HarmonyOS' 'Android 6'\n",
      " 'Android 4.4.1' 'Flyme 4' 'Tizen 3.0' 'iOS 10' 'Nokia X platform 1.1'\n",
      " 'Android 4.1' 'Android 10 (Go edition)' 'Android 11 (Go Edition)'\n",
      " 'Android MIUI 8' 'Android 11 Go Edition' 'Flyme 4.5' 'Tizen'\n",
      " 'Ubuntu Touch' 'OxygenOS 2.0' 'HarmonyOS 2' 'Android Android 6.0'\n",
      " 'BlackBerry OS 10.3' 'Android Android 10' 'Android 4.0' 'Android 4.4.3'\n",
      " 'Series 30' 'Tizen 2.3' 'Firefox OS' 'Android 8.0.0'\n",
      " 'BlackBerry OS 10.3.1' 'Series 30+' 'Android 8.2 Oreo' nan 'Android 2.3'\n",
      " 'Android Android 13' 'Android Go Edition' 'Android 8.1 Oreo (Go edition)'\n",
      " 'Android 13 Go Edition' 'Sailfish 2.0' 'BlackBerry OS 10' 'HarmonyOS 2.0'\n",
      " 'Series 30 Plus' 'Firefox OS 1.4' 'HarmonyOS 3' 'Android 5'\n",
      " 'Android 4.0.3' 'Android 10 Go edition' 'Android 8'\n",
      " 'Android 7.1.2 Nougat' 'Feature OS' 'Windows 10' 'Firefox OS 2.0'\n",
      " 'Windows Phone 8.1.1' 'Android 12 (Go edition)' 'iOS 9.3' 'KAI OS'\n",
      " 'Ubuntu OS' 'Fire OS 3.5.0' 'Silent OS 1.1' 'Flyme 5'\n",
      " 'HarmonyOS HarmonyOS 2' 'Android Android 12' 'Android 13 (Go edition)'\n",
      " 'Android Oreo 8.1 (Go Edition)' 'Android 9 Pie (Go Edition)'\n",
      " 'Android 9.0 Pie (Go edition)' 'Android 12 Go Edition' 'Android v11'\n",
      " 'Granite OS' 'Android 7' 'Android Oreo (Go edition)'\n",
      " 'Android Pie (Go Edition)' 'Android Android 8.1'\n",
      " 'Android 12 (Go Edition)' 'Android 7.0 Nougat'\n",
      " 'Android 8.0 (Android One)' 'Android 7.1 Nougat' 'Android Nougat'\n",
      " 'Android 12 Go edition' 'Android 8.1 (Go Edition)'\n",
      " 'Android 11 Go edition' 'Symbian S30+' 'Android 8.1 Go Edition'\n",
      " 'Android 9 pIE' 'Android HiOS']\n"
     ]
    },
    {
     "data": {
      "text/plain": [
       "113"
      ]
     },
     "execution_count": 47,
     "metadata": {},
     "output_type": "execute_result"
    }
   ],
   "source": [
    "print(df['Operating system'].unique())\n",
    "df['Operating system'].isna().sum()"
   ]
  },
  {
   "cell_type": "code",
   "execution_count": 48,
   "id": "74441f02",
   "metadata": {},
   "outputs": [
    {
     "name": "stdout",
     "output_type": "stream",
     "text": [
      "8789\n",
      "113\n"
     ]
    }
   ],
   "source": [
    "os=[]\n",
    "for x in df['Operating system']:\n",
    "    li=str(x).split()\n",
    "    if len(li)>0 and li[0]!='nan':\n",
    "        os.append(li[0])\n",
    "    else:\n",
    "        os.append(np.nan)\n",
    "print(len(os))\n",
    "print(os.count(np.nan))"
   ]
  },
  {
   "cell_type": "markdown",
   "id": "28e516f3",
   "metadata": {},
   "source": [
    "# Internal storage"
   ]
  },
  {
   "cell_type": "code",
   "execution_count": 49,
   "id": "b9dc08b2",
   "metadata": {},
   "outputs": [
    {
     "data": {
      "text/plain": [
       "0              64GB\n",
       "1              64GB\n",
       "2              64GB\n",
       "3       64GB, 128GB\n",
       "4       64GB, 128GB\n",
       "           ...     \n",
       "8784          128GB\n",
       "8785    64GB, 128GB\n",
       "8786            NaN\n",
       "8787            NaN\n",
       "8788          256GB\n",
       "Name: Internal storage, Length: 8789, dtype: object"
      ]
     },
     "execution_count": 49,
     "metadata": {},
     "output_type": "execute_result"
    }
   ],
   "source": [
    "df['Internal storage']"
   ]
  },
  {
   "cell_type": "code",
   "execution_count": 50,
   "id": "3d933b92",
   "metadata": {},
   "outputs": [
    {
     "data": {
      "text/plain": [
       "Internal storage\n",
       "32GB                        1411\n",
       "16GB                        1397\n",
       "64GB                        1383\n",
       "128GB                       1265\n",
       "8GB                          975\n",
       "128GB, 256GB                 540\n",
       "64GB, 128GB                  492\n",
       "4GB                          340\n",
       "256GB                        320\n",
       "32GB, 64GB                   130\n",
       "128GB, 256GB, 512GB           67\n",
       "512MB                         66\n",
       "512GB                         47\n",
       "128GB, 256GB, 512GB, 1TB      46\n",
       "64GB, 128GB, 256GB            34\n",
       "256GB, 512GB                  32\n",
       "2GB                           19\n",
       "32MB                          12\n",
       "256GB, 512GB, 1TB             11\n",
       "4MB                           10\n",
       "128MB                          9\n",
       "16MB                           9\n",
       "32GB, 64GB, 128GB              8\n",
       "256MB                          6\n",
       "48MB                           5\n",
       "1GB                            4\n",
       "16GB, 32GB                     4\n",
       "1TB                            3\n",
       "128GB, 512GB                   2\n",
       "8MB                            2\n",
       "64MB                           2\n",
       "14MB                           1\n",
       "128GB, 128MB, 256GB            1\n",
       "46MB                           1\n",
       "104MB                          1\n",
       "24MB                           1\n",
       "256GB, 1TB                     1\n",
       "8GB, 16GB                      1\n",
       "Name: count, dtype: int64"
      ]
     },
     "execution_count": 50,
     "metadata": {},
     "output_type": "execute_result"
    }
   ],
   "source": [
    "df['Internal storage'].value_counts()"
   ]
  },
  {
   "cell_type": "code",
   "execution_count": 51,
   "id": "196333be",
   "metadata": {},
   "outputs": [
    {
     "data": {
      "text/plain": [
       "array(['64GB', '64GB, 128GB', '32GB', '64GB, 128GB, 256GB', '256GB',\n",
       "       '128GB, 256GB', '16GB', '128GB', '512GB', '256GB, 512GB', '8GB',\n",
       "       '256GB, 512GB, 1TB', '128GB, 256GB, 512GB, 1TB', '4GB',\n",
       "       '32GB, 64GB', '128GB, 256GB, 512GB', '512MB', '1GB',\n",
       "       '128GB, 128MB, 256GB', '2GB', '32GB, 64GB, 128GB', nan,\n",
       "       '16GB, 32GB', '104MB', '16MB', '256MB', '46MB', '14MB', '4MB',\n",
       "       '128GB, 512GB', '32MB', '8MB', '64MB', '128MB', '1TB', '24MB',\n",
       "       '48MB', '256GB, 1TB', '8GB, 16GB'], dtype=object)"
      ]
     },
     "execution_count": 51,
     "metadata": {},
     "output_type": "execute_result"
    }
   ],
   "source": [
    "df['Internal storage'].unique()"
   ]
  },
  {
   "cell_type": "code",
   "execution_count": 52,
   "id": "d2cd8983",
   "metadata": {},
   "outputs": [
    {
     "data": {
      "text/plain": [
       "131"
      ]
     },
     "execution_count": 52,
     "metadata": {},
     "output_type": "execute_result"
    }
   ],
   "source": [
    "df['Internal storage'].isna().sum()"
   ]
  },
  {
   "cell_type": "code",
   "execution_count": 53,
   "id": "3491235f",
   "metadata": {},
   "outputs": [
    {
     "name": "stdout",
     "output_type": "stream",
     "text": [
      "8789\n"
     ]
    }
   ],
   "source": [
    "insto=[str(x).split(',') for x in df['Internal storage']]\n",
    "print(len(insto))"
   ]
  },
  {
   "cell_type": "code",
   "execution_count": 54,
   "id": "0cc20fa2",
   "metadata": {},
   "outputs": [
    {
     "name": "stdout",
     "output_type": "stream",
     "text": [
      "8789\n"
     ]
    }
   ],
   "source": [
    "insto1=[]\n",
    "for sto in insto:\n",
    "    ra=[]\n",
    "    for i in sto:\n",
    "        if 'MB' in i:\n",
    "            ind=i.index('M')\n",
    "            ra.append(int(i[:ind])/1024)\n",
    "        elif 'GB' in i:\n",
    "            ind=i.index('G')\n",
    "            ra.append(int(i[:ind]))\n",
    "        elif 'TB' in i:\n",
    "            ind=i.index('T')\n",
    "            ra.append(int(i[:ind])*1024)\n",
    "    insto1.append(ra)\n",
    "print(len(insto1))"
   ]
  },
  {
   "cell_type": "code",
   "execution_count": 55,
   "id": "a3ac4b59",
   "metadata": {},
   "outputs": [
    {
     "name": "stdout",
     "output_type": "stream",
     "text": [
      "8789\n",
      "131\n"
     ]
    }
   ],
   "source": [
    "ins=[max(li) if len(li)>0 else np.nan for li in insto1]\n",
    "print(len(ins))\n",
    "print(ins.count(np.nan))"
   ]
  },
  {
   "cell_type": "markdown",
   "id": "80f01bd4",
   "metadata": {},
   "source": [
    "# Wi-Fi"
   ]
  },
  {
   "cell_type": "code",
   "execution_count": 56,
   "id": "bfb07291",
   "metadata": {},
   "outputs": [
    {
     "data": {
      "text/plain": [
       "list"
      ]
     },
     "execution_count": 56,
     "metadata": {},
     "output_type": "execute_result"
    }
   ],
   "source": [
    "wifi=list(df['Wi-Fi'])\n",
    "type(wifi)"
   ]
  },
  {
   "cell_type": "code",
   "execution_count": 57,
   "id": "f5d65b11",
   "metadata": {},
   "outputs": [
    {
     "data": {
      "text/plain": [
       "array(['Yes', 'No', nan], dtype=object)"
      ]
     },
     "execution_count": 57,
     "metadata": {},
     "output_type": "execute_result"
    }
   ],
   "source": [
    "df['Wi-Fi'].unique()"
   ]
  },
  {
   "cell_type": "code",
   "execution_count": 58,
   "id": "d855b011",
   "metadata": {},
   "outputs": [
    {
     "data": {
      "text/plain": [
       "Wi-Fi\n",
       "Yes    8552\n",
       "No       86\n",
       "Name: count, dtype: int64"
      ]
     },
     "execution_count": 58,
     "metadata": {},
     "output_type": "execute_result"
    }
   ],
   "source": [
    "df['Wi-Fi'].value_counts()"
   ]
  },
  {
   "cell_type": "markdown",
   "id": "b74fc13e",
   "metadata": {},
   "source": [
    "# Bluetooth"
   ]
  },
  {
   "cell_type": "code",
   "execution_count": 59,
   "id": "928bfba3",
   "metadata": {},
   "outputs": [
    {
     "data": {
      "text/plain": [
       "0       Yes, v 5.00\n",
       "1       Yes, v 5.00\n",
       "2       Yes, v 5.00\n",
       "3       Yes, v 5.10\n",
       "4       Yes, v 5.10\n",
       "           ...     \n",
       "8784            NaN\n",
       "8785            NaN\n",
       "8786            Yes\n",
       "8787            NaN\n",
       "8788            NaN\n",
       "Name: Bluetooth, Length: 8789, dtype: object"
      ]
     },
     "execution_count": 59,
     "metadata": {},
     "output_type": "execute_result"
    }
   ],
   "source": [
    "df['Bluetooth']"
   ]
  },
  {
   "cell_type": "code",
   "execution_count": 60,
   "id": "ed0b9ae5",
   "metadata": {},
   "outputs": [
    {
     "data": {
      "text/plain": [
       "array(['Yes, v 5.00', 'Yes, v 5.10', 'Yes, v 4.20', 'Yes, v 4.00',\n",
       "       'Yes, v 5.20', 'Yes, v 4.10', 'Yes', 'Yes, v 5.30', 'Yes, v 2.00',\n",
       "       'No, v 4.20', 'No, v 4.00', 'Yes, v 2.10', 'No', nan,\n",
       "       'Yes, v 3.00', 'No, v 2.10', 'No, v 4.10', '4.20', '5.00',\n",
       "       'No, v 3.00', '4.00', '5.20'], dtype=object)"
      ]
     },
     "execution_count": 60,
     "metadata": {},
     "output_type": "execute_result"
    }
   ],
   "source": [
    "df['Bluetooth'].unique()"
   ]
  },
  {
   "cell_type": "code",
   "execution_count": 61,
   "id": "3d6b6831",
   "metadata": {
    "scrolled": true
   },
   "outputs": [
    {
     "data": {
      "text/plain": [
       "Bluetooth\n",
       "Yes            2570\n",
       "Yes, v 5.00    1996\n",
       "Yes, v 4.20    1019\n",
       "Yes, v 4.00     978\n",
       "Yes, v 5.10     659\n",
       "Yes, v 4.10     557\n",
       "Yes, v 5.20     529\n",
       "Yes, v 5.30     163\n",
       "No               36\n",
       "Yes, v 2.10      32\n",
       "Yes, v 3.00      32\n",
       "No, v 4.00       13\n",
       "5.00             10\n",
       "Yes, v 2.00       7\n",
       "4.20              5\n",
       "No, v 4.20        4\n",
       "No, v 2.10        4\n",
       "No, v 4.10        1\n",
       "No, v 3.00        1\n",
       "4.00              1\n",
       "5.20              1\n",
       "Name: count, dtype: int64"
      ]
     },
     "execution_count": 61,
     "metadata": {},
     "output_type": "execute_result"
    }
   ],
   "source": [
    "df['Bluetooth'].value_counts()"
   ]
  },
  {
   "cell_type": "code",
   "execution_count": 62,
   "id": "cab8bf9f",
   "metadata": {},
   "outputs": [
    {
     "data": {
      "text/plain": [
       "171"
      ]
     },
     "execution_count": 62,
     "metadata": {},
     "output_type": "execute_result"
    }
   ],
   "source": [
    "df['Bluetooth'].isna().sum()"
   ]
  },
  {
   "cell_type": "code",
   "execution_count": 63,
   "id": "3e02f819",
   "metadata": {},
   "outputs": [
    {
     "name": "stdout",
     "output_type": "stream",
     "text": [
      "8789\n",
      "188\n"
     ]
    }
   ],
   "source": [
    "blu=[]\n",
    "for bt in df['Bluetooth']:\n",
    "    if 'Yes' in str(bt):\n",
    "        blu.append('Yes')\n",
    "    elif 'No' in str(bt):\n",
    "        blu.append('No')\n",
    "    else:\n",
    "        blu.append(np.nan)\n",
    "print(len(blu))\n",
    "print(blu.count(np.nan))"
   ]
  },
  {
   "cell_type": "markdown",
   "id": "3f504f0e",
   "metadata": {},
   "source": [
    "# Battery"
   ]
  },
  {
   "cell_type": "code",
   "execution_count": 64,
   "id": "e8e4e051",
   "metadata": {},
   "outputs": [
    {
     "data": {
      "text/plain": [
       "0       3400\n",
       "1       3400\n",
       "2       3400\n",
       "3       5000\n",
       "4       5000\n",
       "        ... \n",
       "8784     NaN\n",
       "8785     NaN\n",
       "8786     NaN\n",
       "8787    5000\n",
       "8788     NaN\n",
       "Name: Battery capacity (mAh), Length: 8789, dtype: object"
      ]
     },
     "execution_count": 64,
     "metadata": {},
     "output_type": "execute_result"
    }
   ],
   "source": [
    "df['Battery capacity (mAh)']"
   ]
  },
  {
   "cell_type": "code",
   "execution_count": 65,
   "id": "193259b9",
   "metadata": {},
   "outputs": [
    {
     "data": {
      "text/plain": [
       "array(['3400', '5000', '4000', '3000', '3500', '4045', nan, '4614',\n",
       "       '3080', '3300', '5160', '4500', '4200', '4300', '3200', '5003',\n",
       "       '4050', '4035', '2900', '3100', '3340', '4100', '3320', '4510',\n",
       "       '4700', '4780', '3075', '4115', '3700', '4020', '6000', '4310',\n",
       "       '3600', '4380', '4800', '3800', '3110', '1821', '3050', '4600',\n",
       "       '4230', '2942', '2730', '5020', '4085', '3350', '3060', '4610',\n",
       "       '2600', '4850', '3120', '4630', '4400', '5080', '2300', '2650',\n",
       "       '5050', '3225', '2230', '2800', '3046', '2500', '2525', '3150',\n",
       "       '2400', '3020', '4900', '4080', '2420', '4250', '2000', '4820',\n",
       "       '3510', '2915', '3430', '2200', '3930', '4520', '2680', '6020',\n",
       "       '1800', '2320', '2550', '2750', '2700', '5300', '1905', '2250',\n",
       "       '2630', '3885', '3130', '2070', '3055', '2620', '4550', '3969',\n",
       "       '2470', '5100', '2100', '3630', '3900', '3260', '1400', '2850',\n",
       "       '4350', '2720', '2125', '3650', '2010', '1950', '3090', '2950',\n",
       "       '5200', '1900', '4440', '5010', '3765', '4730', '2220', '7000',\n",
       "       '1859', '4010', '1750', '2450', '1700', '1500', '2840', '2350',\n",
       "       '2330', '4065', '4165', '2110', '2580', '1600', '1810', '1300',\n",
       "       '4070', '2150', '1715', '4450', '3070', '1850', '3230', '2920',\n",
       "       '4360', '1980', '3410', '1450', '2260', '4025', '1730', '1650',\n",
       "       '3750', '1920', '3040', '3095', '3760', '1540', '4470', '2390',\n",
       "       '5260', '4015', '3205', '1560', '2820', '2910', '4235', '5500',\n",
       "       '3505', '6150', '3450', '950', '3550', '1050', '2716', '3140',\n",
       "       '3250', '1960', '4030', '2930', '2050', '4060', '1550', '3905',\n",
       "       '2510', '4315', '2540', '1100', '3580', '2610', '1430', '2960',\n",
       "       '4120', '1200', '4140', '3045', '1820', '2040', '2860', '2705',\n",
       "       '3330', '5065', '4160', '3850', '1020', '4460', '3180', '2530',\n",
       "       '1250', '3030', '3520', '3380', '10000', '800', '3220', '5450mAh',\n",
       "       '1350', '2020', '1660', '2460', '3610', '4040', '4720', '2515',\n",
       "       '1860', '2780', '3245', '4729', '2770', '3010', '2670', '3315',\n",
       "       '3920', '4220', '4950', '3160', '3730', '3360', '2210', '2870',\n",
       "       '2370', '4320', '2691', '1630', '750', '1110', '5330', '2410',\n",
       "       '2520', '4385', '2810', '3540', '2970', '1000', '1830', '1780',\n",
       "       '1325', '1940', '850', '2560', '4130', '4570', '4410', '4680',\n",
       "       '1725', '2660', '4500 mAh', '3640', '3990', '4815', '4750', '3820',\n",
       "       '4821', '4449', '4260', '4880', '12000', '900', '4830', '4860',\n",
       "       '3950', '4980', '5800', '5180', '15600', '1150', '2990', '4970',\n",
       "       '3940', '5150', '650', '3210', '3285', '2760', '1480', '21000',\n",
       "       '2956', '16000', '4420', '4650', '3280', '2880', '500', '2280',\n",
       "       '1470', '4270'], dtype=object)"
      ]
     },
     "execution_count": 65,
     "metadata": {},
     "output_type": "execute_result"
    }
   ],
   "source": [
    "df['Battery capacity (mAh)'].unique()"
   ]
  },
  {
   "cell_type": "code",
   "execution_count": 66,
   "id": "cc95232f",
   "metadata": {},
   "outputs": [
    {
     "data": {
      "text/plain": [
       "Battery capacity (mAh)\n",
       "5000    1751\n",
       "4000     813\n",
       "3000     738\n",
       "4500     434\n",
       "2000     319\n",
       "        ... \n",
       "5330       1\n",
       "750        1\n",
       "1630       1\n",
       "4320       1\n",
       "4270       1\n",
       "Name: count, Length: 305, dtype: int64"
      ]
     },
     "execution_count": 66,
     "metadata": {},
     "output_type": "execute_result"
    }
   ],
   "source": [
    "df['Battery capacity (mAh)'].value_counts()"
   ]
  },
  {
   "cell_type": "code",
   "execution_count": 67,
   "id": "e00b9b64",
   "metadata": {},
   "outputs": [
    {
     "data": {
      "text/plain": [
       "261"
      ]
     },
     "execution_count": 67,
     "metadata": {},
     "output_type": "execute_result"
    }
   ],
   "source": [
    "df['Battery capacity (mAh)'].isna().sum()"
   ]
  },
  {
   "cell_type": "code",
   "execution_count": 68,
   "id": "8115e0c3",
   "metadata": {},
   "outputs": [
    {
     "name": "stdout",
     "output_type": "stream",
     "text": [
      "8789\n",
      "264\n"
     ]
    }
   ],
   "source": [
    "battery=[]\n",
    "for bat in df['Battery capacity (mAh)']:\n",
    "    try:\n",
    "        battery.append(int(bat))\n",
    "    except ValueError:\n",
    "        battery.append(np.nan)\n",
    "print(len(battery))\n",
    "print(battery.count(np.nan))"
   ]
  },
  {
   "cell_type": "markdown",
   "id": "53213ce5",
   "metadata": {},
   "source": [
    "# RAM"
   ]
  },
  {
   "cell_type": "code",
   "execution_count": 69,
   "id": "34d72908",
   "metadata": {},
   "outputs": [
    {
     "data": {
      "text/plain": [
       "0            6GB\n",
       "1            6GB\n",
       "2            6GB\n",
       "3       6GB, 8GB\n",
       "4       6GB, 8GB\n",
       "          ...   \n",
       "8784         8GB\n",
       "8785         4GB\n",
       "8786         NaN\n",
       "8787         NaN\n",
       "8788        12GB\n",
       "Name: RAM, Length: 8789, dtype: object"
      ]
     },
     "execution_count": 69,
     "metadata": {},
     "output_type": "execute_result"
    }
   ],
   "source": [
    "df['RAM']"
   ]
  },
  {
   "cell_type": "code",
   "execution_count": 70,
   "id": "78f1c620",
   "metadata": {},
   "outputs": [
    {
     "data": {
      "text/plain": [
       "array(['6GB', '6GB, 8GB', '4GB', '3GB', nan, '8GB', '2GB', '12GB',\n",
       "       '8GB, 12GB', '4GB, 6GB', '1.5GB', '6GB, 8GB, 12GB',\n",
       "       '4GB, 6GB, 8GB', '8GB, 12GB, 16GB', '18GB', '10GB', '1GB', '16GB',\n",
       "       '3GB, 4GB', '8GB, 16GB', '4GB, 8GB', '512MB', '12GB, 16GB',\n",
       "       '6GB, 8GB, 8MB', '768MB', '2GB, 3GB, 4GB', '256MB', '2GB, 4GB',\n",
       "       '2GB, 3GB', '3GB, 4GB, 6GB', '1GB, 2GB', '2GB, 3GB, 4GB, 6GB',\n",
       "       '8GB, 12GB, 16GB, 18GB', '128MB', '4MB', '3MB', '8MB', '32MB',\n",
       "       '12GB, 16GB, 18GB', '64MB', '8GB, 12GB, 18GB', '16MB', '48MB'],\n",
       "      dtype=object)"
      ]
     },
     "execution_count": 70,
     "metadata": {},
     "output_type": "execute_result"
    }
   ],
   "source": [
    "df['RAM'].unique()"
   ]
  },
  {
   "cell_type": "code",
   "execution_count": 71,
   "id": "65e8844f",
   "metadata": {},
   "outputs": [
    {
     "data": {
      "text/plain": [
       "RAM\n",
       "2GB                      1373\n",
       "4GB                      1370\n",
       "3GB                      1188\n",
       "1GB                      1142\n",
       "8GB                       722\n",
       "6GB                       650\n",
       "6GB, 8GB                  405\n",
       "4GB, 6GB                  310\n",
       "512MB                     287\n",
       "8GB, 12GB                 261\n",
       "12GB                      177\n",
       "4GB, 6GB, 8GB             113\n",
       "256MB                      90\n",
       "3GB, 4GB                   77\n",
       "1.5GB                      59\n",
       "6GB, 8GB, 12GB             46\n",
       "2GB, 3GB                   40\n",
       "2GB, 4GB                   31\n",
       "16GB                       21\n",
       "4GB, 8GB                   18\n",
       "2GB, 3GB, 4GB              16\n",
       "8GB, 16GB                  13\n",
       "4MB                        13\n",
       "8GB, 12GB, 16GB            13\n",
       "32MB                       11\n",
       "128MB                      10\n",
       "768MB                      10\n",
       "12GB, 16GB                  7\n",
       "3GB, 4GB, 6GB               6\n",
       "1GB, 2GB                    5\n",
       "8MB                         4\n",
       "18GB                        4\n",
       "64MB                        4\n",
       "8GB, 12GB, 18GB             4\n",
       "8GB, 12GB, 16GB, 18GB       3\n",
       "3MB                         3\n",
       "10GB                        2\n",
       "16MB                        2\n",
       "48MB                        2\n",
       "2GB, 3GB, 4GB, 6GB          1\n",
       "6GB, 8GB, 8MB               1\n",
       "12GB, 16GB, 18GB            1\n",
       "Name: count, dtype: int64"
      ]
     },
     "execution_count": 71,
     "metadata": {},
     "output_type": "execute_result"
    }
   ],
   "source": [
    "df['RAM'].value_counts()"
   ]
  },
  {
   "cell_type": "code",
   "execution_count": 72,
   "id": "32002296",
   "metadata": {},
   "outputs": [
    {
     "data": {
      "text/plain": [
       "274"
      ]
     },
     "execution_count": 72,
     "metadata": {},
     "output_type": "execute_result"
    }
   ],
   "source": [
    "df['RAM'].isna().sum()"
   ]
  },
  {
   "cell_type": "code",
   "execution_count": 73,
   "id": "c1478ac6",
   "metadata": {},
   "outputs": [
    {
     "name": "stdout",
     "output_type": "stream",
     "text": [
      "8789\n"
     ]
    }
   ],
   "source": [
    "rams=[str(x).split(',') for x in df['RAM']]\n",
    "print(len(rams))"
   ]
  },
  {
   "cell_type": "code",
   "execution_count": 74,
   "id": "9c2ebf0f",
   "metadata": {},
   "outputs": [
    {
     "name": "stdout",
     "output_type": "stream",
     "text": [
      "8789\n",
      "274\n"
     ]
    }
   ],
   "source": [
    "rams1=[]\n",
    "for ram in rams:\n",
    "    ra=[]\n",
    "    for j in ram:\n",
    "        if 'GB' in j:\n",
    "            ra.append(float(j.rstrip('GB'))*1024)\n",
    "        elif 'MB' in j:\n",
    "            ra.append(int(j.rstrip('MB')))\n",
    "    rams1.append(ra)\n",
    "RAM=[max(li) if len(li)>0 else np.nan for li in rams1]\n",
    "print(len(RAM))\n",
    "print(RAM.count(np.nan))"
   ]
  },
  {
   "cell_type": "markdown",
   "id": "9f08375c",
   "metadata": {},
   "source": [
    "# Touchscreen"
   ]
  },
  {
   "cell_type": "code",
   "execution_count": 75,
   "id": "8326b4bd",
   "metadata": {},
   "outputs": [
    {
     "data": {
      "text/plain": [
       "list"
      ]
     },
     "execution_count": 75,
     "metadata": {},
     "output_type": "execute_result"
    }
   ],
   "source": [
    "ts=list(df['Touchscreen'])\n",
    "type(ts)"
   ]
  },
  {
   "cell_type": "code",
   "execution_count": 76,
   "id": "b45f4bd9",
   "metadata": {},
   "outputs": [
    {
     "data": {
      "text/plain": [
       "array(['Yes', nan, 'No'], dtype=object)"
      ]
     },
     "execution_count": 76,
     "metadata": {},
     "output_type": "execute_result"
    }
   ],
   "source": [
    "df['Touchscreen'].unique()"
   ]
  },
  {
   "cell_type": "code",
   "execution_count": 77,
   "id": "8602ff79",
   "metadata": {},
   "outputs": [
    {
     "data": {
      "text/plain": [
       "Touchscreen\n",
       "Yes    8388\n",
       "No      121\n",
       "Name: count, dtype: int64"
      ]
     },
     "execution_count": 77,
     "metadata": {},
     "output_type": "execute_result"
    }
   ],
   "source": [
    "df['Touchscreen'].value_counts()"
   ]
  },
  {
   "cell_type": "markdown",
   "id": "79d4b6a9",
   "metadata": {},
   "source": [
    "# Form factor"
   ]
  },
  {
   "cell_type": "code",
   "execution_count": 78,
   "id": "f79d3d43",
   "metadata": {},
   "outputs": [
    {
     "data": {
      "text/plain": [
       "list"
      ]
     },
     "execution_count": 78,
     "metadata": {},
     "output_type": "execute_result"
    }
   ],
   "source": [
    "ff=list(df['Form factor'])\n",
    "type(ff)"
   ]
  },
  {
   "cell_type": "code",
   "execution_count": 79,
   "id": "7e43e52e",
   "metadata": {},
   "outputs": [
    {
     "data": {
      "text/plain": [
       "array(['Touchscreen', nan, 'Swivel', 'Foldable', 'Bar', 'QWERTY', 'Flip',\n",
       "       'Slider'], dtype=object)"
      ]
     },
     "execution_count": 79,
     "metadata": {},
     "output_type": "execute_result"
    }
   ],
   "source": [
    "df['Form factor'].unique()"
   ]
  },
  {
   "cell_type": "code",
   "execution_count": 80,
   "id": "e4c0e812",
   "metadata": {},
   "outputs": [
    {
     "data": {
      "text/plain": [
       "Form factor\n",
       "Touchscreen    8017\n",
       "Bar             117\n",
       "Foldable         42\n",
       "Flip             15\n",
       "QWERTY            5\n",
       "Swivel            3\n",
       "Slider            3\n",
       "Name: count, dtype: int64"
      ]
     },
     "execution_count": 80,
     "metadata": {},
     "output_type": "execute_result"
    }
   ],
   "source": [
    "df['Form factor'].value_counts()"
   ]
  },
  {
   "cell_type": "markdown",
   "id": "ce55d310",
   "metadata": {},
   "source": [
    "# Processor"
   ]
  },
  {
   "cell_type": "code",
   "execution_count": 81,
   "id": "0ba0f745",
   "metadata": {},
   "outputs": [
    {
     "data": {
      "text/plain": [
       "0       octa-core\n",
       "1       octa-core\n",
       "2       octa-core\n",
       "3       octa-core\n",
       "4       octa-core\n",
       "          ...    \n",
       "8784          NaN\n",
       "8785          NaN\n",
       "8786          NaN\n",
       "8787          NaN\n",
       "8788          NaN\n",
       "Name: Processor, Length: 8789, dtype: object"
      ]
     },
     "execution_count": 81,
     "metadata": {},
     "output_type": "execute_result"
    }
   ],
   "source": [
    "df['Processor']"
   ]
  },
  {
   "cell_type": "code",
   "execution_count": 82,
   "id": "b067140f",
   "metadata": {},
   "outputs": [
    {
     "data": {
      "text/plain": [
       "array(['octa-core', '1.8GHz octa-core', '2GHz octa-core (8x2GHz)',\n",
       "       '2.2GHz octa-core', nan, 'octa-core (4x1.5GHz + 4x1GHz)',\n",
       "       '2.84GHz octa-core', '2.8GHz octa-core (2x2.8GHz + 2x2.25GHz)',\n",
       "       '1.4GHz octa-core', 'octa-core (4x2.3GHz + 4x1.7GHz)',\n",
       "       '2.96GHz octa-core', 'octa-core (2x2.05GHz + 6x2GHz)',\n",
       "       '2GHz quad-core (4x2GHz)',\n",
       "       'octa-core (2x2.6GHz + 2x1.92GHz + 4x1.8GHz)',\n",
       "       'octa-core (4x2.7GHz + 4x1.7GHz)',\n",
       "       '2.2GHz octa-core (4x2.2GHz + 4x1.8GHz)', '2.5GHz octa-core',\n",
       "       '1.8GHz octa-core (4x1.8GHz + 4x2.3GHz)',\n",
       "       '2GHz octa-core (2x2.73GHz + 2x2.5GHz + 4x2GHz)',\n",
       "       'hexa-core (4x1.4GHz + 4x1.8GHz)',\n",
       "       '1.5GHz octa-core (4x2GHz + 4x1.5GHz)', '2.3GHz octa-core',\n",
       "       '1.9GHz octa-core', 'octa-core (4x2.45GHz + 4x1.9GHz)',\n",
       "       'octa-core (4x1.95GHz + 4x1.44GHz)', '1.4GHz quad-core', '2.2GHz',\n",
       "       'octa-core (4x2.36GHz + 4x1.7GHz)', '1.5GHz octa-core',\n",
       "       '1.8GHz octa-core (6x1.8GHz + 2x2.2GHz)', '2.8GHz octa-core',\n",
       "       '1.3GHz quad-core (2x1.8GHz + 2x1.36GHz)',\n",
       "       '1.9GHz octa-core (4x1.9GHz + 2x2.4GHz + 2x2.7GHz)',\n",
       "       '2GHz octa-core', 'octa-core (1x3.0 MHz + 3x2.5 MHz + 4x1.8 MHz)',\n",
       "       'octa-core (2x2.4GHz + 6x2GHz)',\n",
       "       '1.8GHz octa-core (4x1.8GHz + 3x2.42GHz + 1x2.84GHz)',\n",
       "       '1.69GHz octa-core',\n",
       "       '2.84GHz octa-core (1x2.84GHz + 3x2.4GHz + 4x1.8GHz)',\n",
       "       '1.6GHz octa-core', '2.4GHz octa-core', '2.1GHz octa-core',\n",
       "       'octa-core (4x2GHz + 4x2GHz)', '1.7GHz octa-core',\n",
       "       'octa-core (4x2.3GHz + 4x1.6GHz)', '1.3GHz quad-core',\n",
       "       '2.86GHz octa-core (2x2.86GHz + 2x2.36GHz + 4x1.95GHz)',\n",
       "       'quad-core', 'hexa-core', '1.8GHz octa-core (4x2.2GHz + 4x1.8GHz)',\n",
       "       '1.25GHz quad-core',\n",
       "       '2.2GHz octa-core (3x2.8GHz + 4x2.2GHz + 1x2.9GHz)',\n",
       "       '1.7GHz octa-core (4x1.7GHz + 4x2.3GHz)', '1.3GHz octa-core',\n",
       "       'octa-core (4x2.8GHz)', '1.8GHz octa-core (2x2.3GHz + 6x1.8GHz)',\n",
       "       'octa-core (1x3.2GHz + 3x2.4GHz + 4x1.8GHz)', '1.2GHz quad-core',\n",
       "       '2GHz octa-core (4x2GHz + 4x2.1GHz)',\n",
       "       'octa-core (2x2.84 MHz + 3x2.42 MHz + 4x1.80 MHz)',\n",
       "       '2.3GHz quad-core',\n",
       "       '1.8GHz octa-core (2x2.4GHz + 1x2.2GHz + 6x1.8GHz)',\n",
       "       '2GHz octa-core (4x2GHz + 4x2GHz)',\n",
       "       '2.6GHz octa-core (2x2.6GHz + 2x1.92GHz + 4x1.8GHz)',\n",
       "       '1.8GHz hexa-core',\n",
       "       '1.8GHz octa-core (4x1.8GHz + 1x2.84GHz + 3x2.42GHz)',\n",
       "       '1.1GHz quad-core', '2.15GHz quad-core',\n",
       "       'octa-core (4x2.2GHz + 4x1.8GHz)', '1GHz octa-core',\n",
       "       '2.05GHz octa-core', '2.1GHz',\n",
       "       '2.3GHz octa-core (4x2.3GHz + 4x1.7GHz)',\n",
       "       'octa-core (2x2GHz + 6x1.7GHz)', '1.2GHz octa-core',\n",
       "       '1GHz quad-core', 'octa-core (4x2.35GHz + 4x1.9GHz)',\n",
       "       '1.6GHz quad-core', '2.5GHz octa-core (4x2.5GHz + 4x1.6GHz)',\n",
       "       '1.21GHz octa-core', '2.8GHz octa-core (4x2.8GHz + 4x1.7GHz)',\n",
       "       '2.45GHz octa-core', '2.5GHz quad-core',\n",
       "       '1.7GHz octa-core (2x2.3GHz + 6x1.7GHz)', '2GHz hexa-core',\n",
       "       '1.5GHz quad-core', '1.95GHz octa-core',\n",
       "       '1.8GHz octa-core (6x1.8GHz + 2x2GHz)', '1.85GHz octa-core',\n",
       "       '1.4GHz deca-core', '2.2 MHz octa-core', '2.0GHz MHz',\n",
       "       '1.1GHz octa-core', 'dual-core', '1.4GHz hexa-core',\n",
       "       '1.3GHz one-core', 'octa-core (4x1.4GHz + 4x1.1GHz)', '1.6GHz',\n",
       "       '1.2GHz dual-core',\n",
       "       '1.8GHz octa-core (1x3GHz + 3x2.41GHz + 4x1.8GHz)', 'one-core',\n",
       "       '1.45GHz octa-core (4x1.95GHz + 4x1.45GHz)',\n",
       "       '1.8GHz octa-core (2x1.8GHz + 6x1.8GHz)',\n",
       "       '2.36GHz octa-core (4x2.36GHz + 4x1.7GHz)', '1.8GHz quad-core',\n",
       "       '1.2GHz one-core',\n",
       "       '1.8GHz octa-core (1x3GHz + 3x2.5GHz + 4x1.8GHz)',\n",
       "       '2.8GHz octa-core (1x2.8GHz + 3x2.4GHz + 4x1.8GHz)',\n",
       "       '2.2GHz octa-core (2x2.2GHz + 6x1.7GHz)', '1.44GHz octa-core',\n",
       "       '1GHz one-core',\n",
       "       '1.8GHz octa-core (4x2GHz + 3x2.75GHz + 1x3.2GHz)',\n",
       "       'octa-core (4x2.1GHz + 4x1.5GHz)', '1GHz dual-core',\n",
       "       '1.4GHz dual-core', '1.3GHz dual-core', '2.1GHz deca-core',\n",
       "       '2.6GHz octa-core', '1.84GHz dual-core', '2.3GHz deca-core',\n",
       "       '2GHz octa-core (2x2GHz + 6x1.7GHz)', '1.86GHz octa-core',\n",
       "       '3.2GHz octa-core', '1.8 MHz quad-core', '2GHz quad-core',\n",
       "       '1.25GHz octa-core', 'octa-core (4x2.2 MHz + 4x1.7 MHz)',\n",
       "       '1.82GHz octa-core', 'octa-core (4x2.2GHz + 4x1.7GHz)',\n",
       "       '2.2GHz one-core',\n",
       "       '1.8GHz octa-core (4x1.8GHz + 3x2.5GHz + 1x3GHz)',\n",
       "       'octa-core (4x2.4GHz + 4x1.8GHz)', '1.5GHz hexa-core',\n",
       "       '1.95GHz octa-core (2x2.86GHz + 2x2.36GHz + 4x1.95GHz)',\n",
       "       '2.96GHz octa-core (4x2.96GHz + 4x1.7GHz)', '2.39GHz hexa-core',\n",
       "       '1.5GHz octa-core (4x1.5GHz + 4x2GHz)',\n",
       "       '1.8GHz octa-core (1x2.96GHz + 3x2.42GHz + 4x1.8GHz)',\n",
       "       '1.8GHz octa-core (1x2.84GHz + 3x2.4GHz + 4x1.8GHz)',\n",
       "       '2.34GHz quad-core', '2.35GHz quad-core',\n",
       "       '1.7GHz octa-core (4x2.2GHz + 4x1.7GHz)',\n",
       "       '2GHz octa-core (4x2GHz + 4x2.6GHz)', 'deca-core',\n",
       "       '1.8GHz octa-core (2x2.2GHz + 6x1.8GHz)',\n",
       "       '1.8GHz octa-core (2x2GHz + 6x1.8GHz)',\n",
       "       '1.7GHz octa-core (4x2.3GHz + 4x1.7GHz)',\n",
       "       'octa-core (2x1.8GHz + 6x1.6GHz)',\n",
       "       'octa-core (1x3 MHz + 2x2.6 MHz + 4x2.0 MHz)',\n",
       "       '1.86GHz octa-core (2x2.86GHz + 2x2.09GHz + 4x1.86GHz)',\n",
       "       '1.8GHz one-core',\n",
       "       '1.8GHz octa-core (2x2.6GHz + 2x1.92GHz + 4x1.8GHz)',\n",
       "       '1.8GHz octa-core (1x3.2GHz + 3x2.4GHz + 4x1.8GHz)',\n",
       "       '1.6GHz octa-core (2x1.8GHz + 6x1.6GHz)',\n",
       "       '1.7GHz octa-core (4x1.7GHz + 4x2.2GHz)',\n",
       "       'octa-core (2x2.2GHz + 6x1.8GHz)', '1.2GHz hexa-core',\n",
       "       '2.36GHz octa-core (4x2.36GHz + 4x1.8GHz)',\n",
       "       '1.8GHz octa-core (4x2.3GHz + 4x1.8GHz)',\n",
       "       '2GHz octa-core (1x2.8GHz + 3x2.6GHz + 4x2GHz)',\n",
       "       '2.26GHz quad-core',\n",
       "       'octa-core (1x2.36GHz + 3x2.22GHz + 4x1.84GHz)',\n",
       "       '2.4GHz octa-core (1x2.4GHz + 1x2.2GHz + 6x1.8GHz)',\n",
       "       'octa-core (1x3.09GHz + 3x2.4GHz + 4x1.8GHz)',\n",
       "       '1.7GHz octa-core (4x2.1GHz + 4x1.7GHz)',\n",
       "       '1.88GHz octa-core (2x2.27GHz + 6x1.88GHz)',\n",
       "       '2.84GHz octa-core (1x2.84GHz + 3x2.42GHz + 4x1.8GHz)',\n",
       "       '2.7GHz octa-core (1x2.7GHz + 4x2.5GHz + 3x2GHz)',\n",
       "       '2.7GHz quad-core', '2.35GHz octa-core',\n",
       "       'octa-core (4x2.8GHz + 4x1.8GHz)', '1.6GHz hexa-core',\n",
       "       '1.5GHz dual-core', '1.44GHz hexa-core', '2.15GHz octa-core',\n",
       "       'octa-core (2x1.6Ghz MHz + 6x1.6Ghz MHz)', '1.45GHz quad-core',\n",
       "       '1.8GHz MHz octa-core', '2.2GHz octa-core (2x2.2GHz + 6x1.8GHz)',\n",
       "       '1.6GHz dual-core', '1.7GHz octa-core (2x2.2GHz + 6x1.7GHz)',\n",
       "       '1.7GHz octa-core (2x2GHz + 6x1.7GHz)', '1.3GHz',\n",
       "       '1.7GHz octa-core (6x1.7GHz + 2x2GHz)', '512 MHz one-core',\n",
       "       '2.2GHz quad-core', '2.4GHz octa-core (4x2.4GHz + 4x1.8GHz)',\n",
       "       '2.36GHz octa-core', '1.4GHz one-core',\n",
       "       '2.5GHz octa-core (4x2.8GHz + 4x1.7GHz)',\n",
       "       '2GHz octa-core (2x2.4GHz + 6x2GHz)', '1.8 MHz octa-core',\n",
       "       '3.2 MHz octa-core',\n",
       "       '2.36GHz octa-core (1x2.36GHz + 3x2.22GHz + 4x1.84GHz)',\n",
       "       '1.9GHz octa-core (4x1.9GHz + 4x2.4GHz)', '2.5GHz',\n",
       "       '1.5GHz one-core', '2.95GHz octa-core',\n",
       "       '3GHz octa-core (1x3GHz + 4x2.4GHz + 3x1.8GHz)',\n",
       "       '260 MHz one-core', '2.2Ghz MHz octa-core', '2GHz MHz',\n",
       "       '1.8GHz octa-core (4x2.42GHz + 4x1.8GHz)',\n",
       "       '2.4GHz octa-core (1x2.58GHz + 3x2.4GHz + 4x1.84GHz)',\n",
       "       'octa-core (4x2.8GHz + 4x1.7GHz)',\n",
       "       '1.7GHz octa-core (4x2.8GHz + 4x1.7GHz)', '1.28GHz quad-core',\n",
       "       '2.205GHz', 'octa-core (1x3.2GHz + 4x2.8GHz + 3x2GHz)',\n",
       "       '1.1GHz one-core', '2GHz deca-core',\n",
       "       'octa-core (2x2.27GHz + 6x1.88GHz)',\n",
       "       'octa-core (4x1.8GHz + 4x1.4GHz)', '1.14GHz octa-core',\n",
       "       '1.8GHz octa-core (2x2.04GHz + 6x1.8GHz)', '2 MHz octa-core',\n",
       "       'quad-core (4x1.8GHz)', '2.4GHz', '8 MHz',\n",
       "       '2GHz quad-core (4x2.0 MHz)', '2.7GHz octa-core',\n",
       "       '1.1GHz dual-core',\n",
       "       '2.84 MHz octa-core (1x2.84 MHz + 3x2.42 MHz + 4x1.8 MHz)',\n",
       "       '1.7GHz octa-core (2x2.2GHz + 6x1.8GHz)',\n",
       "       'octa-core (2x2.2GHz + 6x1.7GHz)', '2.3GHz',\n",
       "       'octa-core (4x2.4 MHz + 4x1.8 MHz)',\n",
       "       '2.4GHz octa-core (2x2.4GHz + 6x2GHz)',\n",
       "       '2.3GHz octa-core (4x2.3GHz + 4x1.8GHz)',\n",
       "       'octa-core (4x1.6GHz + 4x1.2GHz)',\n",
       "       '2GHz octa-core (2x2GHz + 6x1.8GHz)',\n",
       "       '1.8GHz octa-core (4x2.36GHz + 4x1.8GHz)',\n",
       "       '3.2GHz octa-core (1x3.2GHz + 3x2.75GHz + 4x2GHz)',\n",
       "       'octa-core (1x2.4GHz + 1x2.2GHz + 6x1.8GHz)', '1.6 MHz octa-core',\n",
       "       '2.2GHz octa-core (2x2.2GHz + 6x2GHz)',\n",
       "       '2.8GHz octa-core (1x2.8GHz + 3x2.4GHz + 4x1.7GHz)',\n",
       "       '2.5GHz MHz octa-core (1x2.5GHz MHz + 3x2.4GHz MHz + 4x1.8GHz MHz)',\n",
       "       '2.84 MHz octa-core', 'octa-core (2x2.2GHz + 6x1.6GHz)',\n",
       "       '1.2 MHz octa-core', '1.35GHz octa-core',\n",
       "       '2.85GHz octa-core (4x2.85GHz + 4x2GHz)', '2.4GHz MHz octa-core',\n",
       "       '2.6 MHz octa-core', '1.4GHz',\n",
       "       '2.5GHz octa-core (1x2.5GHz + 3x2.4GHz + 4x1.8GHz)',\n",
       "       '1.4 MHz quad-core',\n",
       "       '3GHz octa-core (1x3GHz + 3x2.5GHz + 4x1.8GHz)', '2.96GHz',\n",
       "       '2.4GHz quad-core', '3.0 MHz octa-core', '2 MHz quad-core',\n",
       "       '3.05GHz octa-core (1x3.05GHz + 3x2.85GHz + 4x1.08GHz)', '1.5GHz',\n",
       "       '2.75GHz octa-core (4x2.75GHz + 4x2GHz)',\n",
       "       'octa-core (2x2.2GHz + 6x2GHz)', '1.8GHz', '2GHz',\n",
       "       '2GHz octa-core (2x2GHz + 6x2GHz)',\n",
       "       '2.7GHz octa-core (1x2.7GHz + 3x2.4GHz + 4x1.8GHz)', '3.2 MHz',\n",
       "       '1.7GHz octa-core (4x2.2 MHz + 4x1.7 MHz)', '2.4 MHz octa-core',\n",
       "       '1.7GHz octa-core (4x1.7GHz + 4x2.9GHz)', '2.4 MHz', '2.0 MHz',\n",
       "       '2.4GHz octa-core (4x2.4GHz + 4x1.9GHz)', '2.0GHz MHz octa-core',\n",
       "       '3.19GHz octa-core', '1.25GHz',\n",
       "       '1.8GHz MHz octa-core (1x3.19GHz MHz + 3x2.42GHz MHz + 4x1.8GHz MHz)',\n",
       "       '1.8GHz octa-core (4x1.8GHz + 4x2.2GHz)', '2.842GHz octa-core',\n",
       "       '1.3 MHz quad-core', 'octa-core (2x1.6GHz + 6x1.35GHz)', '2.8GHz',\n",
       "       'octa-core (4x1.95GHz + 4x1.45GHz)', '2.6GHz deca-core',\n",
       "       '1.65GHz octa-core'], dtype=object)"
      ]
     },
     "execution_count": 82,
     "metadata": {},
     "output_type": "execute_result"
    }
   ],
   "source": [
    "df['Processor'].unique()"
   ]
  },
  {
   "cell_type": "code",
   "execution_count": 83,
   "id": "6342425b",
   "metadata": {},
   "outputs": [
    {
     "data": {
      "text/plain": [
       "Processor\n",
       "octa-core                                                   2515\n",
       "1.3GHz quad-core                                             796\n",
       "1.2GHz quad-core                                             443\n",
       "2GHz octa-core                                               362\n",
       "1.8GHz octa-core                                             262\n",
       "                                                            ... \n",
       "1.7GHz octa-core (2x2.2GHz + 6x1.8GHz)                         1\n",
       "2.84 MHz octa-core (1x2.84 MHz + 3x2.42 MHz + 4x1.8 MHz)       1\n",
       "1.6GHz dual-core                                               1\n",
       "1.8GHz octa-core (2x2.4GHz + 1x2.2GHz + 6x1.8GHz)              1\n",
       "1.21GHz octa-core                                              1\n",
       "Name: count, Length: 279, dtype: int64"
      ]
     },
     "execution_count": 83,
     "metadata": {},
     "output_type": "execute_result"
    }
   ],
   "source": [
    "df['Processor'].value_counts()"
   ]
  },
  {
   "cell_type": "code",
   "execution_count": 84,
   "id": "1190f54b",
   "metadata": {},
   "outputs": [
    {
     "data": {
      "text/plain": [
       "704"
      ]
     },
     "execution_count": 84,
     "metadata": {},
     "output_type": "execute_result"
    }
   ],
   "source": [
    "df['Processor'].isna().sum()"
   ]
  },
  {
   "cell_type": "code",
   "execution_count": 85,
   "id": "1098b434",
   "metadata": {},
   "outputs": [
    {
     "name": "stdout",
     "output_type": "stream",
     "text": [
      "8789\n"
     ]
    }
   ],
   "source": [
    "proc=[str(x).split(',') for x in df['Processor']]\n",
    "print(len(proc))"
   ]
  },
  {
   "cell_type": "code",
   "execution_count": 86,
   "id": "a811d752",
   "metadata": {},
   "outputs": [
    {
     "name": "stdout",
     "output_type": "stream",
     "text": [
      "8789\n",
      "781\n"
     ]
    }
   ],
   "source": [
    "proces=[]\n",
    "for x in proc:\n",
    "    if '-' in x[0]:\n",
    "        ind=x[0].index('-')\n",
    "        proces.append(x[0][ind-4:ind+5].strip())\n",
    "    else:\n",
    "        proces.append(np.nan)\n",
    "print(len(proces))\n",
    "print(proces.count(np.nan))"
   ]
  },
  {
   "cell_type": "markdown",
   "id": "8bef3944",
   "metadata": {},
   "source": [
    "# GPS"
   ]
  },
  {
   "cell_type": "code",
   "execution_count": 87,
   "id": "88acca9e",
   "metadata": {},
   "outputs": [
    {
     "data": {
      "text/plain": [
       "list"
      ]
     },
     "execution_count": 87,
     "metadata": {},
     "output_type": "execute_result"
    }
   ],
   "source": [
    "gps=list(df['GPS'])\n",
    "type(gps)"
   ]
  },
  {
   "cell_type": "code",
   "execution_count": 88,
   "id": "d5775123",
   "metadata": {},
   "outputs": [
    {
     "data": {
      "text/plain": [
       "array(['Yes', nan, 'No'], dtype=object)"
      ]
     },
     "execution_count": 88,
     "metadata": {},
     "output_type": "execute_result"
    }
   ],
   "source": [
    "df['GPS'].unique()"
   ]
  },
  {
   "cell_type": "code",
   "execution_count": 89,
   "id": "12bf1473",
   "metadata": {},
   "outputs": [
    {
     "data": {
      "text/plain": [
       "GPS\n",
       "Yes    7787\n",
       "No      293\n",
       "Name: count, dtype: int64"
      ]
     },
     "execution_count": 89,
     "metadata": {},
     "output_type": "execute_result"
    }
   ],
   "source": [
    "df['GPS'].value_counts()"
   ]
  },
  {
   "cell_type": "markdown",
   "id": "70163184",
   "metadata": {},
   "source": [
    "# Resolution"
   ]
  },
  {
   "cell_type": "code",
   "execution_count": 90,
   "id": "276083d5",
   "metadata": {},
   "outputs": [
    {
     "data": {
      "text/plain": [
       "0       1080x2340 pixels\n",
       "1       1080x2340 pixels\n",
       "2       1080x2340 pixels\n",
       "3       1080x2400 pixels\n",
       "4       1080x2400 pixels\n",
       "              ...       \n",
       "8784    1080x2400 pixels\n",
       "8785                 NaN\n",
       "8786                 NaN\n",
       "8787                 NaN\n",
       "8788                 NaN\n",
       "Name: Resolution, Length: 8789, dtype: object"
      ]
     },
     "execution_count": 90,
     "metadata": {},
     "output_type": "execute_result"
    }
   ],
   "source": [
    "df['Resolution']"
   ]
  },
  {
   "cell_type": "code",
   "execution_count": 91,
   "id": "84442667",
   "metadata": {},
   "outputs": [
    {
     "data": {
      "text/plain": [
       "Resolution\n",
       "720x1280 pixels      1236\n",
       "1080x2400 pixels     1104\n",
       "1080x1920 pixels      825\n",
       "720x1600 pixels       567\n",
       "1080x2340 pixels      507\n",
       "                     ... \n",
       "1640x720 pixels         1\n",
       "1080x2430 pixels        1\n",
       "2088x2250 pixels        1\n",
       "1,236x2676 pixels       1\n",
       "240x240 pixels          1\n",
       "Name: count, Length: 203, dtype: int64"
      ]
     },
     "execution_count": 91,
     "metadata": {},
     "output_type": "execute_result"
    }
   ],
   "source": [
    "df['Resolution'].value_counts()"
   ]
  },
  {
   "cell_type": "code",
   "execution_count": 92,
   "id": "2434783c",
   "metadata": {},
   "outputs": [
    {
     "data": {
      "text/plain": [
       "722"
      ]
     },
     "execution_count": 92,
     "metadata": {},
     "output_type": "execute_result"
    }
   ],
   "source": [
    "df['Resolution'].isna().sum()"
   ]
  },
  {
   "cell_type": "code",
   "execution_count": 93,
   "id": "a57b805c",
   "metadata": {},
   "outputs": [
    {
     "name": "stdout",
     "output_type": "stream",
     "text": [
      "8789\n",
      "817\n"
     ]
    }
   ],
   "source": [
    "res=[]\n",
    "for x in df['Resolution']:\n",
    "    try:\n",
    "        ind=str(x).index('x')\n",
    "        res.append(int(str(x)[:ind]))\n",
    "    except:\n",
    "        res.append(np.nan)\n",
    "print(len(res))\n",
    "print(res.count(np.nan))"
   ]
  },
  {
   "cell_type": "markdown",
   "id": "f26ce884",
   "metadata": {},
   "source": [
    "# Accelerometer"
   ]
  },
  {
   "cell_type": "code",
   "execution_count": 94,
   "id": "c2da6ef9",
   "metadata": {},
   "outputs": [
    {
     "data": {
      "text/plain": [
       "list"
      ]
     },
     "execution_count": 94,
     "metadata": {},
     "output_type": "execute_result"
    }
   ],
   "source": [
    "acc=list(df['Accelerometer'])\n",
    "type(acc)"
   ]
  },
  {
   "cell_type": "code",
   "execution_count": 95,
   "id": "abf00c55",
   "metadata": {},
   "outputs": [
    {
     "data": {
      "text/plain": [
       "array(['Yes', nan, 'No'], dtype=object)"
      ]
     },
     "execution_count": 95,
     "metadata": {},
     "output_type": "execute_result"
    }
   ],
   "source": [
    "df['Accelerometer'].unique()"
   ]
  },
  {
   "cell_type": "code",
   "execution_count": 96,
   "id": "9d430835",
   "metadata": {},
   "outputs": [
    {
     "data": {
      "text/plain": [
       "Accelerometer\n",
       "Yes    7733\n",
       "No      295\n",
       "Name: count, dtype: int64"
      ]
     },
     "execution_count": 96,
     "metadata": {},
     "output_type": "execute_result"
    }
   ],
   "source": [
    "df['Accelerometer'].value_counts()"
   ]
  },
  {
   "cell_type": "markdown",
   "id": "d9ad7cd7",
   "metadata": {},
   "source": [
    "# Proximity sensor"
   ]
  },
  {
   "cell_type": "code",
   "execution_count": 97,
   "id": "b6e4811f",
   "metadata": {},
   "outputs": [
    {
     "data": {
      "text/plain": [
       "list"
      ]
     },
     "execution_count": 97,
     "metadata": {},
     "output_type": "execute_result"
    }
   ],
   "source": [
    "ps=list(df['Proximity sensor'])\n",
    "type(ps)"
   ]
  },
  {
   "cell_type": "code",
   "execution_count": 98,
   "id": "ed06cf2d",
   "metadata": {},
   "outputs": [
    {
     "data": {
      "text/plain": [
       "array(['Yes', 'No', nan], dtype=object)"
      ]
     },
     "execution_count": 98,
     "metadata": {},
     "output_type": "execute_result"
    }
   ],
   "source": [
    "df['Proximity sensor'].unique()"
   ]
  },
  {
   "cell_type": "code",
   "execution_count": 99,
   "id": "cd787277",
   "metadata": {},
   "outputs": [
    {
     "data": {
      "text/plain": [
       "Proximity sensor\n",
       "Yes    7720\n",
       "No      267\n",
       "Name: count, dtype: int64"
      ]
     },
     "execution_count": 99,
     "metadata": {},
     "output_type": "execute_result"
    }
   ],
   "source": [
    "df['Proximity sensor'].value_counts()"
   ]
  },
  {
   "cell_type": "code",
   "execution_count": 100,
   "id": "cd3956ad",
   "metadata": {},
   "outputs": [
    {
     "data": {
      "text/plain": [
       "802"
      ]
     },
     "execution_count": 100,
     "metadata": {},
     "output_type": "execute_result"
    }
   ],
   "source": [
    "df['Proximity sensor'].isna().sum()"
   ]
  },
  {
   "cell_type": "markdown",
   "id": "c4d24596",
   "metadata": {},
   "source": [
    "# Ambient light sensor"
   ]
  },
  {
   "cell_type": "code",
   "execution_count": 101,
   "id": "437f4a7c",
   "metadata": {},
   "outputs": [
    {
     "data": {
      "text/plain": [
       "list"
      ]
     },
     "execution_count": 101,
     "metadata": {},
     "output_type": "execute_result"
    }
   ],
   "source": [
    "als=list(df['Ambient light sensor'])\n",
    "type(als)"
   ]
  },
  {
   "cell_type": "code",
   "execution_count": 102,
   "id": "db3c05ec",
   "metadata": {},
   "outputs": [
    {
     "data": {
      "text/plain": [
       "array(['Yes', 'No', nan], dtype=object)"
      ]
     },
     "execution_count": 102,
     "metadata": {},
     "output_type": "execute_result"
    }
   ],
   "source": [
    "df['Ambient light sensor'].unique()"
   ]
  },
  {
   "cell_type": "code",
   "execution_count": 103,
   "id": "736c302e",
   "metadata": {},
   "outputs": [
    {
     "data": {
      "text/plain": [
       "Ambient light sensor\n",
       "Yes    7185\n",
       "No      649\n",
       "Name: count, dtype: int64"
      ]
     },
     "execution_count": 103,
     "metadata": {},
     "output_type": "execute_result"
    }
   ],
   "source": [
    "df['Ambient light sensor'].value_counts()"
   ]
  },
  {
   "cell_type": "code",
   "execution_count": 104,
   "id": "9d70b408",
   "metadata": {},
   "outputs": [
    {
     "data": {
      "text/plain": [
       "955"
      ]
     },
     "execution_count": 104,
     "metadata": {},
     "output_type": "execute_result"
    }
   ],
   "source": [
    "df['Ambient light sensor'].isna().sum()"
   ]
  },
  {
   "cell_type": "markdown",
   "id": "0c334f2d",
   "metadata": {},
   "source": [
    "# Expandable storage"
   ]
  },
  {
   "cell_type": "code",
   "execution_count": 105,
   "id": "f74bd1bc",
   "metadata": {},
   "outputs": [
    {
     "data": {
      "text/plain": [
       "list"
      ]
     },
     "execution_count": 105,
     "metadata": {},
     "output_type": "execute_result"
    }
   ],
   "source": [
    "es=list(df['Expandable storage'])\n",
    "type(es)"
   ]
  },
  {
   "cell_type": "code",
   "execution_count": 106,
   "id": "0f97ef8d",
   "metadata": {},
   "outputs": [
    {
     "data": {
      "text/plain": [
       "array(['Yes', 'No', nan], dtype=object)"
      ]
     },
     "execution_count": 106,
     "metadata": {},
     "output_type": "execute_result"
    }
   ],
   "source": [
    "df['Expandable storage'].unique()"
   ]
  },
  {
   "cell_type": "code",
   "execution_count": 107,
   "id": "9f41268b",
   "metadata": {},
   "outputs": [
    {
     "data": {
      "text/plain": [
       "Expandable storage\n",
       "Yes    6541\n",
       "No      959\n",
       "Name: count, dtype: int64"
      ]
     },
     "execution_count": 107,
     "metadata": {},
     "output_type": "execute_result"
    }
   ],
   "source": [
    "df['Expandable storage'].value_counts()"
   ]
  },
  {
   "cell_type": "code",
   "execution_count": 108,
   "id": "e3f05076",
   "metadata": {},
   "outputs": [
    {
     "data": {
      "text/plain": [
       "1289"
      ]
     },
     "execution_count": 108,
     "metadata": {},
     "output_type": "execute_result"
    }
   ],
   "source": [
    "df['Expandable storage'].isna().sum()"
   ]
  },
  {
   "cell_type": "markdown",
   "id": "45a213fa",
   "metadata": {},
   "source": [
    "# Rear flash"
   ]
  },
  {
   "cell_type": "code",
   "execution_count": 109,
   "id": "58b42005",
   "metadata": {},
   "outputs": [
    {
     "data": {
      "text/plain": [
       "list"
      ]
     },
     "execution_count": 109,
     "metadata": {},
     "output_type": "execute_result"
    }
   ],
   "source": [
    "rf=list(df['Rear flash'])\n",
    "type(rf)"
   ]
  },
  {
   "cell_type": "code",
   "execution_count": 110,
   "id": "34bfaf97",
   "metadata": {},
   "outputs": [
    {
     "data": {
      "text/plain": [
       "array(['LED', 'Yes', 'Dual LED', nan, 'No', 'Xenon'], dtype=object)"
      ]
     },
     "execution_count": 110,
     "metadata": {},
     "output_type": "execute_result"
    }
   ],
   "source": [
    "df['Rear flash'].unique()"
   ]
  },
  {
   "cell_type": "code",
   "execution_count": 111,
   "id": "f06f465e",
   "metadata": {
    "scrolled": true
   },
   "outputs": [
    {
     "data": {
      "text/plain": [
       "Rear flash\n",
       "Yes         3549\n",
       "LED         2781\n",
       "Dual LED     990\n",
       "No            28\n",
       "Xenon          7\n",
       "Name: count, dtype: int64"
      ]
     },
     "execution_count": 111,
     "metadata": {},
     "output_type": "execute_result"
    }
   ],
   "source": [
    "df['Rear flash'].value_counts()"
   ]
  },
  {
   "cell_type": "code",
   "execution_count": 112,
   "id": "28eec870",
   "metadata": {},
   "outputs": [
    {
     "data": {
      "text/plain": [
       "1434"
      ]
     },
     "execution_count": 112,
     "metadata": {},
     "output_type": "execute_result"
    }
   ],
   "source": [
    "df['Rear flash'].isna().sum()"
   ]
  },
  {
   "cell_type": "markdown",
   "id": "1567626a",
   "metadata": {},
   "source": [
    "# Processor make"
   ]
  },
  {
   "cell_type": "code",
   "execution_count": 113,
   "id": "a0bbafef",
   "metadata": {},
   "outputs": [
    {
     "data": {
      "text/plain": [
       "0       Qualcomm Snapdragon 660\n",
       "1       Qualcomm Snapdragon 660\n",
       "2       Qualcomm Snapdragon 660\n",
       "3       MediaTek Dimensity 800U\n",
       "4       MediaTek Dimensity 800U\n",
       "                 ...           \n",
       "8784                        NaN\n",
       "8785    Qualcomm Snapdragon 680\n",
       "8786                        NaN\n",
       "8787                        NaN\n",
       "8788    Qualcomm Snapdragon 855\n",
       "Name: Processor make, Length: 8789, dtype: object"
      ]
     },
     "execution_count": 113,
     "metadata": {},
     "output_type": "execute_result"
    }
   ],
   "source": [
    "df['Processor make']"
   ]
  },
  {
   "cell_type": "code",
   "execution_count": 114,
   "id": "c6cc1ace",
   "metadata": {},
   "outputs": [
    {
     "data": {
      "text/plain": [
       "array(['Qualcomm Snapdragon 660', 'MediaTek Dimensity 800U',\n",
       "       'Qualcomm Snapdragon 636', 'Qualcomm Snapdragon 625',\n",
       "       'MediaTek Helio P22 (MT6762)', 'Qualcomm Snapdragon 710',\n",
       "       'Apple A13 Bionic', 'MediaTek MT6750', 'Qualcomm Snapdragon 695',\n",
       "       'Qualcomm Snapdragon 865', 'Google Tensor',\n",
       "       'Qualcomm Snapdragon 435', 'Samsung Exynos 8895',\n",
       "       'Qualcomm Snapdragon 860', 'MediaTek Helio G90T',\n",
       "       'MediaTek Helio A22 (MT6761)', 'HiSilicon Kirin 980',\n",
       "       'Samsung Exynos 9810', 'Qualcomm Snapdragon 845',\n",
       "       'MediaTek MT6750T', 'Qualcomm', 'Qualcomm Snapdragon 450',\n",
       "       'MediaTek Helio P25 (MT6757CD)', 'MediaTek Helio G37',\n",
       "       'Qualcomm Snapdragon 750G', 'Samsung Exynos 990',\n",
       "       'Qualcomm Snapdragon 650', 'Qualcomm Snapdragon 712',\n",
       "       'Samsung Exynos 9820', 'Qualcomm Snapdragon 835',\n",
       "       'MediaTek Helio P60 (MT6771)', 'Qualcomm Snapdragon 653',\n",
       "       'Qualcomm Snapdragon 425', 'MediaTek Dimensity 900',\n",
       "       'MediaTek Helio P23 (MT6763T)', 'Qualcomm Snapdragon 765G',\n",
       "       'HiSilicon Kirin 659', 'Samsung Exynos 7 Octa 7580',\n",
       "       'Qualcomm Snapdragon 730', 'Qualcomm Snapdragon 855',\n",
       "       'Qualcomm Snapdragon 820', 'Samsung Exynos 9825',\n",
       "       'MediaTek MT6570', 'MediaTek Dimensity 920',\n",
       "       'Qualcomm Snapdragon 8 Gen 1', 'MediaTek Helio P20 (MT6757)',\n",
       "       'Qualcomm Snapdragon 778G', 'HiSilicon Kirin 710F',\n",
       "       'Samsung Exynos 7 Octa 7870', 'Qualcomm Snapdragon 439',\n",
       "       'MediaTek Helio P70', 'Qualcomm Snapdragon 680',\n",
       "       'MediaTek Dimensity 700', 'MediaTek Helio G96',\n",
       "       'Qualcomm Snapdragon 778G Plus', 'Qualcomm Snapdragon 675',\n",
       "       'MediaTek Helio G88', nan, 'MediaTek MT6753',\n",
       "       'HiSilicon Kirin 990 5G', 'MediaTek Dimensity 810',\n",
       "       'HiSilicon Kirin 9000', 'Qualcomm Snapdragon 615',\n",
       "       'Qualcomm Snapdragon 888', 'Qualcomm Snapdragon 8+ Gen 1',\n",
       "       'Qualcomm Snapdragon 855+', 'Apple A15 Bionic', 'Apple A11 Bionic',\n",
       "       'Qualcomm Snapdragon 665', 'MediaTek MT6737',\n",
       "       'Qualcomm Snapdragon 870', 'MediaTek Helio P35 (MT6765)',\n",
       "       'MediaTek Dimensity 1300', 'Apple A12 Bionic',\n",
       "       'MediaTek Helio G80', 'Samsung Exynos 2100',\n",
       "       'MediaTek Dimensity 1200', 'Samsung Exynos 9611',\n",
       "       'MediaTek MT6735', 'Apple A14 Bionic', 'Qualcomm Snapdragon 720G',\n",
       "       'Qualcomm Snapdragon', 'Qualcomm Snapdragon 730G',\n",
       "       'Samsung Exynos 5430', 'MediaTek MT6752M', 'MediaTek Helio G85',\n",
       "       'Intel Atom Z3580', 'Qualcomm Snapdragon 810',\n",
       "       'Qualcomm Snapdragon 662', 'Qualcomm Snapdragon 480',\n",
       "       'Snapdragon 8 Gen 2', 'MediaTek Dimensity 8100 5G',\n",
       "       'Qualcomm Snapdragon 400', 'MediaTek Helio G25',\n",
       "       'Qualcomm Snapdragon 410', 'Qualcomm Snapdragon 617',\n",
       "       'Qualcomm Snapdragon 808', 'MediaTek Helio G35',\n",
       "       'HiSilicon Kirin 655', 'Qualcomm Snapdragon 210',\n",
       "       'Qualcomm Snapdragon 630', 'MediaTek MT6752',\n",
       "       'Qualcomm Snapdragon 415', 'Qualcomm Snapdragon 801',\n",
       "       'Qualcomm Snapdragon 732G', 'Qualcomm Snapdragon 480+',\n",
       "       'MediaTek MT6753T', 'MediaTek MT6595', 'Qualcomm Snapdragon 632',\n",
       "       'Qualcomm Snapdragon 652', 'MediaTek Helio P10 (MT6755)',\n",
       "       'MediaTek MT6580A', 'MediaTek Helio G70',\n",
       "       'Qualcomm Snapdragon 626', 'Qualcomm Snapdragon 616',\n",
       "       'MediaTek MT6735P', 'Qualcomm Snapdragon 410 (MSM8916)',\n",
       "       'Qualcomm Snapdragon 821', 'Apple A16 Bionic', 'MediaTek MT6592',\n",
       "       'MediaTek MT6580', 'MediaTek MT6582',\n",
       "       'MediaTek Helio X10 (MT6795)', 'Spreadtrum Shark L (SC9830)',\n",
       "       'Qualcomm Snapdragon 430', 'Samsung Exynos 3475',\n",
       "       'Qualcomm Snapdragon 768G', 'HiSilicon Kirin 620',\n",
       "       'MediaTek MT6582M', 'Qualcomm Snapdragon 200',\n",
       "       'MediaTek Dimensity 930', 'Qualcomm Snapdragon 427',\n",
       "       'MediaTek Helio X23 (MT6797D)', 'MediaTek Helio P10 M (MT6755M)',\n",
       "       'MediaTek Helio G99', 'Spreadtrum SC9832',\n",
       "       'Qualcomm Snapdragon 400 (MSM8228)', 'MediaTek Helio G95',\n",
       "       'MediaTek Dimensity 9000', 'HiSilicon Kirin 925',\n",
       "       'MediaTek MT6737M', 'Qualcomm Snapdragon 678',\n",
       "       'HiSilicon Kirin 960', 'Samsung Exynos 7884B',\n",
       "       'Spreadtrum SC9832A', 'Intel Atom Z2520', 'Samsung Exynos 7880',\n",
       "       'Qualcomm Snapdragon 888+', 'MediaTek MT6737T', 'MediaTek MT6735M',\n",
       "       'Samsung Exynos 9609', 'Qualcomm Snapdragon 610',\n",
       "       'MediaTek MT6737V', 'Samsung Exynos 850', 'Unisoc T610',\n",
       "       'HiSilicon Kirin 650', 'Intel Atom Z3560',\n",
       "       'MediaTek Helio P15 (MT6755T)', 'Snapdragon 7+ Gen 2',\n",
       "       'HiSilicon Kirin 950', 'Qualcomm Snapdragon 200 (MSM8625Q)',\n",
       "       'MediaTek MT6592M', 'Spreadtrum SC7731', 'MediaTek MT6735V',\n",
       "       'Spreadtrum SC7731G', 'Samsung Exynos 7 Octa 7420',\n",
       "       'MediaTek MT6580M', 'Spreadtrum SC7731C', 'HiSilicon Kirin 935',\n",
       "       'MediaTek MT6735A', 'MediaTek MT6753M', 'Spreadtrum SC9830A',\n",
       "       'Apple A8', 'MediaTek', 'Spreadtrum SC6815A', 'MediaTek MT6573',\n",
       "       'MediaTek MT6572', 'MediaTek Helio A25', 'HiSilicon Kirin 990E',\n",
       "       'MediaTek MT6589T', 'Qualcomm Snapdragon 865+',\n",
       "       'MediaTek Helio X20 (MT6797)', 'MediaTek Dimensity 800',\n",
       "       'Unisoc T606', 'Apple A9', 'Samsung Exynos 3 Quad 3475',\n",
       "       'Spreadtrum SC7730S', 'Spreadtrum SC9830', 'Unisoc T700',\n",
       "       'MediaTek Helio P65', 'HiSilicon Kirin 990', 'MediaTek MT6572AX',\n",
       "       'Samsung Exynos 8890', 'MediaTek Helio A20',\n",
       "       'Qualcomm Snapdragon 212', 'Spreadtrum SPRD7731',\n",
       "       'MediaTek MT6737H', 'HiSilicon Kirin 970', 'MediaTek MT6572W',\n",
       "       'MediaTek MT6737VW', 'Spreadtrum SC9830i',\n",
       "       'Qualcomm Snapdragon 200 (MSM8212)', 'MediaTek MT6732M',\n",
       "       'MediaTek Dimensity 820', 'HiSilicon Kirin 710', 'MediaTek MT6732',\n",
       "       'MediaTek MT6571', 'MediaTek Helio X10 M (MT6795M)',\n",
       "       'MediaTek MT6595M', 'Qualcomm Snapdragon 460', 'MediaTek MT8312',\n",
       "       'Spreadtrum SC9863A', 'MediaTek MT6572M',\n",
       "       'MediaTek Dimensity 9000+', 'Speadtrum SPC7731',\n",
       "       'MediaTek MT6572X', 'MediaTek Helio P95 (MT6779V/CV)',\n",
       "       'Broadcom BCM23550', 'MediaTek Dimensity 1080', 'MediaTek MT6591',\n",
       "       'MediaTek Dimensity 720', 'Spreadtrum SC7715', 'MediaTek MT6753V',\n",
       "       'MediaTek Helio P30 (MT6758)', 'Unisoc SC9863A',\n",
       "       'MediaTek MT6580W', 'Speadtrum SC9832', 'MediaTek Dimensity 8200',\n",
       "       'MediaTek Helio P90 (MT6779)', 'MediaTek MT8382V/W',\n",
       "       'Samsung Exynos 1380', 'Unisoc T612', 'Apple A10 Fusion',\n",
       "       'MediaTek Helio P22 (MT6762R)',\n",
       "       'Qualcomm Snapdragon 400 (MSM8926)', 'MediaTek Dimensity 1000+',\n",
       "       'HiSilicon Kirin 810', 'Spreadtrum SC7715A', 'Broadcom BCM23550M',\n",
       "       'Samsung Exynos 7904', 'MediaTek MT6592T', 'ARM Cortex-A7',\n",
       "       'Leadcore L1860C', 'HiSilicon Kirin 920', 'MediaTek MT6750S',\n",
       "       'Qualcomm Snapdragon 765', 'RDA8810', 'HiSilicon Kirin 955',\n",
       "       'MediaTek Dimensity 1100', 'HiSilicon Kirin 710A',\n",
       "       'Xiaomi Surge S1', 'Spreadtrum', 'Samsung Exynos 1080',\n",
       "       'Samsung Exynos 880', 'HiSilicon Kirin 820', 'ARM Cortex-A53',\n",
       "       'Qualcomm Snapdragon 670', 'HiSilicon Kirin 9000E',\n",
       "       'Qualcomm Snapdragon 805', 'Unisoc T616', 'Spreadtrum SC6821',\n",
       "       'Spreadtrum SC6815', 'MediaTek MT6572A', 'Samsung Exynos 7872',\n",
       "       'MediaTek MT6582V/X', 'Qualcomm Snapdragon 205',\n",
       "       'MediaTek Helio X10 T (MT6795T)',\n",
       "       'Qualcomm Snapdragon 435 (MSM8940)', 'MediaTek MT6735CP',\n",
       "       'Qualcomm Snapdragon S4 Plus (MSM8960)', 'Qualcomm Snapdragon 690',\n",
       "       'MediaTek MT6739WW', 'MediaTek MT6739',\n",
       "       'Qualcomm Snapdragon 210 (MSM8909)',\n",
       "       'Qualcomm Snapdragon 801 (MSM8974AC)', 'Samsung Exynos 9610',\n",
       "       'HiSilicon Kirin 658', 'Samsung Exynos 980', 'MediaTek MT8735',\n",
       "       'Spreadtrum SC9832E', 'Intel Atom Z2560', 'Samsung Exynos 7570',\n",
       "       'MediaTek MT6738', 'MediaTek Helio P65 (MT6768)',\n",
       "       'Spreadtrum 6531D', 'MediaTek Dimensity 8050', 'MediaTek MT8735A',\n",
       "       'MediaTek MT6375P', 'Qualcomm Snapdragon 801 (MSM8975AC)',\n",
       "       'Qualcomm 215', 'Qualcomm Snapdragon 801 (MSM8974AB)',\n",
       "       'MediaTek Helio P23 (MT6763)', 'Qualcomm Snapdragon 800',\n",
       "       'MediaTek Helio P70M', 'Samsung Exynos 7885',\n",
       "       'HiSilicon Kirin 985', 'Spreadtrum SC9820A (SPRD 9820A/QC8905)',\n",
       "       'MediaTek MT6260A', 'HiSilicon Kirin 820E',\n",
       "       'MediaTek Dimensity 7050', 'Unisoc SC9863',\n",
       "       'MediaTek Helio X25 (MT6797T)', 'Google Tensor G2',\n",
       "       'Qualcomm Snapdragon 800 (MSM8974AA)', 'Qualcomm Snapdragon 429',\n",
       "       'MediaTek MT6750V', 'LG Nuclun', 'MediaTek Dimensity 8000-Max',\n",
       "       'MediaTek MT6739WA', 'Spreadtrum SC9850',\n",
       "       'MediaTek Dimensity 8020', 'MediaTek MT6261D',\n",
       "       'MediaTek Dimensity 8100-Max', 'Qualcomm Snapdragon 6 Gen 1',\n",
       "       'MediaTek Dimensity 7020', 'Qualcomm Snapdragon 7 Gen 1',\n",
       "       'MediaTek MT8735B', 'Qualcomm Snapdragon S4',\n",
       "       'HiSilicon Kirin 910T', 'MediaTek Dimensity 6020',\n",
       "       'MediaTek MT6572KK', 'Spreadtrum SC6531DA', 'Unisoc SC7331e',\n",
       "       'Qualcomm Snapdragon 800 (MSM8974)', 'HiSilicon Kirin 928',\n",
       "       'Qualcomm Snapdragon 4 Gen 1', 'MediaTek MT6261M',\n",
       "       'MediaTek Helio G36', 'MediaTek Dimensity 1050',\n",
       "       'Spreadtrum SC9850K', 'Samsung Exynos 7884', 'MediaTek MT6739W',\n",
       "       'Qualcomm Snapdragon SiP 1', 'MediaTek Helio P18 (MT7655S)',\n",
       "       'Samsung Exynos 1330', 'MediaTek MT8321', 'Unisoc T618 (UMS512T)',\n",
       "       'MediaTek Helio P18 (MT6755S)', 'MediaTek Dimensity 7200',\n",
       "       'Spreadtrum SC9820E', 'Spreadtrum SC7731E',\n",
       "       'MediaTek Helio P22 (MT6762D)', 'Unisoc T310',\n",
       "       'MediaTek Helio G90', 'Qualcomm Snapdragon 212 (APQ8009)',\n",
       "       'Spreadtrum SC6531E', 'MediaTek Helio X27 (MT6797X)'], dtype=object)"
      ]
     },
     "execution_count": 114,
     "metadata": {},
     "output_type": "execute_result"
    }
   ],
   "source": [
    "df['Processor make'].unique()"
   ]
  },
  {
   "cell_type": "code",
   "execution_count": 115,
   "id": "d8666de5",
   "metadata": {},
   "outputs": [
    {
     "data": {
      "text/plain": [
       "Processor make\n",
       "MediaTek MT6737                      154\n",
       "MediaTek Helio P22 (MT6762)          147\n",
       "Qualcomm Snapdragon 695              124\n",
       "Qualcomm Snapdragon 410              119\n",
       "MediaTek Dimensity 700               115\n",
       "                                    ... \n",
       "Qualcomm Snapdragon 435 (MSM8940)      1\n",
       "Samsung Exynos 7872                    1\n",
       "MediaTek MT6572A                       1\n",
       "Spreadtrum SC6815                      1\n",
       "MediaTek Helio X27 (MT6797X)           1\n",
       "Name: count, Length: 346, dtype: int64"
      ]
     },
     "execution_count": 115,
     "metadata": {},
     "output_type": "execute_result"
    }
   ],
   "source": [
    "df['Processor make'].value_counts()"
   ]
  },
  {
   "cell_type": "code",
   "execution_count": 116,
   "id": "ac62848a",
   "metadata": {},
   "outputs": [
    {
     "data": {
      "text/plain": [
       "1508"
      ]
     },
     "execution_count": 116,
     "metadata": {},
     "output_type": "execute_result"
    }
   ],
   "source": [
    "df['Processor make'].isna().sum()"
   ]
  },
  {
   "cell_type": "code",
   "execution_count": 117,
   "id": "3393b52e",
   "metadata": {},
   "outputs": [
    {
     "name": "stdout",
     "output_type": "stream",
     "text": [
      "8789\n"
     ]
    }
   ],
   "source": [
    "promks=[str(x).split(' ') for x in df['Processor make']]\n",
    "print(len(promks))"
   ]
  },
  {
   "cell_type": "code",
   "execution_count": 118,
   "id": "74bfcf89",
   "metadata": {},
   "outputs": [
    {
     "name": "stdout",
     "output_type": "stream",
     "text": [
      "8789\n",
      "1592\n"
     ]
    }
   ],
   "source": [
    "prom=[]\n",
    "for i in promks:\n",
    "    if len(i)>2:\n",
    "        prom.append(i[0]+' '+i[1])\n",
    "    elif len(i)>1:\n",
    "        prom.append(i[0])\n",
    "    else:\n",
    "        prom.append(np.nan)\n",
    "print(len(prom))\n",
    "print(prom.count(np.nan))"
   ]
  },
  {
   "cell_type": "markdown",
   "id": "600ee0a9",
   "metadata": {},
   "source": [
    "# Dimensions (mm)"
   ]
  },
  {
   "cell_type": "code",
   "execution_count": 119,
   "id": "074683e0",
   "metadata": {},
   "outputs": [
    {
     "data": {
      "text/plain": [
       "0       157.91 x 75.08 x 7.90\n",
       "1       157.91 x 75.08 x 7.90\n",
       "2       157.91 x 75.08 x 7.90\n",
       "3       162.20 x 75.10 x 9.10\n",
       "4       162.20 x 75.10 x 9.10\n",
       "                ...          \n",
       "8784                      NaN\n",
       "8785                      NaN\n",
       "8786                      NaN\n",
       "8787                      NaN\n",
       "8788                      NaN\n",
       "Name: Dimensions (mm), Length: 8789, dtype: object"
      ]
     },
     "execution_count": 119,
     "metadata": {},
     "output_type": "execute_result"
    }
   ],
   "source": [
    "df['Dimensions (mm)']"
   ]
  },
  {
   "cell_type": "code",
   "execution_count": 120,
   "id": "1224b30c",
   "metadata": {},
   "outputs": [
    {
     "data": {
      "text/plain": [
       "Dimensions (mm)\n",
       "164.90 x 77.07 x 9.00     34\n",
       "164.41 x 76.32 x 8.41     31\n",
       "138.40 x 67.30 x 7.30     27\n",
       "155.11 x 75.09 x 8.28     25\n",
       "159.21 x 75.21 x 8.10     24\n",
       "                          ..\n",
       "141.00 x 71.00 x 7.90      1\n",
       "125.50 x 68.00 x 12.60     1\n",
       "167.00 x 83.00 x 8.60      1\n",
       "155.80 x 76.00 x 6.10      1\n",
       "134.00 x 66.00 x 9.15      1\n",
       "Name: count, Length: 2784, dtype: int64"
      ]
     },
     "execution_count": 120,
     "metadata": {},
     "output_type": "execute_result"
    }
   ],
   "source": [
    "df['Dimensions (mm)'].value_counts()"
   ]
  },
  {
   "cell_type": "code",
   "execution_count": 121,
   "id": "6f728eed",
   "metadata": {},
   "outputs": [
    {
     "data": {
      "text/plain": [
       "1594"
      ]
     },
     "execution_count": 121,
     "metadata": {},
     "output_type": "execute_result"
    }
   ],
   "source": [
    "df['Dimensions (mm)'].isna().sum()"
   ]
  },
  {
   "cell_type": "code",
   "execution_count": 122,
   "id": "5a58d4b5",
   "metadata": {},
   "outputs": [
    {
     "name": "stdout",
     "output_type": "stream",
     "text": [
      "8789 1594\n"
     ]
    }
   ],
   "source": [
    "dimen=[str(x).split(' x ') for x in df['Dimensions (mm)']]\n",
    "print(len(dimen),dimen.count(['nan']))"
   ]
  },
  {
   "cell_type": "code",
   "execution_count": 123,
   "id": "42a80a7a",
   "metadata": {},
   "outputs": [
    {
     "name": "stdout",
     "output_type": "stream",
     "text": [
      "8789 1594\n",
      "8789 1594\n",
      "8789 1594\n"
     ]
    }
   ],
   "source": [
    "dims=[[],[],[]]\n",
    "for x in dimen:\n",
    "    for i in range(3):\n",
    "        try:\n",
    "            if x[i]=='nan':\n",
    "                dims[i].append(np.nan)\n",
    "            else:\n",
    "                dims[i].append(float(x[i]))\n",
    "        except:\n",
    "            dims[i].append(np.nan)\n",
    "for dim in dims:\n",
    "    print(len(dim),dim.count(np.nan))"
   ]
  },
  {
   "cell_type": "markdown",
   "id": "bf724562",
   "metadata": {},
   "source": [
    "# Price in India"
   ]
  },
  {
   "cell_type": "code",
   "execution_count": 124,
   "id": "1a49c976",
   "metadata": {},
   "outputs": [
    {
     "data": {
      "text/plain": [
       "0       ₹ 24,999\n",
       "1       ₹ 28,990\n",
       "2       ₹ 27,490\n",
       "3       ₹ 16,990\n",
       "4       ₹ 19,999\n",
       "          ...   \n",
       "8784         NaN\n",
       "8785         NaN\n",
       "8786         NaN\n",
       "8787         NaN\n",
       "8788         NaN\n",
       "Name: Price in India, Length: 8789, dtype: object"
      ]
     },
     "execution_count": 124,
     "metadata": {},
     "output_type": "execute_result"
    }
   ],
   "source": [
    "df['Price in India']"
   ]
  },
  {
   "cell_type": "code",
   "execution_count": 125,
   "id": "cbe9df95",
   "metadata": {},
   "outputs": [
    {
     "data": {
      "text/plain": [
       "1989"
      ]
     },
     "execution_count": 125,
     "metadata": {},
     "output_type": "execute_result"
    }
   ],
   "source": [
    "df['Price in India'].isna().sum()"
   ]
  },
  {
   "cell_type": "code",
   "execution_count": 126,
   "id": "3febfc45",
   "metadata": {},
   "outputs": [
    {
     "data": {
      "text/plain": [
       "Price in India\n",
       "₹ 9,999     147\n",
       "₹ 10,999    113\n",
       "₹ 8,999     107\n",
       "₹ 7,999     101\n",
       "₹ 6,999      94\n",
       "           ... \n",
       "₹ 11,770      1\n",
       "₹ 7,142       1\n",
       "₹36,173       1\n",
       "₹ 8,016       1\n",
       "₹ 1,398       1\n",
       "Name: count, Length: 1852, dtype: int64"
      ]
     },
     "execution_count": 126,
     "metadata": {},
     "output_type": "execute_result"
    }
   ],
   "source": [
    "df['Price in India'].value_counts()"
   ]
  },
  {
   "cell_type": "code",
   "execution_count": 127,
   "id": "f1b3bc42",
   "metadata": {},
   "outputs": [
    {
     "data": {
      "text/plain": [
       "array(['₹ 24,999', '₹ 28,990', '₹ 27,490', ..., '₹ 1,299', '₹ 1,349',\n",
       "       '₹ 1,398'], dtype=object)"
      ]
     },
     "execution_count": 127,
     "metadata": {},
     "output_type": "execute_result"
    }
   ],
   "source": [
    "df['Price in India'].unique()"
   ]
  },
  {
   "cell_type": "code",
   "execution_count": 128,
   "id": "aecd084f",
   "metadata": {},
   "outputs": [
    {
     "data": {
      "text/plain": [
       "1989"
      ]
     },
     "execution_count": 128,
     "metadata": {},
     "output_type": "execute_result"
    }
   ],
   "source": [
    "df['Price in India'].isna().sum()"
   ]
  },
  {
   "cell_type": "code",
   "execution_count": 129,
   "id": "57ffe5a5",
   "metadata": {},
   "outputs": [
    {
     "name": "stdout",
     "output_type": "stream",
     "text": [
      "8789\n"
     ]
    },
    {
     "data": {
      "text/plain": [
       "1989"
      ]
     },
     "execution_count": 129,
     "metadata": {},
     "output_type": "execute_result"
    }
   ],
   "source": [
    "cost=[]\n",
    "for x in df['Price in India']:    \n",
    "    try:\n",
    "        cost.append(float(''.join(str(x)[1:].split(','))))\n",
    "    except:\n",
    "        cost.append(np.nan)\n",
    "print(len(cost))\n",
    "cost.count(np.nan)"
   ]
  },
  {
   "cell_type": "markdown",
   "id": "6fffc540",
   "metadata": {},
   "source": [
    "# Weight (g)"
   ]
  },
  {
   "cell_type": "code",
   "execution_count": 130,
   "id": "77fb89f3",
   "metadata": {},
   "outputs": [
    {
     "data": {
      "text/plain": [
       "list"
      ]
     },
     "execution_count": 130,
     "metadata": {},
     "output_type": "execute_result"
    }
   ],
   "source": [
    "wt=list(df['Weight (g)'])\n",
    "type(wt)"
   ]
  },
  {
   "cell_type": "code",
   "execution_count": 131,
   "id": "8a616aee",
   "metadata": {},
   "outputs": [
    {
     "data": {
      "text/plain": [
       "2176"
      ]
     },
     "execution_count": 131,
     "metadata": {},
     "output_type": "execute_result"
    }
   ],
   "source": [
    "df['Weight (g)'].isna().sum()"
   ]
  },
  {
   "cell_type": "code",
   "execution_count": 132,
   "id": "c632f792",
   "metadata": {},
   "outputs": [
    {
     "data": {
      "text/plain": [
       "Weight (g)\n",
       "188.0    157\n",
       "175.0    139\n",
       "190.0    134\n",
       "170.0    131\n",
       "160.0    129\n",
       "        ... \n",
       "175.6      1\n",
       "199.4      1\n",
       "134.1      1\n",
       "317.0      1\n",
       "78.7       1\n",
       "Name: count, Length: 401, dtype: int64"
      ]
     },
     "execution_count": 132,
     "metadata": {},
     "output_type": "execute_result"
    }
   ],
   "source": [
    "df['Weight (g)'].value_counts()"
   ]
  },
  {
   "cell_type": "code",
   "execution_count": 133,
   "id": "a5dcd8c6",
   "metadata": {},
   "outputs": [
    {
     "data": {
      "text/plain": [
       "2176"
      ]
     },
     "execution_count": 133,
     "metadata": {},
     "output_type": "execute_result"
    }
   ],
   "source": [
    "df['Weight (g)'].isna().sum()"
   ]
  },
  {
   "cell_type": "markdown",
   "id": "7667ecf3",
   "metadata": {},
   "source": [
    "# Compass/ Magnetometer"
   ]
  },
  {
   "cell_type": "code",
   "execution_count": 134,
   "id": "73230ee3",
   "metadata": {},
   "outputs": [
    {
     "data": {
      "text/plain": [
       "list"
      ]
     },
     "execution_count": 134,
     "metadata": {},
     "output_type": "execute_result"
    }
   ],
   "source": [
    "compmag=list(df['Compass/ Magnetometer'])\n",
    "type(compmag)"
   ]
  },
  {
   "cell_type": "code",
   "execution_count": 135,
   "id": "622c2312",
   "metadata": {},
   "outputs": [
    {
     "data": {
      "text/plain": [
       "array(['Yes', 'No', nan], dtype=object)"
      ]
     },
     "execution_count": 135,
     "metadata": {},
     "output_type": "execute_result"
    }
   ],
   "source": [
    "df['Compass/ Magnetometer'].unique()"
   ]
  },
  {
   "cell_type": "code",
   "execution_count": 136,
   "id": "cd89b690",
   "metadata": {},
   "outputs": [
    {
     "data": {
      "text/plain": [
       "Compass/ Magnetometer\n",
       "Yes    4366\n",
       "No     2239\n",
       "Name: count, dtype: int64"
      ]
     },
     "execution_count": 136,
     "metadata": {},
     "output_type": "execute_result"
    }
   ],
   "source": [
    "df['Compass/ Magnetometer'].value_counts()"
   ]
  },
  {
   "cell_type": "code",
   "execution_count": 137,
   "id": "ff264ed9",
   "metadata": {},
   "outputs": [
    {
     "data": {
      "text/plain": [
       "2184"
      ]
     },
     "execution_count": 137,
     "metadata": {},
     "output_type": "execute_result"
    }
   ],
   "source": [
    "df['Compass/ Magnetometer'].isna().sum()"
   ]
  },
  {
   "cell_type": "markdown",
   "id": "8c0a9d71",
   "metadata": {},
   "source": [
    "# Headphones"
   ]
  },
  {
   "cell_type": "code",
   "execution_count": 138,
   "id": "154bd633",
   "metadata": {},
   "outputs": [
    {
     "data": {
      "text/plain": [
       "0       3.5mm\n",
       "1       3.5mm\n",
       "2       3.5mm\n",
       "3         Yes\n",
       "4         Yes\n",
       "        ...  \n",
       "8784      NaN\n",
       "8785      NaN\n",
       "8786      NaN\n",
       "8787      NaN\n",
       "8788      NaN\n",
       "Name: Headphones, Length: 8789, dtype: object"
      ]
     },
     "execution_count": 138,
     "metadata": {},
     "output_type": "execute_result"
    }
   ],
   "source": [
    "df['Headphones']"
   ]
  },
  {
   "cell_type": "code",
   "execution_count": 139,
   "id": "d66d9782",
   "metadata": {},
   "outputs": [
    {
     "data": {
      "text/plain": [
       "array(['3.5mm', 'Yes', 'Lightning', 'Type-C', nan, 'No', '2.5mm'],\n",
       "      dtype=object)"
      ]
     },
     "execution_count": 139,
     "metadata": {},
     "output_type": "execute_result"
    }
   ],
   "source": [
    "df['Headphones'].unique()"
   ]
  },
  {
   "cell_type": "code",
   "execution_count": 140,
   "id": "5ee0bf3c",
   "metadata": {},
   "outputs": [
    {
     "data": {
      "text/plain": [
       "Headphones\n",
       "3.5mm        5861\n",
       "Yes           230\n",
       "Type-C        168\n",
       "No            126\n",
       "Lightning     107\n",
       "2.5mm           1\n",
       "Name: count, dtype: int64"
      ]
     },
     "execution_count": 140,
     "metadata": {},
     "output_type": "execute_result"
    }
   ],
   "source": [
    "df['Headphones'].value_counts()"
   ]
  },
  {
   "cell_type": "code",
   "execution_count": 141,
   "id": "497ff2d5",
   "metadata": {},
   "outputs": [
    {
     "data": {
      "text/plain": [
       "2296"
      ]
     },
     "execution_count": 141,
     "metadata": {},
     "output_type": "execute_result"
    }
   ],
   "source": [
    "df['Headphones'].isna().sum()"
   ]
  },
  {
   "cell_type": "code",
   "execution_count": 142,
   "id": "cbfa5197",
   "metadata": {},
   "outputs": [
    {
     "name": "stdout",
     "output_type": "stream",
     "text": [
      "8789\n",
      "2296\n"
     ]
    }
   ],
   "source": [
    "hdp=[]\n",
    "for x in df['Headphones']:\n",
    "    if x=='No':\n",
    "        hdp.append('No')\n",
    "    elif str(x)=='nan':\n",
    "        hdp.append(x)\n",
    "    else:\n",
    "        hdp.append('Yes')\n",
    "print(len(hdp))\n",
    "print(hdp.count(np.nan))"
   ]
  },
  {
   "cell_type": "markdown",
   "id": "8942ffd0",
   "metadata": {},
   "source": [
    "# Gyroscope"
   ]
  },
  {
   "cell_type": "code",
   "execution_count": 143,
   "id": "9f8730e6",
   "metadata": {},
   "outputs": [
    {
     "data": {
      "text/plain": [
       "list"
      ]
     },
     "execution_count": 143,
     "metadata": {},
     "output_type": "execute_result"
    }
   ],
   "source": [
    "gyro=list(df['Gyroscope'])\n",
    "type(gyro)"
   ]
  },
  {
   "cell_type": "code",
   "execution_count": 144,
   "id": "f8ec603e",
   "metadata": {},
   "outputs": [
    {
     "data": {
      "text/plain": [
       "array(['Yes', 'No', nan], dtype=object)"
      ]
     },
     "execution_count": 144,
     "metadata": {},
     "output_type": "execute_result"
    }
   ],
   "source": [
    "df['Gyroscope'].unique()"
   ]
  },
  {
   "cell_type": "code",
   "execution_count": 145,
   "id": "067c4cec",
   "metadata": {},
   "outputs": [
    {
     "data": {
      "text/plain": [
       "Gyroscope\n",
       "Yes    4787\n",
       "No     1643\n",
       "Name: count, dtype: int64"
      ]
     },
     "execution_count": 145,
     "metadata": {},
     "output_type": "execute_result"
    }
   ],
   "source": [
    "df['Gyroscope'].value_counts()"
   ]
  },
  {
   "cell_type": "code",
   "execution_count": 146,
   "id": "c68d2df3",
   "metadata": {},
   "outputs": [
    {
     "data": {
      "text/plain": [
       "2359"
      ]
     },
     "execution_count": 146,
     "metadata": {},
     "output_type": "execute_result"
    }
   ],
   "source": [
    "df['Gyroscope'].isna().sum()"
   ]
  },
  {
   "cell_type": "markdown",
   "id": "7b866188",
   "metadata": {},
   "source": [
    "# Expandable storage type"
   ]
  },
  {
   "cell_type": "code",
   "execution_count": 147,
   "id": "36b40a28",
   "metadata": {},
   "outputs": [
    {
     "data": {
      "text/plain": [
       "list"
      ]
     },
     "execution_count": 147,
     "metadata": {},
     "output_type": "execute_result"
    }
   ],
   "source": [
    "est=list(df['Expandable storage type'])\n",
    "type(est)"
   ]
  },
  {
   "cell_type": "code",
   "execution_count": 148,
   "id": "1059f36f",
   "metadata": {},
   "outputs": [
    {
     "data": {
      "text/plain": [
       "array(['microSD', nan, 'Nano Memory Card', 'SD card'], dtype=object)"
      ]
     },
     "execution_count": 148,
     "metadata": {},
     "output_type": "execute_result"
    }
   ],
   "source": [
    "df['Expandable storage type'].unique()"
   ]
  },
  {
   "cell_type": "code",
   "execution_count": 149,
   "id": "3db9837c",
   "metadata": {},
   "outputs": [
    {
     "data": {
      "text/plain": [
       "Expandable storage type\n",
       "microSD             6321\n",
       "Nano Memory Card      26\n",
       "SD card               25\n",
       "Name: count, dtype: int64"
      ]
     },
     "execution_count": 149,
     "metadata": {},
     "output_type": "execute_result"
    }
   ],
   "source": [
    "df['Expandable storage type'].value_counts()"
   ]
  },
  {
   "cell_type": "code",
   "execution_count": 150,
   "id": "0ab580bb",
   "metadata": {},
   "outputs": [
    {
     "data": {
      "text/plain": [
       "2417"
      ]
     },
     "execution_count": 150,
     "metadata": {},
     "output_type": "execute_result"
    }
   ],
   "source": [
    "df['Expandable storage type'].isna().sum()"
   ]
  },
  {
   "cell_type": "markdown",
   "id": "d442c333",
   "metadata": {},
   "source": [
    "# 4G or 3G"
   ]
  },
  {
   "cell_type": "code",
   "execution_count": 151,
   "id": "9e78b0f1",
   "metadata": {},
   "outputs": [
    {
     "data": {
      "text/html": [
       "<div>\n",
       "<style scoped>\n",
       "    .dataframe tbody tr th:only-of-type {\n",
       "        vertical-align: middle;\n",
       "    }\n",
       "\n",
       "    .dataframe tbody tr th {\n",
       "        vertical-align: top;\n",
       "    }\n",
       "\n",
       "    .dataframe thead th {\n",
       "        text-align: right;\n",
       "    }\n",
       "</style>\n",
       "<table border=\"1\" class=\"dataframe\">\n",
       "  <thead>\n",
       "    <tr style=\"text-align: right;\">\n",
       "      <th></th>\n",
       "      <th>4G/ LTE 1</th>\n",
       "      <th>3G 1</th>\n",
       "    </tr>\n",
       "  </thead>\n",
       "  <tbody>\n",
       "    <tr>\n",
       "      <th>0</th>\n",
       "      <td>Yes</td>\n",
       "      <td>Yes</td>\n",
       "    </tr>\n",
       "    <tr>\n",
       "      <th>1</th>\n",
       "      <td>Yes</td>\n",
       "      <td>Yes</td>\n",
       "    </tr>\n",
       "    <tr>\n",
       "      <th>2</th>\n",
       "      <td>Yes</td>\n",
       "      <td>Yes</td>\n",
       "    </tr>\n",
       "    <tr>\n",
       "      <th>3</th>\n",
       "      <td>Yes</td>\n",
       "      <td>Yes</td>\n",
       "    </tr>\n",
       "    <tr>\n",
       "      <th>4</th>\n",
       "      <td>Yes</td>\n",
       "      <td>Yes</td>\n",
       "    </tr>\n",
       "    <tr>\n",
       "      <th>...</th>\n",
       "      <td>...</td>\n",
       "      <td>...</td>\n",
       "    </tr>\n",
       "    <tr>\n",
       "      <th>8784</th>\n",
       "      <td>NaN</td>\n",
       "      <td>NaN</td>\n",
       "    </tr>\n",
       "    <tr>\n",
       "      <th>8785</th>\n",
       "      <td>NaN</td>\n",
       "      <td>NaN</td>\n",
       "    </tr>\n",
       "    <tr>\n",
       "      <th>8786</th>\n",
       "      <td>NaN</td>\n",
       "      <td>NaN</td>\n",
       "    </tr>\n",
       "    <tr>\n",
       "      <th>8787</th>\n",
       "      <td>NaN</td>\n",
       "      <td>NaN</td>\n",
       "    </tr>\n",
       "    <tr>\n",
       "      <th>8788</th>\n",
       "      <td>NaN</td>\n",
       "      <td>NaN</td>\n",
       "    </tr>\n",
       "  </tbody>\n",
       "</table>\n",
       "<p>8789 rows × 2 columns</p>\n",
       "</div>"
      ],
      "text/plain": [
       "     4G/ LTE 1 3G 1\n",
       "0          Yes  Yes\n",
       "1          Yes  Yes\n",
       "2          Yes  Yes\n",
       "3          Yes  Yes\n",
       "4          Yes  Yes\n",
       "...        ...  ...\n",
       "8784       NaN  NaN\n",
       "8785       NaN  NaN\n",
       "8786       NaN  NaN\n",
       "8787       NaN  NaN\n",
       "8788       NaN  NaN\n",
       "\n",
       "[8789 rows x 2 columns]"
      ]
     },
     "execution_count": 151,
     "metadata": {},
     "output_type": "execute_result"
    }
   ],
   "source": [
    "df[['4G/ LTE 1','3G 1']]"
   ]
  },
  {
   "cell_type": "code",
   "execution_count": 152,
   "id": "f55534f3",
   "metadata": {},
   "outputs": [
    {
     "data": {
      "text/plain": [
       "4G/ LTE 1    2465\n",
       "3G 1         2575\n",
       "dtype: int64"
      ]
     },
     "execution_count": 152,
     "metadata": {},
     "output_type": "execute_result"
    }
   ],
   "source": [
    "df[['4G/ LTE 1','3G 1']].isna().sum()"
   ]
  },
  {
   "cell_type": "code",
   "execution_count": 153,
   "id": "2c70d2c9",
   "metadata": {},
   "outputs": [
    {
     "name": "stdout",
     "output_type": "stream",
     "text": [
      "8789\n",
      "2427\n",
      "5341\n",
      "852\n"
     ]
    }
   ],
   "source": [
    "netyp=[]\n",
    "for i in range(8789):\n",
    "    if df['4G/ LTE 1'][i]=='Yes' or df['4G/ LTE 2'][i]=='Yes':\n",
    "        netyp.append('4G')\n",
    "    elif df['3G 1'][i]=='Yes' or df['3G 2'][i]=='Yes':\n",
    "        netyp.append('3G')\n",
    "    elif df['3G 1'][i]=='No':\n",
    "        netyp.append('E')\n",
    "    else:\n",
    "        netyp.append(np.nan)\n",
    "print(len(netyp))\n",
    "print(netyp.count(np.nan))\n",
    "print(netyp.count('4G'))\n",
    "print(netyp.count('3G'))"
   ]
  },
  {
   "cell_type": "markdown",
   "id": "e6a6be8d",
   "metadata": {},
   "source": [
    "# SIM Type"
   ]
  },
  {
   "cell_type": "code",
   "execution_count": 154,
   "id": "b5431cce",
   "metadata": {},
   "outputs": [
    {
     "data": {
      "text/plain": [
       "list"
      ]
     },
     "execution_count": 154,
     "metadata": {},
     "output_type": "execute_result"
    }
   ],
   "source": [
    "simty=list(df['SIM Type 1'])\n",
    "type(simty)"
   ]
  },
  {
   "cell_type": "code",
   "execution_count": 155,
   "id": "1ffbee00",
   "metadata": {},
   "outputs": [
    {
     "data": {
      "text/plain": [
       "array(['Nano-SIM', 'Micro-SIM', nan, 'Regular'], dtype=object)"
      ]
     },
     "execution_count": 155,
     "metadata": {},
     "output_type": "execute_result"
    }
   ],
   "source": [
    "df['SIM Type 1'].unique()"
   ]
  },
  {
   "cell_type": "code",
   "execution_count": 156,
   "id": "d7294810",
   "metadata": {},
   "outputs": [
    {
     "data": {
      "text/plain": [
       "SIM Type 1\n",
       "Nano-SIM     4320\n",
       "Micro-SIM    1076\n",
       "Regular       755\n",
       "Name: count, dtype: int64"
      ]
     },
     "execution_count": 156,
     "metadata": {},
     "output_type": "execute_result"
    }
   ],
   "source": [
    "df['SIM Type 1'].value_counts()"
   ]
  },
  {
   "cell_type": "code",
   "execution_count": 157,
   "id": "9458d787",
   "metadata": {},
   "outputs": [
    {
     "data": {
      "text/plain": [
       "2638"
      ]
     },
     "execution_count": 157,
     "metadata": {},
     "output_type": "execute_result"
    }
   ],
   "source": [
    "df['SIM Type 1'].isna().sum()"
   ]
  },
  {
   "cell_type": "markdown",
   "id": "dda0d30c",
   "metadata": {},
   "source": [
    "# GSM/CDMA "
   ]
  },
  {
   "cell_type": "code",
   "execution_count": 158,
   "id": "aeefad7a",
   "metadata": {},
   "outputs": [
    {
     "data": {
      "text/plain": [
       "list"
      ]
     },
     "execution_count": 158,
     "metadata": {},
     "output_type": "execute_result"
    }
   ],
   "source": [
    "gsmcd=list(df['GSM/CDMA 1'])\n",
    "type(gsmcd)"
   ]
  },
  {
   "cell_type": "code",
   "execution_count": 159,
   "id": "6dc91bae",
   "metadata": {},
   "outputs": [
    {
     "data": {
      "text/plain": [
       "array(['GSM', nan, 'GSM + CDMA', 'CDMA'], dtype=object)"
      ]
     },
     "execution_count": 159,
     "metadata": {},
     "output_type": "execute_result"
    }
   ],
   "source": [
    "df['GSM/CDMA 1'].unique()"
   ]
  },
  {
   "cell_type": "code",
   "execution_count": 160,
   "id": "ff035e82",
   "metadata": {},
   "outputs": [
    {
     "data": {
      "text/plain": [
       "GSM/CDMA 1\n",
       "GSM           6041\n",
       "GSM + CDMA      39\n",
       "CDMA             5\n",
       "Name: count, dtype: int64"
      ]
     },
     "execution_count": 160,
     "metadata": {},
     "output_type": "execute_result"
    }
   ],
   "source": [
    "df['GSM/CDMA 1'].value_counts()"
   ]
  },
  {
   "cell_type": "code",
   "execution_count": 161,
   "id": "dee1ad45",
   "metadata": {},
   "outputs": [
    {
     "data": {
      "text/plain": [
       "2704"
      ]
     },
     "execution_count": 161,
     "metadata": {},
     "output_type": "execute_result"
    }
   ],
   "source": [
    "df['GSM/CDMA 1'].isna().sum()"
   ]
  },
  {
   "cell_type": "markdown",
   "id": "4f495636",
   "metadata": {},
   "source": [
    "# Expandable storage up to (GB)"
   ]
  },
  {
   "cell_type": "code",
   "execution_count": 162,
   "id": "884b13d6",
   "metadata": {},
   "outputs": [
    {
     "data": {
      "text/plain": [
       "0       256\n",
       "1       256\n",
       "2       256\n",
       "3       256\n",
       "4       256\n",
       "       ... \n",
       "8784    NaN\n",
       "8785    NaN\n",
       "8786    NaN\n",
       "8787    NaN\n",
       "8788    NaN\n",
       "Name: Expandable storage up to (GB), Length: 8789, dtype: object"
      ]
     },
     "execution_count": 162,
     "metadata": {},
     "output_type": "execute_result"
    }
   ],
   "source": [
    "df['Expandable storage up to (GB)']"
   ]
  },
  {
   "cell_type": "code",
   "execution_count": 163,
   "id": "7af52ee3",
   "metadata": {},
   "outputs": [
    {
     "data": {
      "text/plain": [
       "array(['256', '128', nan, '1TB', '1000', '512', '400', '2TB', '1024',\n",
       "       '2000', '200', '64', '32', '256GB', '16', '4', '1298', '1000000',\n",
       "       '8', '32GB', '2048', '200000', '500', '512GB', '128GB'],\n",
       "      dtype=object)"
      ]
     },
     "execution_count": 163,
     "metadata": {},
     "output_type": "execute_result"
    }
   ],
   "source": [
    "df['Expandable storage up to (GB)'].unique()"
   ]
  },
  {
   "cell_type": "code",
   "execution_count": 164,
   "id": "eb92dd62",
   "metadata": {},
   "outputs": [
    {
     "data": {
      "text/plain": [
       "Expandable storage up to (GB)\n",
       "32         1405\n",
       "128        1154\n",
       "256        1127\n",
       "512         687\n",
       "1000        568\n",
       "64          345\n",
       "2000        217\n",
       "1024        113\n",
       "200          80\n",
       "400          63\n",
       "1TB          38\n",
       "16           20\n",
       "500           9\n",
       "2TB           8\n",
       "256GB         7\n",
       "8             6\n",
       "2048          6\n",
       "1000000       4\n",
       "4             3\n",
       "128GB         3\n",
       "512GB         2\n",
       "1298          1\n",
       "32GB          1\n",
       "200000        1\n",
       "Name: count, dtype: int64"
      ]
     },
     "execution_count": 164,
     "metadata": {},
     "output_type": "execute_result"
    }
   ],
   "source": [
    "df['Expandable storage up to (GB)'].value_counts()"
   ]
  },
  {
   "cell_type": "code",
   "execution_count": 165,
   "id": "eba1dbd0",
   "metadata": {},
   "outputs": [
    {
     "data": {
      "text/plain": [
       "2921"
      ]
     },
     "execution_count": 165,
     "metadata": {},
     "output_type": "execute_result"
    }
   ],
   "source": [
    "df['Expandable storage up to (GB)'].isna().sum()"
   ]
  },
  {
   "cell_type": "code",
   "execution_count": 166,
   "id": "4931c0e8",
   "metadata": {},
   "outputs": [
    {
     "name": "stdout",
     "output_type": "stream",
     "text": [
      "8789\n",
      "2921\n"
     ]
    }
   ],
   "source": [
    "stex=[]\n",
    "for x in df['Expandable storage up to (GB)']:\n",
    "    try:\n",
    "        stex.append(int(x))\n",
    "    except:\n",
    "        if 'GB' in str(x):\n",
    "            stex.append(int(str(x).rstrip('GB')))\n",
    "        elif 'TB' in str(x):\n",
    "            stex.append(int(str(x).rstrip('TB'))*1024)\n",
    "        else:\n",
    "            stex.append(x)\n",
    "print(len(stex))\n",
    "print(stex.count(np.nan))"
   ]
  },
  {
   "cell_type": "markdown",
   "id": "614edcf2",
   "metadata": {},
   "source": [
    "# Creating a dictionary for dataframe creation"
   ]
  },
  {
   "cell_type": "code",
   "execution_count": 167,
   "id": "0913ef79",
   "metadata": {},
   "outputs": [],
   "source": [
    "dfdict={\n",
    "    'Brand':Brand,\n",
    "    'no_of_rear_camera':rcc,\n",
    "    'rear_camera_1_pixels':rc[0],\n",
    "    'rear_camera_2_pixels':rc[1],\n",
    "    'rear_camera_3_pixels':rc[2],\n",
    "    'rear_camera_4_pixels':rc[3],\n",
    "    'rear_camera_5_pixels':rc[4],\n",
    "    'no_of_front_camera':fcc,\n",
    "    'front_camera_1_pixels':fc[0],\n",
    "    'front_camera_2_pixels':fc[1],\n",
    "    'Release_year':year,\n",
    "    'Screen-size':sc,\n",
    "    'operationg_system':os,\n",
    "    'Internal_storage(GB)':ins,\n",
    "    'WiFi':wifi,\n",
    "    'Bluetooth':blu,\n",
    "    'Battery(mah)':battery,\n",
    "    'RAM':RAM,\n",
    "    'Touchscreen':ts,\n",
    "    'Form-factor':ff,\n",
    "    'Processor':proces,\n",
    "    'GPS':gps,\n",
    "    'Resolution':res,\n",
    "    'Accelerometer':acc,\n",
    "    'Proximity_sensor':ps,\n",
    "    'Ambient_light_sensor':als,\n",
    "    'Expandable_storage':es,\n",
    "    'Rear_flash':rf,\n",
    "    'Proceesor_make':prom,\n",
    "    'Height':dims[0],\n",
    "    'Breadth':dims[1],\n",
    "    'Width':dims[2],\n",
    "    'Price_in_India':cost,\n",
    "    'Weight':wt,\n",
    "    'Compass/magnetometer':compmag,\n",
    "    'Headphones':hdp,\n",
    "    'Gyroscope':gyro,\n",
    "    'Expandable_storage_type':est,\n",
    "    '4G_or_3G':netyp,\n",
    "    'Simtype':simty,\n",
    "    'GSM/CDMA':gsmcd,\n",
    "    'Expandable_storage(GB)':stex\n",
    "}"
   ]
  },
  {
   "cell_type": "markdown",
   "id": "1db6e8e4",
   "metadata": {},
   "source": [
    "# Creating the data frame"
   ]
  },
  {
   "cell_type": "code",
   "execution_count": 168,
   "id": "fe20e72c",
   "metadata": {},
   "outputs": [
    {
     "data": {
      "text/html": [
       "<div>\n",
       "<style scoped>\n",
       "    .dataframe tbody tr th:only-of-type {\n",
       "        vertical-align: middle;\n",
       "    }\n",
       "\n",
       "    .dataframe tbody tr th {\n",
       "        vertical-align: top;\n",
       "    }\n",
       "\n",
       "    .dataframe thead th {\n",
       "        text-align: right;\n",
       "    }\n",
       "</style>\n",
       "<table border=\"1\" class=\"dataframe\">\n",
       "  <thead>\n",
       "    <tr style=\"text-align: right;\">\n",
       "      <th></th>\n",
       "      <th>Brand</th>\n",
       "      <th>no_of_rear_camera</th>\n",
       "      <th>rear_camera_1_pixels</th>\n",
       "      <th>rear_camera_2_pixels</th>\n",
       "      <th>rear_camera_3_pixels</th>\n",
       "      <th>rear_camera_4_pixels</th>\n",
       "      <th>rear_camera_5_pixels</th>\n",
       "      <th>no_of_front_camera</th>\n",
       "      <th>front_camera_1_pixels</th>\n",
       "      <th>front_camera_2_pixels</th>\n",
       "      <th>...</th>\n",
       "      <th>Price_in_India</th>\n",
       "      <th>Weight</th>\n",
       "      <th>Compass/magnetometer</th>\n",
       "      <th>Headphones</th>\n",
       "      <th>Gyroscope</th>\n",
       "      <th>Expandable_storage_type</th>\n",
       "      <th>4G_or_3G</th>\n",
       "      <th>Simtype</th>\n",
       "      <th>GSM/CDMA</th>\n",
       "      <th>Expandable_storage(GB)</th>\n",
       "    </tr>\n",
       "  </thead>\n",
       "  <tbody>\n",
       "    <tr>\n",
       "      <th>0</th>\n",
       "      <td>Vivo</td>\n",
       "      <td>2</td>\n",
       "      <td>12.0</td>\n",
       "      <td>5.0</td>\n",
       "      <td>NaN</td>\n",
       "      <td>NaN</td>\n",
       "      <td>NaN</td>\n",
       "      <td>1</td>\n",
       "      <td>25.0</td>\n",
       "      <td>NaN</td>\n",
       "      <td>...</td>\n",
       "      <td>24999.0</td>\n",
       "      <td>156.0</td>\n",
       "      <td>Yes</td>\n",
       "      <td>Yes</td>\n",
       "      <td>Yes</td>\n",
       "      <td>microSD</td>\n",
       "      <td>4G</td>\n",
       "      <td>Nano-SIM</td>\n",
       "      <td>GSM</td>\n",
       "      <td>256.0</td>\n",
       "    </tr>\n",
       "    <tr>\n",
       "      <th>1</th>\n",
       "      <td>Vivo</td>\n",
       "      <td>2</td>\n",
       "      <td>12.0</td>\n",
       "      <td>5.0</td>\n",
       "      <td>NaN</td>\n",
       "      <td>NaN</td>\n",
       "      <td>NaN</td>\n",
       "      <td>1</td>\n",
       "      <td>25.0</td>\n",
       "      <td>NaN</td>\n",
       "      <td>...</td>\n",
       "      <td>28990.0</td>\n",
       "      <td>156.0</td>\n",
       "      <td>Yes</td>\n",
       "      <td>Yes</td>\n",
       "      <td>Yes</td>\n",
       "      <td>microSD</td>\n",
       "      <td>4G</td>\n",
       "      <td>Nano-SIM</td>\n",
       "      <td>GSM</td>\n",
       "      <td>256.0</td>\n",
       "    </tr>\n",
       "    <tr>\n",
       "      <th>2</th>\n",
       "      <td>Vivo</td>\n",
       "      <td>2</td>\n",
       "      <td>12.0</td>\n",
       "      <td>5.0</td>\n",
       "      <td>NaN</td>\n",
       "      <td>NaN</td>\n",
       "      <td>NaN</td>\n",
       "      <td>1</td>\n",
       "      <td>25.0</td>\n",
       "      <td>NaN</td>\n",
       "      <td>...</td>\n",
       "      <td>27490.0</td>\n",
       "      <td>156.0</td>\n",
       "      <td>Yes</td>\n",
       "      <td>Yes</td>\n",
       "      <td>Yes</td>\n",
       "      <td>microSD</td>\n",
       "      <td>4G</td>\n",
       "      <td>Nano-SIM</td>\n",
       "      <td>GSM</td>\n",
       "      <td>256.0</td>\n",
       "    </tr>\n",
       "    <tr>\n",
       "      <th>3</th>\n",
       "      <td>Realme</td>\n",
       "      <td>3</td>\n",
       "      <td>48.0</td>\n",
       "      <td>8.0</td>\n",
       "      <td>2.0</td>\n",
       "      <td>NaN</td>\n",
       "      <td>NaN</td>\n",
       "      <td>1</td>\n",
       "      <td>16.0</td>\n",
       "      <td>NaN</td>\n",
       "      <td>...</td>\n",
       "      <td>16990.0</td>\n",
       "      <td>194.0</td>\n",
       "      <td>Yes</td>\n",
       "      <td>Yes</td>\n",
       "      <td>Yes</td>\n",
       "      <td>microSD</td>\n",
       "      <td>4G</td>\n",
       "      <td>Nano-SIM</td>\n",
       "      <td>GSM</td>\n",
       "      <td>256.0</td>\n",
       "    </tr>\n",
       "    <tr>\n",
       "      <th>4</th>\n",
       "      <td>Realme</td>\n",
       "      <td>3</td>\n",
       "      <td>48.0</td>\n",
       "      <td>8.0</td>\n",
       "      <td>2.0</td>\n",
       "      <td>NaN</td>\n",
       "      <td>NaN</td>\n",
       "      <td>1</td>\n",
       "      <td>16.0</td>\n",
       "      <td>NaN</td>\n",
       "      <td>...</td>\n",
       "      <td>19999.0</td>\n",
       "      <td>194.0</td>\n",
       "      <td>Yes</td>\n",
       "      <td>Yes</td>\n",
       "      <td>Yes</td>\n",
       "      <td>microSD</td>\n",
       "      <td>4G</td>\n",
       "      <td>Nano-SIM</td>\n",
       "      <td>GSM</td>\n",
       "      <td>256.0</td>\n",
       "    </tr>\n",
       "    <tr>\n",
       "      <th>...</th>\n",
       "      <td>...</td>\n",
       "      <td>...</td>\n",
       "      <td>...</td>\n",
       "      <td>...</td>\n",
       "      <td>...</td>\n",
       "      <td>...</td>\n",
       "      <td>...</td>\n",
       "      <td>...</td>\n",
       "      <td>...</td>\n",
       "      <td>...</td>\n",
       "      <td>...</td>\n",
       "      <td>...</td>\n",
       "      <td>...</td>\n",
       "      <td>...</td>\n",
       "      <td>...</td>\n",
       "      <td>...</td>\n",
       "      <td>...</td>\n",
       "      <td>...</td>\n",
       "      <td>...</td>\n",
       "      <td>...</td>\n",
       "      <td>...</td>\n",
       "    </tr>\n",
       "    <tr>\n",
       "      <th>8784</th>\n",
       "      <td>iQOO</td>\n",
       "      <td>0</td>\n",
       "      <td>NaN</td>\n",
       "      <td>NaN</td>\n",
       "      <td>NaN</td>\n",
       "      <td>NaN</td>\n",
       "      <td>NaN</td>\n",
       "      <td>0</td>\n",
       "      <td>NaN</td>\n",
       "      <td>NaN</td>\n",
       "      <td>...</td>\n",
       "      <td>NaN</td>\n",
       "      <td>NaN</td>\n",
       "      <td>NaN</td>\n",
       "      <td>NaN</td>\n",
       "      <td>NaN</td>\n",
       "      <td>NaN</td>\n",
       "      <td>NaN</td>\n",
       "      <td>NaN</td>\n",
       "      <td>NaN</td>\n",
       "      <td>NaN</td>\n",
       "    </tr>\n",
       "    <tr>\n",
       "      <th>8785</th>\n",
       "      <td>Xiaomi</td>\n",
       "      <td>1</td>\n",
       "      <td>NaN</td>\n",
       "      <td>NaN</td>\n",
       "      <td>NaN</td>\n",
       "      <td>NaN</td>\n",
       "      <td>NaN</td>\n",
       "      <td>0</td>\n",
       "      <td>NaN</td>\n",
       "      <td>NaN</td>\n",
       "      <td>...</td>\n",
       "      <td>NaN</td>\n",
       "      <td>NaN</td>\n",
       "      <td>NaN</td>\n",
       "      <td>NaN</td>\n",
       "      <td>NaN</td>\n",
       "      <td>NaN</td>\n",
       "      <td>NaN</td>\n",
       "      <td>NaN</td>\n",
       "      <td>NaN</td>\n",
       "      <td>NaN</td>\n",
       "    </tr>\n",
       "    <tr>\n",
       "      <th>8786</th>\n",
       "      <td>Alcatel</td>\n",
       "      <td>3</td>\n",
       "      <td>13.0</td>\n",
       "      <td>2.0</td>\n",
       "      <td>2.0</td>\n",
       "      <td>NaN</td>\n",
       "      <td>NaN</td>\n",
       "      <td>1</td>\n",
       "      <td>NaN</td>\n",
       "      <td>NaN</td>\n",
       "      <td>...</td>\n",
       "      <td>NaN</td>\n",
       "      <td>NaN</td>\n",
       "      <td>NaN</td>\n",
       "      <td>NaN</td>\n",
       "      <td>NaN</td>\n",
       "      <td>NaN</td>\n",
       "      <td>NaN</td>\n",
       "      <td>NaN</td>\n",
       "      <td>NaN</td>\n",
       "      <td>NaN</td>\n",
       "    </tr>\n",
       "    <tr>\n",
       "      <th>8787</th>\n",
       "      <td>Redmi</td>\n",
       "      <td>3</td>\n",
       "      <td>108.0</td>\n",
       "      <td>8.0</td>\n",
       "      <td>2.0</td>\n",
       "      <td>NaN</td>\n",
       "      <td>NaN</td>\n",
       "      <td>1</td>\n",
       "      <td>20.0</td>\n",
       "      <td>NaN</td>\n",
       "      <td>...</td>\n",
       "      <td>NaN</td>\n",
       "      <td>NaN</td>\n",
       "      <td>NaN</td>\n",
       "      <td>NaN</td>\n",
       "      <td>NaN</td>\n",
       "      <td>NaN</td>\n",
       "      <td>NaN</td>\n",
       "      <td>NaN</td>\n",
       "      <td>NaN</td>\n",
       "      <td>NaN</td>\n",
       "    </tr>\n",
       "    <tr>\n",
       "      <th>8788</th>\n",
       "      <td>Vivo</td>\n",
       "      <td>1</td>\n",
       "      <td>NaN</td>\n",
       "      <td>NaN</td>\n",
       "      <td>NaN</td>\n",
       "      <td>NaN</td>\n",
       "      <td>NaN</td>\n",
       "      <td>0</td>\n",
       "      <td>NaN</td>\n",
       "      <td>NaN</td>\n",
       "      <td>...</td>\n",
       "      <td>NaN</td>\n",
       "      <td>NaN</td>\n",
       "      <td>NaN</td>\n",
       "      <td>NaN</td>\n",
       "      <td>NaN</td>\n",
       "      <td>NaN</td>\n",
       "      <td>NaN</td>\n",
       "      <td>NaN</td>\n",
       "      <td>NaN</td>\n",
       "      <td>NaN</td>\n",
       "    </tr>\n",
       "  </tbody>\n",
       "</table>\n",
       "<p>8789 rows × 42 columns</p>\n",
       "</div>"
      ],
      "text/plain": [
       "        Brand  no_of_rear_camera  rear_camera_1_pixels  rear_camera_2_pixels  \\\n",
       "0        Vivo                  2                  12.0                   5.0   \n",
       "1        Vivo                  2                  12.0                   5.0   \n",
       "2        Vivo                  2                  12.0                   5.0   \n",
       "3      Realme                  3                  48.0                   8.0   \n",
       "4      Realme                  3                  48.0                   8.0   \n",
       "...       ...                ...                   ...                   ...   \n",
       "8784     iQOO                  0                   NaN                   NaN   \n",
       "8785   Xiaomi                  1                   NaN                   NaN   \n",
       "8786  Alcatel                  3                  13.0                   2.0   \n",
       "8787    Redmi                  3                 108.0                   8.0   \n",
       "8788     Vivo                  1                   NaN                   NaN   \n",
       "\n",
       "      rear_camera_3_pixels  rear_camera_4_pixels  rear_camera_5_pixels  \\\n",
       "0                      NaN                   NaN                   NaN   \n",
       "1                      NaN                   NaN                   NaN   \n",
       "2                      NaN                   NaN                   NaN   \n",
       "3                      2.0                   NaN                   NaN   \n",
       "4                      2.0                   NaN                   NaN   \n",
       "...                    ...                   ...                   ...   \n",
       "8784                   NaN                   NaN                   NaN   \n",
       "8785                   NaN                   NaN                   NaN   \n",
       "8786                   2.0                   NaN                   NaN   \n",
       "8787                   2.0                   NaN                   NaN   \n",
       "8788                   NaN                   NaN                   NaN   \n",
       "\n",
       "      no_of_front_camera  front_camera_1_pixels  front_camera_2_pixels  ...  \\\n",
       "0                      1                   25.0                    NaN  ...   \n",
       "1                      1                   25.0                    NaN  ...   \n",
       "2                      1                   25.0                    NaN  ...   \n",
       "3                      1                   16.0                    NaN  ...   \n",
       "4                      1                   16.0                    NaN  ...   \n",
       "...                  ...                    ...                    ...  ...   \n",
       "8784                   0                    NaN                    NaN  ...   \n",
       "8785                   0                    NaN                    NaN  ...   \n",
       "8786                   1                    NaN                    NaN  ...   \n",
       "8787                   1                   20.0                    NaN  ...   \n",
       "8788                   0                    NaN                    NaN  ...   \n",
       "\n",
       "      Price_in_India  Weight Compass/magnetometer  Headphones Gyroscope  \\\n",
       "0            24999.0   156.0                  Yes         Yes       Yes   \n",
       "1            28990.0   156.0                  Yes         Yes       Yes   \n",
       "2            27490.0   156.0                  Yes         Yes       Yes   \n",
       "3            16990.0   194.0                  Yes         Yes       Yes   \n",
       "4            19999.0   194.0                  Yes         Yes       Yes   \n",
       "...              ...     ...                  ...         ...       ...   \n",
       "8784             NaN     NaN                  NaN         NaN       NaN   \n",
       "8785             NaN     NaN                  NaN         NaN       NaN   \n",
       "8786             NaN     NaN                  NaN         NaN       NaN   \n",
       "8787             NaN     NaN                  NaN         NaN       NaN   \n",
       "8788             NaN     NaN                  NaN         NaN       NaN   \n",
       "\n",
       "     Expandable_storage_type  4G_or_3G   Simtype GSM/CDMA  \\\n",
       "0                    microSD        4G  Nano-SIM      GSM   \n",
       "1                    microSD        4G  Nano-SIM      GSM   \n",
       "2                    microSD        4G  Nano-SIM      GSM   \n",
       "3                    microSD        4G  Nano-SIM      GSM   \n",
       "4                    microSD        4G  Nano-SIM      GSM   \n",
       "...                      ...       ...       ...      ...   \n",
       "8784                     NaN       NaN       NaN      NaN   \n",
       "8785                     NaN       NaN       NaN      NaN   \n",
       "8786                     NaN       NaN       NaN      NaN   \n",
       "8787                     NaN       NaN       NaN      NaN   \n",
       "8788                     NaN       NaN       NaN      NaN   \n",
       "\n",
       "     Expandable_storage(GB)  \n",
       "0                     256.0  \n",
       "1                     256.0  \n",
       "2                     256.0  \n",
       "3                     256.0  \n",
       "4                     256.0  \n",
       "...                     ...  \n",
       "8784                    NaN  \n",
       "8785                    NaN  \n",
       "8786                    NaN  \n",
       "8787                    NaN  \n",
       "8788                    NaN  \n",
       "\n",
       "[8789 rows x 42 columns]"
      ]
     },
     "execution_count": 168,
     "metadata": {},
     "output_type": "execute_result"
    }
   ],
   "source": [
    "newdf=pd.DataFrame(dfdict)\n",
    "newdf"
   ]
  },
  {
   "cell_type": "code",
   "execution_count": 169,
   "id": "5dda6e66",
   "metadata": {},
   "outputs": [
    {
     "data": {
      "text/html": [
       "<div>\n",
       "<style scoped>\n",
       "    .dataframe tbody tr th:only-of-type {\n",
       "        vertical-align: middle;\n",
       "    }\n",
       "\n",
       "    .dataframe tbody tr th {\n",
       "        vertical-align: top;\n",
       "    }\n",
       "\n",
       "    .dataframe thead th {\n",
       "        text-align: right;\n",
       "    }\n",
       "</style>\n",
       "<table border=\"1\" class=\"dataframe\">\n",
       "  <thead>\n",
       "    <tr style=\"text-align: right;\">\n",
       "      <th></th>\n",
       "      <th>Brand</th>\n",
       "      <th>no_of_rear_camera</th>\n",
       "      <th>rear_camera_1_pixels</th>\n",
       "      <th>rear_camera_2_pixels</th>\n",
       "      <th>rear_camera_3_pixels</th>\n",
       "      <th>rear_camera_4_pixels</th>\n",
       "      <th>rear_camera_5_pixels</th>\n",
       "      <th>no_of_front_camera</th>\n",
       "      <th>front_camera_1_pixels</th>\n",
       "      <th>front_camera_2_pixels</th>\n",
       "      <th>...</th>\n",
       "      <th>Price_in_India</th>\n",
       "      <th>Weight</th>\n",
       "      <th>Compass/magnetometer</th>\n",
       "      <th>Headphones</th>\n",
       "      <th>Gyroscope</th>\n",
       "      <th>Expandable_storage_type</th>\n",
       "      <th>4G_or_3G</th>\n",
       "      <th>Simtype</th>\n",
       "      <th>GSM/CDMA</th>\n",
       "      <th>Expandable_storage(GB)</th>\n",
       "    </tr>\n",
       "  </thead>\n",
       "  <tbody>\n",
       "    <tr>\n",
       "      <th>0</th>\n",
       "      <td>Vivo</td>\n",
       "      <td>2</td>\n",
       "      <td>12.0</td>\n",
       "      <td>5.0</td>\n",
       "      <td>NaN</td>\n",
       "      <td>NaN</td>\n",
       "      <td>NaN</td>\n",
       "      <td>1</td>\n",
       "      <td>25.0</td>\n",
       "      <td>NaN</td>\n",
       "      <td>...</td>\n",
       "      <td>24999.0</td>\n",
       "      <td>156.0</td>\n",
       "      <td>Yes</td>\n",
       "      <td>Yes</td>\n",
       "      <td>Yes</td>\n",
       "      <td>microSD</td>\n",
       "      <td>4G</td>\n",
       "      <td>Nano-SIM</td>\n",
       "      <td>GSM</td>\n",
       "      <td>256.0</td>\n",
       "    </tr>\n",
       "    <tr>\n",
       "      <th>1</th>\n",
       "      <td>Vivo</td>\n",
       "      <td>2</td>\n",
       "      <td>12.0</td>\n",
       "      <td>5.0</td>\n",
       "      <td>NaN</td>\n",
       "      <td>NaN</td>\n",
       "      <td>NaN</td>\n",
       "      <td>1</td>\n",
       "      <td>25.0</td>\n",
       "      <td>NaN</td>\n",
       "      <td>...</td>\n",
       "      <td>28990.0</td>\n",
       "      <td>156.0</td>\n",
       "      <td>Yes</td>\n",
       "      <td>Yes</td>\n",
       "      <td>Yes</td>\n",
       "      <td>microSD</td>\n",
       "      <td>4G</td>\n",
       "      <td>Nano-SIM</td>\n",
       "      <td>GSM</td>\n",
       "      <td>256.0</td>\n",
       "    </tr>\n",
       "    <tr>\n",
       "      <th>2</th>\n",
       "      <td>Vivo</td>\n",
       "      <td>2</td>\n",
       "      <td>12.0</td>\n",
       "      <td>5.0</td>\n",
       "      <td>NaN</td>\n",
       "      <td>NaN</td>\n",
       "      <td>NaN</td>\n",
       "      <td>1</td>\n",
       "      <td>25.0</td>\n",
       "      <td>NaN</td>\n",
       "      <td>...</td>\n",
       "      <td>27490.0</td>\n",
       "      <td>156.0</td>\n",
       "      <td>Yes</td>\n",
       "      <td>Yes</td>\n",
       "      <td>Yes</td>\n",
       "      <td>microSD</td>\n",
       "      <td>4G</td>\n",
       "      <td>Nano-SIM</td>\n",
       "      <td>GSM</td>\n",
       "      <td>256.0</td>\n",
       "    </tr>\n",
       "    <tr>\n",
       "      <th>3</th>\n",
       "      <td>Realme</td>\n",
       "      <td>3</td>\n",
       "      <td>48.0</td>\n",
       "      <td>8.0</td>\n",
       "      <td>2.0</td>\n",
       "      <td>NaN</td>\n",
       "      <td>NaN</td>\n",
       "      <td>1</td>\n",
       "      <td>16.0</td>\n",
       "      <td>NaN</td>\n",
       "      <td>...</td>\n",
       "      <td>16990.0</td>\n",
       "      <td>194.0</td>\n",
       "      <td>Yes</td>\n",
       "      <td>Yes</td>\n",
       "      <td>Yes</td>\n",
       "      <td>microSD</td>\n",
       "      <td>4G</td>\n",
       "      <td>Nano-SIM</td>\n",
       "      <td>GSM</td>\n",
       "      <td>256.0</td>\n",
       "    </tr>\n",
       "    <tr>\n",
       "      <th>4</th>\n",
       "      <td>Realme</td>\n",
       "      <td>3</td>\n",
       "      <td>48.0</td>\n",
       "      <td>8.0</td>\n",
       "      <td>2.0</td>\n",
       "      <td>NaN</td>\n",
       "      <td>NaN</td>\n",
       "      <td>1</td>\n",
       "      <td>16.0</td>\n",
       "      <td>NaN</td>\n",
       "      <td>...</td>\n",
       "      <td>19999.0</td>\n",
       "      <td>194.0</td>\n",
       "      <td>Yes</td>\n",
       "      <td>Yes</td>\n",
       "      <td>Yes</td>\n",
       "      <td>microSD</td>\n",
       "      <td>4G</td>\n",
       "      <td>Nano-SIM</td>\n",
       "      <td>GSM</td>\n",
       "      <td>256.0</td>\n",
       "    </tr>\n",
       "    <tr>\n",
       "      <th>...</th>\n",
       "      <td>...</td>\n",
       "      <td>...</td>\n",
       "      <td>...</td>\n",
       "      <td>...</td>\n",
       "      <td>...</td>\n",
       "      <td>...</td>\n",
       "      <td>...</td>\n",
       "      <td>...</td>\n",
       "      <td>...</td>\n",
       "      <td>...</td>\n",
       "      <td>...</td>\n",
       "      <td>...</td>\n",
       "      <td>...</td>\n",
       "      <td>...</td>\n",
       "      <td>...</td>\n",
       "      <td>...</td>\n",
       "      <td>...</td>\n",
       "      <td>...</td>\n",
       "      <td>...</td>\n",
       "      <td>...</td>\n",
       "      <td>...</td>\n",
       "    </tr>\n",
       "    <tr>\n",
       "      <th>8784</th>\n",
       "      <td>iQOO</td>\n",
       "      <td>0</td>\n",
       "      <td>NaN</td>\n",
       "      <td>NaN</td>\n",
       "      <td>NaN</td>\n",
       "      <td>NaN</td>\n",
       "      <td>NaN</td>\n",
       "      <td>0</td>\n",
       "      <td>NaN</td>\n",
       "      <td>NaN</td>\n",
       "      <td>...</td>\n",
       "      <td>NaN</td>\n",
       "      <td>NaN</td>\n",
       "      <td>NaN</td>\n",
       "      <td>NaN</td>\n",
       "      <td>NaN</td>\n",
       "      <td>NaN</td>\n",
       "      <td>NaN</td>\n",
       "      <td>NaN</td>\n",
       "      <td>NaN</td>\n",
       "      <td>NaN</td>\n",
       "    </tr>\n",
       "    <tr>\n",
       "      <th>8785</th>\n",
       "      <td>Xiaomi</td>\n",
       "      <td>1</td>\n",
       "      <td>NaN</td>\n",
       "      <td>NaN</td>\n",
       "      <td>NaN</td>\n",
       "      <td>NaN</td>\n",
       "      <td>NaN</td>\n",
       "      <td>0</td>\n",
       "      <td>NaN</td>\n",
       "      <td>NaN</td>\n",
       "      <td>...</td>\n",
       "      <td>NaN</td>\n",
       "      <td>NaN</td>\n",
       "      <td>NaN</td>\n",
       "      <td>NaN</td>\n",
       "      <td>NaN</td>\n",
       "      <td>NaN</td>\n",
       "      <td>NaN</td>\n",
       "      <td>NaN</td>\n",
       "      <td>NaN</td>\n",
       "      <td>NaN</td>\n",
       "    </tr>\n",
       "    <tr>\n",
       "      <th>8786</th>\n",
       "      <td>Alcatel</td>\n",
       "      <td>3</td>\n",
       "      <td>13.0</td>\n",
       "      <td>2.0</td>\n",
       "      <td>2.0</td>\n",
       "      <td>NaN</td>\n",
       "      <td>NaN</td>\n",
       "      <td>1</td>\n",
       "      <td>NaN</td>\n",
       "      <td>NaN</td>\n",
       "      <td>...</td>\n",
       "      <td>NaN</td>\n",
       "      <td>NaN</td>\n",
       "      <td>NaN</td>\n",
       "      <td>NaN</td>\n",
       "      <td>NaN</td>\n",
       "      <td>NaN</td>\n",
       "      <td>NaN</td>\n",
       "      <td>NaN</td>\n",
       "      <td>NaN</td>\n",
       "      <td>NaN</td>\n",
       "    </tr>\n",
       "    <tr>\n",
       "      <th>8787</th>\n",
       "      <td>Redmi</td>\n",
       "      <td>3</td>\n",
       "      <td>108.0</td>\n",
       "      <td>8.0</td>\n",
       "      <td>2.0</td>\n",
       "      <td>NaN</td>\n",
       "      <td>NaN</td>\n",
       "      <td>1</td>\n",
       "      <td>20.0</td>\n",
       "      <td>NaN</td>\n",
       "      <td>...</td>\n",
       "      <td>NaN</td>\n",
       "      <td>NaN</td>\n",
       "      <td>NaN</td>\n",
       "      <td>NaN</td>\n",
       "      <td>NaN</td>\n",
       "      <td>NaN</td>\n",
       "      <td>NaN</td>\n",
       "      <td>NaN</td>\n",
       "      <td>NaN</td>\n",
       "      <td>NaN</td>\n",
       "    </tr>\n",
       "    <tr>\n",
       "      <th>8788</th>\n",
       "      <td>Vivo</td>\n",
       "      <td>1</td>\n",
       "      <td>NaN</td>\n",
       "      <td>NaN</td>\n",
       "      <td>NaN</td>\n",
       "      <td>NaN</td>\n",
       "      <td>NaN</td>\n",
       "      <td>0</td>\n",
       "      <td>NaN</td>\n",
       "      <td>NaN</td>\n",
       "      <td>...</td>\n",
       "      <td>NaN</td>\n",
       "      <td>NaN</td>\n",
       "      <td>NaN</td>\n",
       "      <td>NaN</td>\n",
       "      <td>NaN</td>\n",
       "      <td>NaN</td>\n",
       "      <td>NaN</td>\n",
       "      <td>NaN</td>\n",
       "      <td>NaN</td>\n",
       "      <td>NaN</td>\n",
       "    </tr>\n",
       "  </tbody>\n",
       "</table>\n",
       "<p>8789 rows × 42 columns</p>\n",
       "</div>"
      ],
      "text/plain": [
       "        Brand  no_of_rear_camera  rear_camera_1_pixels  rear_camera_2_pixels  \\\n",
       "0        Vivo                  2                  12.0                   5.0   \n",
       "1        Vivo                  2                  12.0                   5.0   \n",
       "2        Vivo                  2                  12.0                   5.0   \n",
       "3      Realme                  3                  48.0                   8.0   \n",
       "4      Realme                  3                  48.0                   8.0   \n",
       "...       ...                ...                   ...                   ...   \n",
       "8784     iQOO                  0                   NaN                   NaN   \n",
       "8785   Xiaomi                  1                   NaN                   NaN   \n",
       "8786  Alcatel                  3                  13.0                   2.0   \n",
       "8787    Redmi                  3                 108.0                   8.0   \n",
       "8788     Vivo                  1                   NaN                   NaN   \n",
       "\n",
       "      rear_camera_3_pixels  rear_camera_4_pixels  rear_camera_5_pixels  \\\n",
       "0                      NaN                   NaN                   NaN   \n",
       "1                      NaN                   NaN                   NaN   \n",
       "2                      NaN                   NaN                   NaN   \n",
       "3                      2.0                   NaN                   NaN   \n",
       "4                      2.0                   NaN                   NaN   \n",
       "...                    ...                   ...                   ...   \n",
       "8784                   NaN                   NaN                   NaN   \n",
       "8785                   NaN                   NaN                   NaN   \n",
       "8786                   2.0                   NaN                   NaN   \n",
       "8787                   2.0                   NaN                   NaN   \n",
       "8788                   NaN                   NaN                   NaN   \n",
       "\n",
       "      no_of_front_camera  front_camera_1_pixels  front_camera_2_pixels  ...  \\\n",
       "0                      1                   25.0                    NaN  ...   \n",
       "1                      1                   25.0                    NaN  ...   \n",
       "2                      1                   25.0                    NaN  ...   \n",
       "3                      1                   16.0                    NaN  ...   \n",
       "4                      1                   16.0                    NaN  ...   \n",
       "...                  ...                    ...                    ...  ...   \n",
       "8784                   0                    NaN                    NaN  ...   \n",
       "8785                   0                    NaN                    NaN  ...   \n",
       "8786                   1                    NaN                    NaN  ...   \n",
       "8787                   1                   20.0                    NaN  ...   \n",
       "8788                   0                    NaN                    NaN  ...   \n",
       "\n",
       "      Price_in_India  Weight Compass/magnetometer  Headphones Gyroscope  \\\n",
       "0            24999.0   156.0                  Yes         Yes       Yes   \n",
       "1            28990.0   156.0                  Yes         Yes       Yes   \n",
       "2            27490.0   156.0                  Yes         Yes       Yes   \n",
       "3            16990.0   194.0                  Yes         Yes       Yes   \n",
       "4            19999.0   194.0                  Yes         Yes       Yes   \n",
       "...              ...     ...                  ...         ...       ...   \n",
       "8784             NaN     NaN                  NaN         NaN       NaN   \n",
       "8785             NaN     NaN                  NaN         NaN       NaN   \n",
       "8786             NaN     NaN                  NaN         NaN       NaN   \n",
       "8787             NaN     NaN                  NaN         NaN       NaN   \n",
       "8788             NaN     NaN                  NaN         NaN       NaN   \n",
       "\n",
       "     Expandable_storage_type  4G_or_3G   Simtype GSM/CDMA  \\\n",
       "0                    microSD        4G  Nano-SIM      GSM   \n",
       "1                    microSD        4G  Nano-SIM      GSM   \n",
       "2                    microSD        4G  Nano-SIM      GSM   \n",
       "3                    microSD        4G  Nano-SIM      GSM   \n",
       "4                    microSD        4G  Nano-SIM      GSM   \n",
       "...                      ...       ...       ...      ...   \n",
       "8784                     NaN       NaN       NaN      NaN   \n",
       "8785                     NaN       NaN       NaN      NaN   \n",
       "8786                     NaN       NaN       NaN      NaN   \n",
       "8787                     NaN       NaN       NaN      NaN   \n",
       "8788                     NaN       NaN       NaN      NaN   \n",
       "\n",
       "     Expandable_storage(GB)  \n",
       "0                     256.0  \n",
       "1                     256.0  \n",
       "2                     256.0  \n",
       "3                     256.0  \n",
       "4                     256.0  \n",
       "...                     ...  \n",
       "8784                    NaN  \n",
       "8785                    NaN  \n",
       "8786                    NaN  \n",
       "8787                    NaN  \n",
       "8788                    NaN  \n",
       "\n",
       "[8789 rows x 42 columns]"
      ]
     },
     "execution_count": 169,
     "metadata": {},
     "output_type": "execute_result"
    }
   ],
   "source": [
    "newdf"
   ]
  },
  {
   "cell_type": "markdown",
   "id": "a8d2089d",
   "metadata": {},
   "source": [
    "# Converting the data frame into csv file"
   ]
  },
  {
   "cell_type": "code",
   "execution_count": 170,
   "id": "7e31d7d6",
   "metadata": {},
   "outputs": [],
   "source": [
    "newdf.to_csv('mobilesdf.csv')"
   ]
  },
  {
   "cell_type": "code",
   "execution_count": null,
   "id": "ac24d800",
   "metadata": {},
   "outputs": [],
   "source": []
  }
 ],
 "metadata": {
  "kernelspec": {
   "display_name": "Python 3 (ipykernel)",
   "language": "python",
   "name": "python3"
  },
  "language_info": {
   "codemirror_mode": {
    "name": "ipython",
    "version": 3
   },
   "file_extension": ".py",
   "mimetype": "text/x-python",
   "name": "python",
   "nbconvert_exporter": "python",
   "pygments_lexer": "ipython3",
   "version": "3.11.4"
  }
 },
 "nbformat": 4,
 "nbformat_minor": 5
}
